{
 "cells": [
  {
   "cell_type": "code",
   "execution_count": 58,
   "metadata": {},
   "outputs": [],
   "source": [
    "import pandas as pd\n",
    "import numpy as np\n",
    "import re\n",
    "from langdetect import detect"
   ]
  },
  {
   "cell_type": "code",
   "execution_count": 2,
   "metadata": {},
   "outputs": [],
   "source": [
    "data = pd.read_csv(\"data/train.csv\")\n",
    "data = data[data['Language']=='en']"
   ]
  },
  {
   "cell_type": "code",
   "execution_count": 42,
   "metadata": {},
   "outputs": [],
   "source": [
    "data = data[data['Lyrics'].apply(lambda x: '\\n' in x)]"
   ]
  },
  {
   "cell_type": "code",
   "execution_count": 112,
   "metadata": {},
   "outputs": [
    {
     "data": {
      "text/plain": [
       "['Rock', 'Pop', 'Metal', 'Jazz', 'Folk', 'Indie', 'R&B', 'Electronic']"
      ]
     },
     "execution_count": 112,
     "metadata": {},
     "output_type": "execute_result"
    }
   ],
   "source": [
    "list(data['Genre'].value_counts().index)"
   ]
  },
  {
   "cell_type": "code",
   "execution_count": 116,
   "metadata": {},
   "outputs": [],
   "source": [
    "for g in list(data['Genre'].value_counts().index):\n",
    "    df = data[data['Genre']==g]\n",
    "    artist = np.array(df['Artist']).reshape(-1,1)\n",
    "    genre = np.array(df['Genre']).reshape(-1,1)\n",
    "    lyrics = np.array(df['Lyrics']).reshape(-1,1)\n",
    "\n",
    "    out = np.hstack((artist, genre, lyrics))\n",
    "    file_path = 'data/'+g+'_train.npy'\n",
    "    np.save(file_path, out)"
   ]
  },
  {
   "cell_type": "code",
   "execution_count": 105,
   "metadata": {},
   "outputs": [],
   "source": [
    "artist = np.array(rnb['Artist']).reshape(-1,1)\n",
    "genre = np.array(rnb['Genre']).reshape(-1,1)\n",
    "lyrics = np.array(rnb['Lyrics']).reshape(-1,1)\n",
    "\n",
    "rnb_out = np.hstack((artist, genre, lyrics))\n",
    "np.save('data/rnb_train.npy', rnb_out)"
   ]
  },
  {
   "cell_type": "code",
   "execution_count": 93,
   "metadata": {},
   "outputs": [
    {
     "data": {
      "text/plain": [
       "'en'"
      ]
     },
     "execution_count": 93,
     "metadata": {},
     "output_type": "execute_result"
    }
   ],
   "source": [
    "detect(rnb['Lyrics'].iloc[0])"
   ]
  },
  {
   "cell_type": "code",
   "execution_count": 90,
   "metadata": {},
   "outputs": [
    {
     "name": "stderr",
     "output_type": "stream",
     "text": [
      "/Users/haowei/opt/anaconda3/lib/python3.7/site-packages/ipykernel_launcher.py:1: SettingWithCopyWarning: \n",
      "A value is trying to be set on a copy of a slice from a DataFrame.\n",
      "Try using .loc[row_indexer,col_indexer] = value instead\n",
      "\n",
      "See the caveats in the documentation: https://pandas.pydata.org/pandas-docs/stable/user_guide/indexing.html#returning-a-view-versus-a-copy\n",
      "  \"\"\"Entry point for launching an IPython kernel.\n"
     ]
    }
   ],
   "source": [
    "rnb['detect_lang'] = rnb['Lyrics'].apply(lambda x: detect(x[:50]))"
   ]
  },
  {
   "cell_type": "code",
   "execution_count": 80,
   "metadata": {},
   "outputs": [
    {
     "data": {
      "text/plain": [
       "Rock          103721\n",
       "Pop            83620\n",
       "Metal          17207\n",
       "Jazz           11760\n",
       "Folk            7023\n",
       "Indie           6033\n",
       "R&B             1575\n",
       "Electronic       462\n",
       "Name: Genre, dtype: int64"
      ]
     },
     "execution_count": 80,
     "metadata": {},
     "output_type": "execute_result"
    }
   ],
   "source": [
    "data['Genre'].value_counts()"
   ]
  },
  {
   "cell_type": "code",
   "execution_count": 87,
   "metadata": {},
   "outputs": [
    {
     "data": {
      "text/plain": [
       "Pop    68\n",
       "Name: Genre, dtype: int64"
      ]
     },
     "execution_count": 87,
     "metadata": {},
     "output_type": "execute_result"
    }
   ],
   "source": [
    "data[data['Artist']=='super junior']['Genre'].value_counts()"
   ]
  },
  {
   "cell_type": "code",
   "execution_count": 44,
   "metadata": {},
   "outputs": [],
   "source": [
    "temp = data.groupby(['Artist', 'Genre']).count()\n",
    "temp.reset_index(inplace=True)\n",
    "temp['Artist'].value_counts().head(20)"
   ]
  },
  {
   "cell_type": "code",
   "execution_count": 11,
   "metadata": {},
   "outputs": [
    {
     "data": {
      "text/plain": [
       "Rock          107145\n",
       "Pop            86298\n",
       "Metal          19133\n",
       "Jazz           13314\n",
       "Folk            8169\n",
       "Indie           7240\n",
       "R&B             2765\n",
       "Hip-Hop         2238\n",
       "Electronic      2005\n",
       "Country         1890\n",
       "Name: Genre, dtype: int64"
      ]
     },
     "execution_count": 11,
     "metadata": {},
     "output_type": "execute_result"
    }
   ],
   "source": [
    "data['Genre'].value_counts()"
   ]
  },
  {
   "cell_type": "code",
   "execution_count": 38,
   "metadata": {},
   "outputs": [],
   "source": [
    "hiphop = data[data['Genre']=='Hip-Hop']\n",
    "rnb = data[data['Genre']=='R&B']"
   ]
  },
  {
   "cell_type": "code",
   "execution_count": 41,
   "metadata": {},
   "outputs": [
    {
     "data": {
      "text/plain": [
       "Series([], Name: Genre, dtype: int64)"
      ]
     },
     "execution_count": 41,
     "metadata": {},
     "output_type": "execute_result"
    }
   ],
   "source": [
    "data[data['Lyrics'].apply(lambda x: 'ARTIST:' in x)]['Genre'].value_counts()"
   ]
  },
  {
   "cell_type": "code",
   "execution_count": 39,
   "metadata": {},
   "outputs": [
    {
     "name": "stdout",
     "output_type": "stream",
     "text": [
      "\n",
      " \n",
      "\n",
      "so many people \n",
      "I know only a few \n",
      "yes I may say that I love this man \n",
      "and that man \n",
      "but what keeps me from loving you? \n",
      "date of birth  geography \n",
      "the color of my skin  ideology \n",
      "you got ten fingers  two legs  one nose \n",
      "like me \n",
      "just like me \n",
      "and it's as simple as that \n",
      "you see \n",
      "and if I don't know who to love \n",
      "I love them all \n",
      "and if I don't know who to trust \n",
      "I trust them all \n",
      "and if I don't know who to kill \n",
      "I may kill myself instead \n",
      "from the mouth of a baby \n",
      "will come the world-saving words \n",
      "that will save us all \n",
      "and from the lungs of a child \n",
      "will come the everlasting breath of god \n",
      "increasing peace and honesty \n",
      "and not carrying on despite of me \n",
      "don't you know \n",
      "this ain't about no race, no creed \n",
      "no race, no creed \n",
      "and it's as simple as that \n",
      "you see \n",
      "and if I don't know who to love \n",
      "I love them all \n",
      "and if I don't know who to trust \n",
      "I trust them all \n",
      "and if I don't know who to kill \n",
      "no suicide \n",
      "I'm already dead \n",
      "\n",
      "\n"
     ]
    }
   ],
   "source": [
    "print(rnb.iloc[20]['Lyrics'])"
   ]
  },
  {
   "cell_type": "code",
   "execution_count": 29,
   "metadata": {},
   "outputs": [],
   "source": [
    "lyrics = pd.read_csv(\"data/lyrics-data.csv\")"
   ]
  },
  {
   "cell_type": "code",
   "execution_count": 31,
   "metadata": {},
   "outputs": [
    {
     "name": "stdout",
     "output_type": "stream",
     "text": [
      "Take me now, baby, here as I am. Hold me close, and try and understand. Desire is hunger is the fire I breathe. Love is a banquet on which we feed. Come on now, try and understand. The way I feel under your command. Take my hand, as the sun descends. They can't hurt you now can't hurt you now, can't hurt you now. Because the night belongs to lovers. Because the night belongs to us. Because the night belongs to lovers. Cause the night belongs to us. Have I a doubt, baby, when I'm alone. Love is a ring a telephone. Love is an angel, disguised as lust. Here in our bed 'til the morning comes. Come on now, try and understand. The way I feel under your command. Take my hand, as the sun descends. They can't hurt you now, can't hurt you now, can't hurt you now. Because the night belongs to lovers. Because the night belongs to us. Because the night belongs to lovers. Because the night belongs to us. With love we sleep,. with doubt the vicious circle turns, and burns. Without you, oh I cannot live,. forgive the yearning burning. I believe it's time to heal to feel,. so take me now, take me now, take me now. Because the night belongs to lovers. Because the night belongs to us. Because the night belongs to lovers. Because the night belongs to us\n"
     ]
    }
   ],
   "source": [
    "print(lyrics.iloc[1]['Lyric'])"
   ]
  },
  {
   "cell_type": "code",
   "execution_count": 126,
   "metadata": {},
   "outputs": [],
   "source": [
    "file = np.load('data/R&B_train.npy', allow_pickle=True)\n",
    "lyrics = file[:,2]\n",
    "lyrics = '\\n'.join(list(lyrics))"
   ]
  },
  {
   "cell_type": "code",
   "execution_count": 129,
   "metadata": {},
   "outputs": [
    {
     "name": "stdout",
     "output_type": "stream",
     "text": [
      "Blue Friday come stripping me away\n",
      "Put me in your arms\n",
      "When you play that good reggae\n",
      "I swear not to roam\n",
      "I'll always come home\n",
      "To where I can feel this and know\n",
      "Blue Friday come stripping me away\n",
      "Put me in your arms\n",
      "When you play that good reggae\n",
      "I swear not to roam\n",
      "I'll always come home\n",
      "To where I can feel this and know\n",
      "The blue night has come\n",
      "The moon is sending good vibes to everyone\n",
      "And we all gather around\n",
      "And head out to our own special place for fun\n",
      "'Cause here now it seem\n",
      "It's like a little beach reggae party\n",
      "Far away from city lights\n",
      "But blessed by the bloom of the starry nights\n",
      "Blue Friday come stripping me away\n",
      "Put me in your arms\n",
      "When you play that good reggae\n",
      "I swear not to roam\n",
      "I'll always come home\n",
      "To where I can feel this and know\n",
      "Blue Friday come stripping me away\n",
      "Put me in your arms\n",
      "When you play that good reggae\n",
      "I swear not to roam\n",
      "I'll always come home\n",
      "To where I can feel this and know\n",
      "Sexta blue, sexta blue\n",
      "Sexta blue, sexta blue\n",
      "Stomp the ground, yeah\n",
      "In the trance with the reggae sound\n",
      "Bodies jump up and down\n",
      "Up and down, yeah\n",
      "Emotion explodes around\n",
      "Bringing the unity most profound\n",
      "And revives contaminants\n",
      "Surrounding compound\n",
      "Blue Friday come stripping me away\n",
      "Put me in your arms\n",
      "When you play that good reggae\n",
      "I swear not to roam\n",
      "I'll always come home\n",
      "To where I can feel this and know\n",
      "Blue Friday come stripping me away\n",
      "Put me in your arms\n",
      "When you play that good reggae\n",
      "I swear not to roam\n",
      "I'll always come home\n",
      "To where I can feel this and know\n",
      "Sexta blue, sexta blue\n",
      "Sexta blue, sexta blue\n",
      "Blue Friday come stripping me away\n",
      "Put me in your arms\n",
      "When you play that good reggae\n",
      "I swear not to roam\n",
      "I'll always come home\n",
      "To where I can feel this and know\n",
      "Blue Friday come stripping me away\n",
      "Put me in your arms\n",
      "When you play that good reggae\n",
      "I swear not to roam\n",
      "I'll always come home\n",
      "To where I can feel this and know\n",
      "Sexta blue, sexta blue\n",
      "Sexta blue, sexta blue\n",
      "Sexta blue, sexta blue\n",
      "Sexta blue, sexta blue\n",
      "[Mika Means:]\n",
      "Attention all club goers and party seekers,\n",
      "Oooh yeah, it's Mika Means,\n",
      "In the ATL everybody floss,\n",
      "Everytime I go out everything costs,\n",
      "Only money talks on Monday to Sunday\n",
      "Never only one day,\n",
      "Then party like a payday,\n",
      "Excuse me while I make my way to the front line of the club\n",
      "I just jumped out the truck,\n",
      "In the velvet room you can find me on stage\n",
      "With a cd in my hand talking to the DJ,\n",
      "If I ever lose my cool, gotta take it up top,\n",
      "Where it's cold and it's gritty,\n",
      "What's up New York city,\n",
      "Where they don't give a fuck\n",
      "Bout your story or your luck\n",
      "Everybody gotta hustle when you living up north,\n",
      "[Chorus:]\n",
      "I make big money, I drive big cars,\n",
      "Everybody know me,\n",
      "Everybody know me\n",
      "Everybody know me,\n",
      "Everybody know me,\n",
      "Everybody know me,\n",
      "I love big things,\n",
      "I like big bling\n",
      "Everybody know me,\n",
      "Everybody know me,\n",
      "When I wanna get away I MIA,\n",
      "Club Sobe they know me,\n",
      "Transport me to long beach,\n",
      "Hey bay bay,\n",
      "If I really want a party, hello LA,\n",
      "Hey dro all day, hey paparazzay,\n",
      "In the middle of the westside,\n",
      "I throw it this way,\n",
      "When I really wanna party, it's St Tropez,\n",
      "If you thinking what I'm thinking everybody say Ayy,\n",
      "Everybody say Ohh,\n",
      "Everybody bring the party from the VIP to the floor,\n",
      "Spend a little more,\n",
      "If you ain't making it then fake it then\n",
      "No matter what the cost is,\n",
      "Show em who the boss is,\n",
      "Say...\n",
      "[Chorus]\n",
      "[Lil Wayne:]\n",
      "Uh ummm, everybody know me,\n",
      "I stop..\n",
      "and let the bullshit go before me,\n",
      "And since I really ball, they be trying to throw me,\n",
      "King size bed, bad bitch below me,\n",
      "Walked up on her like what it do shorty,\n",
      "She replied shit whatever you can do for me,\n",
      "I told her I'm me, she said me to,\n",
      "I told her I'm a three and I make big money,\n",
      "I made young money,\n",
      "I got a lot of bitches you can take one from me,\n",
      "Weezy F and the F is for feature,\n",
      "Mean like Mika, huh\n",
      "[Chorus]\n",
      "[Intro:]\n",
      "We been together\n",
      "Over and over again\n",
      "And the feeling's the same\n",
      "Can't stay too far\n",
      "Too far apart\n",
      "Even if it's just a mile away\n",
      "[Chorus:]\n",
      "It's a two minute warning\n",
      "And I know that you want it\n",
      "It's a two minute warning\n",
      "And I know that you're horny\n",
      "It's a two minute warning\n",
      "And I know that you want it\n",
      "It's a two minute warning\n",
      "And I know that you're horny\n",
      "It's a two minute warning\n",
      "[Verse 1 - Big Sean:]\n",
      "You gonna make me quit what I'm doing\n",
      "And fall through with this bottle\n",
      "That ain't the only thing you finna swallow\n",
      "That ain't the only thing I got poppin\n",
      "That ain't the only thing that's finna spill quick\n",
      "No rubber shit I'm a still hit you\n",
      "My main bitch and that's real real real shit\n",
      "I'm a treat her like we on vacay, South Beach shit\n",
      "Only thing you wearing is sheets sets\n",
      "Talking to you like a little freak bitch\n",
      "Guess that's our little secret\n",
      "When I come through off in my zone\n",
      "Not that fuckin friend zone\n",
      "Only thing I touch is that end zone\n",
      "Look I don't care if it's ten phones\n",
      "They off\n",
      "Straight up\n",
      "You got your legs going way up\n",
      "When you hop on top and turn around\n",
      "I can't handle it\n",
      "I might pass out like a pamphlet\n",
      "You got a candle lit Cinnamon apple the candle scent\n",
      "Bed banging like a band in it\n",
      "You know I\n"
     ]
    }
   ],
   "source": [
    "print(lyrics[:5000])"
   ]
  },
  {
   "cell_type": "code",
   "execution_count": null,
   "metadata": {},
   "outputs": [],
   "source": []
  }
 ],
 "metadata": {
  "kernelspec": {
   "display_name": "Python 3",
   "language": "python",
   "name": "python3"
  },
  "language_info": {
   "codemirror_mode": {
    "name": "ipython",
    "version": 3
   },
   "file_extension": ".py",
   "mimetype": "text/x-python",
   "name": "python",
   "nbconvert_exporter": "python",
   "pygments_lexer": "ipython3",
   "version": "3.7.6"
  }
 },
 "nbformat": 4,
 "nbformat_minor": 4
}
