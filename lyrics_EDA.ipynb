{
 "cells": [
  {
   "cell_type": "code",
   "execution_count": 5,
   "metadata": {},
   "outputs": [],
   "source": [
    "import pandas as pd\n",
    "import numpy as np\n",
    "import re\n",
    "from langdetect import detect\n",
    "from sklearn.model_selection import train_test_split\n",
    "import cld3\n",
    "import math\n",
    "from dataset import *\n",
    "from main import *"
   ]
  },
  {
   "cell_type": "code",
   "execution_count": null,
   "metadata": {},
   "outputs": [
    {
     "name": "stdout",
     "output_type": "stream",
     "text": [
      "YOU\n",
      "bleu score ngram order and weights: 7 [0.14285714285714285, 0.14285714285714285, 0.14285714285714285, 0.14285714285714285, 0.14285714285714285, 0.14285714285714285, 0.14285714285714285]\n",
      "bleu score references:\n",
      " [['all', 'that', 'i', 'have', 'and', \"i'll\", 'never', 'let', 'go']]\n",
      "blue score candidate:\n",
      " ['i', 'know', 'you', ',', 'i', 'know', 'you', ',', 'i', 'know', 'you', ',', 'i', 'know', 'you']\n"
     ]
    },
    {
     "name": "stderr",
     "output_type": "stream",
     "text": [
      "/Users/haowei/opt/anaconda3/lib/python3.7/site-packages/nltk/translate/bleu_score.py:523: UserWarning: \n",
      "The hypothesis contains 0 counts of 2-gram overlaps.\n",
      "Therefore the BLEU score evaluates to 0, independently of\n",
      "how many N-gram overlaps of lower order it contains.\n",
      "Consider using lower n-gram order or use SmoothingFunction()\n",
      "  warnings.warn(_msg)\n",
      "/Users/haowei/opt/anaconda3/lib/python3.7/site-packages/nltk/translate/bleu_score.py:523: UserWarning: \n",
      "The hypothesis contains 0 counts of 3-gram overlaps.\n",
      "Therefore the BLEU score evaluates to 0, independently of\n",
      "how many N-gram overlaps of lower order it contains.\n",
      "Consider using lower n-gram order or use SmoothingFunction()\n",
      "  warnings.warn(_msg)\n",
      "/Users/haowei/opt/anaconda3/lib/python3.7/site-packages/nltk/translate/bleu_score.py:523: UserWarning: \n",
      "The hypothesis contains 0 counts of 4-gram overlaps.\n",
      "Therefore the BLEU score evaluates to 0, independently of\n",
      "how many N-gram overlaps of lower order it contains.\n",
      "Consider using lower n-gram order or use SmoothingFunction()\n",
      "  warnings.warn(_msg)\n",
      "/Users/haowei/opt/anaconda3/lib/python3.7/site-packages/nltk/translate/bleu_score.py:523: UserWarning: \n",
      "The hypothesis contains 0 counts of 5-gram overlaps.\n",
      "Therefore the BLEU score evaluates to 0, independently of\n",
      "how many N-gram overlaps of lower order it contains.\n",
      "Consider using lower n-gram order or use SmoothingFunction()\n",
      "  warnings.warn(_msg)\n",
      "/Users/haowei/opt/anaconda3/lib/python3.7/site-packages/nltk/translate/bleu_score.py:523: UserWarning: \n",
      "The hypothesis contains 0 counts of 6-gram overlaps.\n",
      "Therefore the BLEU score evaluates to 0, independently of\n",
      "how many N-gram overlaps of lower order it contains.\n",
      "Consider using lower n-gram order or use SmoothingFunction()\n",
      "  warnings.warn(_msg)\n",
      "/Users/haowei/opt/anaconda3/lib/python3.7/site-packages/nltk/translate/bleu_score.py:523: UserWarning: \n",
      "The hypothesis contains 0 counts of 7-gram overlaps.\n",
      "Therefore the BLEU score evaluates to 0, independently of\n",
      "how many N-gram overlaps of lower order it contains.\n",
      "Consider using lower n-gram order or use SmoothingFunction()\n",
      "  warnings.warn(_msg)\n"
     ]
    },
    {
     "data": {
      "application/vnd.jupyter.widget-view+json": {
       "model_id": "1efb20e3cfc84b159509f1891a0ea305",
       "version_major": 2,
       "version_minor": 0
      },
      "text/plain": [
       "HBox(children=(FloatProgress(value=0.0, description='Downloading', max=482.0, style=ProgressStyle(description_…"
      ]
     },
     "metadata": {},
     "output_type": "display_data"
    },
    {
     "name": "stdout",
     "output_type": "stream",
     "text": [
      "\n"
     ]
    },
    {
     "data": {
      "application/vnd.jupyter.widget-view+json": {
       "model_id": "973522cb294b49bcb1003d2071558642",
       "version_major": 2,
       "version_minor": 0
      },
      "text/plain": [
       "HBox(children=(FloatProgress(value=0.0, description='Downloading', max=898823.0, style=ProgressStyle(descripti…"
      ]
     },
     "metadata": {},
     "output_type": "display_data"
    },
    {
     "name": "stdout",
     "output_type": "stream",
     "text": [
      "\n"
     ]
    },
    {
     "data": {
      "application/vnd.jupyter.widget-view+json": {
       "model_id": "915e044d0d0e4b759c03b7222b74c25f",
       "version_major": 2,
       "version_minor": 0
      },
      "text/plain": [
       "HBox(children=(FloatProgress(value=0.0, description='Downloading', max=456318.0, style=ProgressStyle(descripti…"
      ]
     },
     "metadata": {},
     "output_type": "display_data"
    },
    {
     "name": "stdout",
     "output_type": "stream",
     "text": [
      "\n"
     ]
    },
    {
     "data": {
      "application/vnd.jupyter.widget-view+json": {
       "model_id": "b5e684e890d94831a97fec03fe3b7275",
       "version_major": 2,
       "version_minor": 0
      },
      "text/plain": [
       "HBox(children=(FloatProgress(value=0.0, description='Downloading', max=1425941629.0, style=ProgressStyle(descr…"
      ]
     },
     "metadata": {},
     "output_type": "display_data"
    },
    {
     "name": "stdout",
     "output_type": "stream",
     "text": [
      "\n",
      "calculating scores...\n",
      "computing bert embedding.\n"
     ]
    },
    {
     "data": {
      "application/vnd.jupyter.widget-view+json": {
       "model_id": "20932c82c5834954ab020d249e831bfa",
       "version_major": 2,
       "version_minor": 0
      },
      "text/plain": [
       "HBox(children=(FloatProgress(value=0.0, max=1.0), HTML(value='')))"
      ]
     },
     "metadata": {},
     "output_type": "display_data"
    },
    {
     "name": "stderr",
     "output_type": "stream",
     "text": [
      "/Users/haowei/opt/anaconda3/lib/python3.7/site-packages/transformers/tokenization_utils_base.py:1324: FutureWarning: The `max_len` attribute has been deprecated and will be removed in a future version, use `model_max_length` instead.\n",
      "  FutureWarning,\n"
     ]
    },
    {
     "name": "stdout",
     "output_type": "stream",
     "text": [
      "\n",
      "computing greedy matching.\n"
     ]
    },
    {
     "data": {
      "application/vnd.jupyter.widget-view+json": {
       "model_id": "101183804d054eff9b9e4d77f8a0d1f8",
       "version_major": 2,
       "version_minor": 0
      },
      "text/plain": [
       "HBox(children=(FloatProgress(value=0.0, max=1.0), HTML(value='')))"
      ]
     },
     "metadata": {},
     "output_type": "display_data"
    },
    {
     "name": "stdout",
     "output_type": "stream",
     "text": [
      "\n",
      "done in 0.82 seconds, 1.22 sentences/sec\n",
      "0.3076923076923077\n",
      "YOU\n",
      "bleu score ngram order and weights: 7 [0.14285714285714285, 0.14285714285714285, 0.14285714285714285, 0.14285714285714285, 0.14285714285714285, 0.14285714285714285, 0.14285714285714285]\n",
      "bleu score references:\n",
      " [['where', 'do', 'we', 'end', 'in', 'all', 'this', 'skin']]\n",
      "blue score candidate:\n",
      " ['i', 'know', 'you', ',', 'i', 'know', 'you', ',', 'i', 'know', 'you', ',', 'i', 'know', 'you']\n",
      "calculating scores...\n",
      "computing bert embedding.\n"
     ]
    },
    {
     "data": {
      "application/vnd.jupyter.widget-view+json": {
       "model_id": "1f6a088471834eb6bba299556b29e8fd",
       "version_major": 2,
       "version_minor": 0
      },
      "text/plain": [
       "HBox(children=(FloatProgress(value=0.0, max=1.0), HTML(value='')))"
      ]
     },
     "metadata": {},
     "output_type": "display_data"
    },
    {
     "name": "stdout",
     "output_type": "stream",
     "text": [
      "\n",
      "computing greedy matching.\n"
     ]
    },
    {
     "data": {
      "application/vnd.jupyter.widget-view+json": {
       "model_id": "e50a156abda14ca989d895cb013c0cd2",
       "version_major": 2,
       "version_minor": 0
      },
      "text/plain": [
       "HBox(children=(FloatProgress(value=0.0, max=1.0), HTML(value='')))"
      ]
     },
     "metadata": {},
     "output_type": "display_data"
    },
    {
     "name": "stdout",
     "output_type": "stream",
     "text": [
      "\n",
      "done in 0.45 seconds, 2.24 sentences/sec\n",
      "0.3076923076923077\n",
      "KNOW\n",
      "bleu score ngram order and weights: 4 [0.25, 0.25, 0.25, 0.25]\n",
      "bleu score references:\n",
      " [['and', 'charlie', 'patton']]\n",
      "blue score candidate:\n",
      " ['and', 'i', 'know', 'that', 'i', 'know', 'that', 'i', 'know']\n",
      "calculating scores...\n",
      "computing bert embedding.\n"
     ]
    },
    {
     "data": {
      "application/vnd.jupyter.widget-view+json": {
       "model_id": "264532e55e2e489cb69a7bda47c001cc",
       "version_major": 2,
       "version_minor": 0
      },
      "text/plain": [
       "HBox(children=(FloatProgress(value=0.0, max=1.0), HTML(value='')))"
      ]
     },
     "metadata": {},
     "output_type": "display_data"
    },
    {
     "name": "stdout",
     "output_type": "stream",
     "text": [
      "\n",
      "computing greedy matching.\n"
     ]
    },
    {
     "data": {
      "application/vnd.jupyter.widget-view+json": {
       "model_id": "652874a416404ae0a78abf44dda1db09",
       "version_major": 2,
       "version_minor": 0
      },
      "text/plain": [
       "HBox(children=(FloatProgress(value=0.0, max=1.0), HTML(value='')))"
      ]
     },
     "metadata": {},
     "output_type": "display_data"
    },
    {
     "name": "stdout",
     "output_type": "stream",
     "text": [
      "\n",
      "done in 0.42 seconds, 2.39 sentences/sec\n",
      "0.45454545454545453\n",
      "YOU\n",
      "bleu score ngram order and weights: 7 [0.14285714285714285, 0.14285714285714285, 0.14285714285714285, 0.14285714285714285, 0.14285714285714285, 0.14285714285714285, 0.14285714285714285]\n",
      "bleu score references:\n",
      " [['and', 'we', \"weren't\", 'even', 'married']]\n",
      "blue score candidate:\n",
      " ['i', 'know', 'you', ',', 'i', 'know', 'you', ',', 'i', 'know', 'you', ',', 'i', 'know', 'you']\n",
      "calculating scores...\n",
      "computing bert embedding.\n"
     ]
    },
    {
     "data": {
      "application/vnd.jupyter.widget-view+json": {
       "model_id": "e1f46dc3f56d4c109185c5374ff3cd9f",
       "version_major": 2,
       "version_minor": 0
      },
      "text/plain": [
       "HBox(children=(FloatProgress(value=0.0, max=1.0), HTML(value='')))"
      ]
     },
     "metadata": {},
     "output_type": "display_data"
    },
    {
     "name": "stdout",
     "output_type": "stream",
     "text": [
      "\n",
      "computing greedy matching.\n"
     ]
    },
    {
     "data": {
      "application/vnd.jupyter.widget-view+json": {
       "model_id": "1a156e2a86974807ae67b3c12ca128a6",
       "version_major": 2,
       "version_minor": 0
      },
      "text/plain": [
       "HBox(children=(FloatProgress(value=0.0, max=1.0), HTML(value='')))"
      ]
     },
     "metadata": {},
     "output_type": "display_data"
    },
    {
     "name": "stdout",
     "output_type": "stream",
     "text": [
      "\n",
      "done in 0.41 seconds, 2.45 sentences/sec\n",
      "0.3076923076923077\n",
      "THAT\n",
      "bleu score ngram order and weights: 7 [0.14285714285714285, 0.14285714285714285, 0.14285714285714285, 0.14285714285714285, 0.14285714285714285, 0.14285714285714285, 0.14285714285714285]\n",
      "bleu score references:\n",
      " [['yes', \"we've\", 'stolen', 'this', 'moment', ',']]\n",
      "blue score candidate:\n",
      " ['i', 'know', 'that', 'i', 'know', 'that', 'i', 'know', 'that', 'i', 'know', 'that', 'i', 'know', 'that']\n",
      "calculating scores...\n",
      "computing bert embedding.\n"
     ]
    },
    {
     "data": {
      "application/vnd.jupyter.widget-view+json": {
       "model_id": "758739f5f23b484a8260e1aed8f7cce6",
       "version_major": 2,
       "version_minor": 0
      },
      "text/plain": [
       "HBox(children=(FloatProgress(value=0.0, max=1.0), HTML(value='')))"
      ]
     },
     "metadata": {},
     "output_type": "display_data"
    },
    {
     "name": "stdout",
     "output_type": "stream",
     "text": [
      "\n",
      "computing greedy matching.\n"
     ]
    },
    {
     "data": {
      "application/vnd.jupyter.widget-view+json": {
       "model_id": "4e9618ce78c74b3485256f290292bd5a",
       "version_major": 2,
       "version_minor": 0
      },
      "text/plain": [
       "HBox(children=(FloatProgress(value=0.0, max=1.0), HTML(value='')))"
      ]
     },
     "metadata": {},
     "output_type": "display_data"
    },
    {
     "name": "stdout",
     "output_type": "stream",
     "text": [
      "\n",
      "done in 0.40 seconds, 2.48 sentences/sec\n",
      "0.25\n",
      "YOU\n",
      "bleu score ngram order and weights: 7 [0.14285714285714285, 0.14285714285714285, 0.14285714285714285, 0.14285714285714285, 0.14285714285714285, 0.14285714285714285, 0.14285714285714285]\n",
      "bleu score references:\n",
      " [['and', 'not', 'to', 'keep', 'assuming']]\n",
      "blue score candidate:\n",
      " ['i', 'know', 'you', ',', 'i', 'know', 'you', ',', 'i', 'know', 'you', ',', 'i', 'know', 'you']\n",
      "calculating scores...\n",
      "computing bert embedding.\n"
     ]
    },
    {
     "data": {
      "application/vnd.jupyter.widget-view+json": {
       "model_id": "da9473ec657543f7ae0c7e32ce827d03",
       "version_major": 2,
       "version_minor": 0
      },
      "text/plain": [
       "HBox(children=(FloatProgress(value=0.0, max=1.0), HTML(value='')))"
      ]
     },
     "metadata": {},
     "output_type": "display_data"
    },
    {
     "name": "stdout",
     "output_type": "stream",
     "text": [
      "\n",
      "computing greedy matching.\n"
     ]
    },
    {
     "data": {
      "application/vnd.jupyter.widget-view+json": {
       "model_id": "20f8f823f87c49119e52ef5bde9cf022",
       "version_major": 2,
       "version_minor": 0
      },
      "text/plain": [
       "HBox(children=(FloatProgress(value=0.0, max=1.0), HTML(value='')))"
      ]
     },
     "metadata": {},
     "output_type": "display_data"
    },
    {
     "name": "stdout",
     "output_type": "stream",
     "text": [
      "\n",
      "done in 0.46 seconds, 2.16 sentences/sec\n",
      "0.3076923076923077\n",
      "YOU\n",
      "bleu score ngram order and weights: 7 [0.14285714285714285, 0.14285714285714285, 0.14285714285714285, 0.14285714285714285, 0.14285714285714285, 0.14285714285714285, 0.14285714285714285]\n",
      "bleu score references:\n",
      " [[\"'n\", 'i', 'asked', 'if', 'she', 'believed', 'in', 'fate']]\n",
      "blue score candidate:\n",
      " ['i', 'know', 'you', ',', 'i', 'know', 'you', ',', 'i', 'know', 'you', ',', 'i', 'know', 'you']\n",
      "calculating scores...\n",
      "computing bert embedding.\n"
     ]
    },
    {
     "data": {
      "application/vnd.jupyter.widget-view+json": {
       "model_id": "41aab42fc288435fb87370168e63f1ce",
       "version_major": 2,
       "version_minor": 0
      },
      "text/plain": [
       "HBox(children=(FloatProgress(value=0.0, max=1.0), HTML(value='')))"
      ]
     },
     "metadata": {},
     "output_type": "display_data"
    },
    {
     "name": "stdout",
     "output_type": "stream",
     "text": [
      "\n",
      "computing greedy matching.\n"
     ]
    },
    {
     "data": {
      "application/vnd.jupyter.widget-view+json": {
       "model_id": "6baae454e1584a00a26020884ff17acb",
       "version_major": 2,
       "version_minor": 0
      },
      "text/plain": [
       "HBox(children=(FloatProgress(value=0.0, max=1.0), HTML(value='')))"
      ]
     },
     "metadata": {},
     "output_type": "display_data"
    },
    {
     "name": "stdout",
     "output_type": "stream",
     "text": [
      "\n",
      "done in 0.39 seconds, 2.57 sentences/sec\n",
      "0.3076923076923077\n",
      "YOU\n",
      "bleu score ngram order and weights: 7 [0.14285714285714285, 0.14285714285714285, 0.14285714285714285, 0.14285714285714285, 0.14285714285714285, 0.14285714285714285, 0.14285714285714285]\n",
      "bleu score references:\n",
      " [['but', 'god']]\n",
      "blue score candidate:\n",
      " ['i', 'know', 'you', ',', 'i', 'know', 'you', ',', 'i', 'know', 'you', ',', 'i', 'know', 'you']\n",
      "calculating scores...\n",
      "computing bert embedding.\n"
     ]
    },
    {
     "data": {
      "application/vnd.jupyter.widget-view+json": {
       "model_id": "8ade870f5e5143bc9bde3238b4ea8351",
       "version_major": 2,
       "version_minor": 0
      },
      "text/plain": [
       "HBox(children=(FloatProgress(value=0.0, max=1.0), HTML(value='')))"
      ]
     },
     "metadata": {},
     "output_type": "display_data"
    },
    {
     "name": "stdout",
     "output_type": "stream",
     "text": [
      "\n",
      "computing greedy matching.\n"
     ]
    },
    {
     "data": {
      "application/vnd.jupyter.widget-view+json": {
       "model_id": "7ba44d7bdb0a4ff296b0830001460fb3",
       "version_major": 2,
       "version_minor": 0
      },
      "text/plain": [
       "HBox(children=(FloatProgress(value=0.0, max=1.0), HTML(value='')))"
      ]
     },
     "metadata": {},
     "output_type": "display_data"
    },
    {
     "name": "stdout",
     "output_type": "stream",
     "text": [
      "\n",
      "done in 0.38 seconds, 2.60 sentences/sec\n",
      "0.3076923076923077\n",
      "YOU\n",
      "bleu score ngram order and weights: 7 [0.14285714285714285, 0.14285714285714285, 0.14285714285714285, 0.14285714285714285, 0.14285714285714285, 0.14285714285714285, 0.14285714285714285]\n",
      "bleu score references:\n",
      " [['all', 'the', 'little', 'things', 'to', 'make', 'you', 'stay']]\n",
      "blue score candidate:\n",
      " ['i', 'know', 'you', ',', 'i', 'know', 'you', ',', 'i', 'know', 'you', ',', 'i', 'know', 'you']\n",
      "calculating scores...\n",
      "computing bert embedding.\n"
     ]
    },
    {
     "data": {
      "application/vnd.jupyter.widget-view+json": {
       "model_id": "a743a4276da245b99e2db70c0923b803",
       "version_major": 2,
       "version_minor": 0
      },
      "text/plain": [
       "HBox(children=(FloatProgress(value=0.0, max=1.0), HTML(value='')))"
      ]
     },
     "metadata": {},
     "output_type": "display_data"
    },
    {
     "name": "stdout",
     "output_type": "stream",
     "text": [
      "\n",
      "computing greedy matching.\n"
     ]
    },
    {
     "data": {
      "application/vnd.jupyter.widget-view+json": {
       "model_id": "598accc14ace4e38986e0e58c8b0a06b",
       "version_major": 2,
       "version_minor": 0
      },
      "text/plain": [
       "HBox(children=(FloatProgress(value=0.0, max=1.0), HTML(value='')))"
      ]
     },
     "metadata": {},
     "output_type": "display_data"
    },
    {
     "name": "stdout",
     "output_type": "stream",
     "text": [
      "\n",
      "done in 0.41 seconds, 2.46 sentences/sec\n",
      "0.3076923076923077\n",
      "THAT\n",
      "bleu score ngram order and weights: 7 [0.14285714285714285, 0.14285714285714285, 0.14285714285714285, 0.14285714285714285, 0.14285714285714285, 0.14285714285714285, 0.14285714285714285]\n",
      "bleu score references:\n",
      " [['the', 'greatest', 'of', 'all', 'is', 'right', 'here', 'with', 'me']]\n",
      "blue score candidate:\n",
      " ['i', 'know', 'that', 'i', 'know', 'that', 'i', 'know', 'that', 'i', 'know', 'that', 'i', 'know', 'that']\n",
      "calculating scores...\n",
      "computing bert embedding.\n"
     ]
    },
    {
     "data": {
      "application/vnd.jupyter.widget-view+json": {
       "model_id": "388cedead03245dd9c9f906f3c288317",
       "version_major": 2,
       "version_minor": 0
      },
      "text/plain": [
       "HBox(children=(FloatProgress(value=0.0, max=1.0), HTML(value='')))"
      ]
     },
     "metadata": {},
     "output_type": "display_data"
    },
    {
     "name": "stdout",
     "output_type": "stream",
     "text": [
      "\n",
      "computing greedy matching.\n"
     ]
    },
    {
     "data": {
      "application/vnd.jupyter.widget-view+json": {
       "model_id": "c7ef4b07b70b4618915cd45f111eeb31",
       "version_major": 2,
       "version_minor": 0
      },
      "text/plain": [
       "HBox(children=(FloatProgress(value=0.0, max=1.0), HTML(value='')))"
      ]
     },
     "metadata": {},
     "output_type": "display_data"
    },
    {
     "name": "stdout",
     "output_type": "stream",
     "text": [
      "\n",
      "done in 0.40 seconds, 2.48 sentences/sec\n",
      "0.25\n",
      "KNOW\n",
      "bleu score ngram order and weights: 4 [0.25, 0.25, 0.25, 0.25]\n",
      "bleu score references:\n",
      " [['baby']]\n",
      "blue score candidate:\n",
      " ['i', 'know', 'that', 'i', 'know', 'that', 'i', 'know']\n",
      "calculating scores...\n",
      "computing bert embedding.\n"
     ]
    },
    {
     "data": {
      "application/vnd.jupyter.widget-view+json": {
       "model_id": "8d168ebf84f84047b7167f41f1faa6f1",
       "version_major": 2,
       "version_minor": 0
      },
      "text/plain": [
       "HBox(children=(FloatProgress(value=0.0, max=1.0), HTML(value='')))"
      ]
     },
     "metadata": {},
     "output_type": "display_data"
    },
    {
     "name": "stdout",
     "output_type": "stream",
     "text": [
      "\n",
      "computing greedy matching.\n"
     ]
    },
    {
     "data": {
      "application/vnd.jupyter.widget-view+json": {
       "model_id": "2407b6f5202a4a54b09b23e21327c190",
       "version_major": 2,
       "version_minor": 0
      },
      "text/plain": [
       "HBox(children=(FloatProgress(value=0.0, max=1.0), HTML(value='')))"
      ]
     },
     "metadata": {},
     "output_type": "display_data"
    },
    {
     "name": "stdout",
     "output_type": "stream",
     "text": [
      "\n",
      "done in 0.30 seconds, 3.33 sentences/sec\n",
      "0.4\n",
      "KNOW\n",
      "bleu score ngram order and weights: 3 [0.3333333333333333, 0.3333333333333333, 0.3333333333333333]\n",
      "bleu score references:\n",
      " [['than', 'in', 'the', 'city']]\n",
      "blue score candidate:\n",
      " ['and', 'i', 'know', 'that', 'i', 'know']\n",
      "calculating scores...\n",
      "computing bert embedding.\n"
     ]
    },
    {
     "data": {
      "application/vnd.jupyter.widget-view+json": {
       "model_id": "bc7f9ec816af4eff9d00263a7a2c1a12",
       "version_major": 2,
       "version_minor": 0
      },
      "text/plain": [
       "HBox(children=(FloatProgress(value=0.0, max=1.0), HTML(value='')))"
      ]
     },
     "metadata": {},
     "output_type": "display_data"
    },
    {
     "name": "stdout",
     "output_type": "stream",
     "text": [
      "\n",
      "computing greedy matching.\n"
     ]
    },
    {
     "data": {
      "application/vnd.jupyter.widget-view+json": {
       "model_id": "6dfd5a654dfc4b2f9472d47a38b4504d",
       "version_major": 2,
       "version_minor": 0
      },
      "text/plain": [
       "HBox(children=(FloatProgress(value=0.0, max=1.0), HTML(value='')))"
      ]
     },
     "metadata": {},
     "output_type": "display_data"
    },
    {
     "name": "stdout",
     "output_type": "stream",
     "text": [
      "\n",
      "done in 0.29 seconds, 3.44 sentences/sec\n",
      "0.625\n",
      "KNOW\n",
      "bleu score ngram order and weights: 7 [0.14285714285714285, 0.14285714285714285, 0.14285714285714285, 0.14285714285714285, 0.14285714285714285, 0.14285714285714285, 0.14285714285714285]\n",
      "bleu score references:\n",
      " [['god', 'is', 'able', ',', 'god', 'is', 'able']]\n",
      "blue score candidate:\n",
      " ['i', 'know', 'that', 'i', 'know', 'that', 'i', 'know', 'that', 'i', 'know', 'that', 'i', 'know']\n",
      "calculating scores...\n",
      "computing bert embedding.\n"
     ]
    },
    {
     "data": {
      "application/vnd.jupyter.widget-view+json": {
       "model_id": "d4153b04035a477ea90c4dfa1c40b9aa",
       "version_major": 2,
       "version_minor": 0
      },
      "text/plain": [
       "HBox(children=(FloatProgress(value=0.0, max=1.0), HTML(value='')))"
      ]
     },
     "metadata": {},
     "output_type": "display_data"
    },
    {
     "name": "stdout",
     "output_type": "stream",
     "text": [
      "\n",
      "computing greedy matching.\n"
     ]
    },
    {
     "data": {
      "application/vnd.jupyter.widget-view+json": {
       "model_id": "4f710d63a3704e3c9579eecaa4804a5d",
       "version_major": 2,
       "version_minor": 0
      },
      "text/plain": [
       "HBox(children=(FloatProgress(value=0.0, max=1.0), HTML(value='')))"
      ]
     },
     "metadata": {},
     "output_type": "display_data"
    },
    {
     "name": "stdout",
     "output_type": "stream",
     "text": [
      "\n",
      "done in 0.39 seconds, 2.55 sentences/sec\n",
      "0.25\n",
      "KNOW\n",
      "bleu score ngram order and weights: 4 [0.25, 0.25, 0.25, 0.25]\n",
      "bleu score references:\n",
      " [['i', \"don't\", 'know', 'why', 'now']]\n",
      "blue score candidate:\n",
      " ['and', 'i', 'know', 'that', 'i', 'know', 'that', 'i', 'know']\n",
      "calculating scores...\n",
      "computing bert embedding.\n"
     ]
    },
    {
     "data": {
      "application/vnd.jupyter.widget-view+json": {
       "model_id": "423cbd27b73c4faa9952719cf0d65c14",
       "version_major": 2,
       "version_minor": 0
      },
      "text/plain": [
       "HBox(children=(FloatProgress(value=0.0, max=1.0), HTML(value='')))"
      ]
     },
     "metadata": {},
     "output_type": "display_data"
    },
    {
     "name": "stdout",
     "output_type": "stream",
     "text": [
      "\n",
      "computing greedy matching.\n"
     ]
    },
    {
     "data": {
      "application/vnd.jupyter.widget-view+json": {
       "model_id": "521b7ab8c15f4a3c81d9725006ba985b",
       "version_major": 2,
       "version_minor": 0
      },
      "text/plain": [
       "HBox(children=(FloatProgress(value=0.0, max=1.0), HTML(value='')))"
      ]
     },
     "metadata": {},
     "output_type": "display_data"
    },
    {
     "name": "stdout",
     "output_type": "stream",
     "text": [
      "\n",
      "done in 0.35 seconds, 2.89 sentences/sec\n",
      "0.45454545454545453\n",
      "KNOW\n",
      "bleu score ngram order and weights: 4 [0.25, 0.25, 0.25, 0.25]\n",
      "bleu score references:\n",
      " [['and', 'though', 'you', \"don't\", 'believe']]\n",
      "blue score candidate:\n",
      " ['i', 'know', 'that', 'i', 'know', 'that', 'i', 'know']\n",
      "calculating scores...\n",
      "computing bert embedding.\n"
     ]
    },
    {
     "data": {
      "application/vnd.jupyter.widget-view+json": {
       "model_id": "630e6e9328dd4fc5a4a3c08c9e09a662",
       "version_major": 2,
       "version_minor": 0
      },
      "text/plain": [
       "HBox(children=(FloatProgress(value=0.0, max=1.0), HTML(value='')))"
      ]
     },
     "metadata": {},
     "output_type": "display_data"
    },
    {
     "name": "stdout",
     "output_type": "stream",
     "text": [
      "\n",
      "computing greedy matching.\n"
     ]
    },
    {
     "data": {
      "application/vnd.jupyter.widget-view+json": {
       "model_id": "639d92375e81422c8261ffac67f4375f",
       "version_major": 2,
       "version_minor": 0
      },
      "text/plain": [
       "HBox(children=(FloatProgress(value=0.0, max=1.0), HTML(value='')))"
      ]
     },
     "metadata": {},
     "output_type": "display_data"
    },
    {
     "name": "stdout",
     "output_type": "stream",
     "text": [
      "\n",
      "done in 0.31 seconds, 3.26 sentences/sec\n",
      "0.4\n",
      "YOU\n",
      "bleu score ngram order and weights: 7 [0.14285714285714285, 0.14285714285714285, 0.14285714285714285, 0.14285714285714285, 0.14285714285714285, 0.14285714285714285, 0.14285714285714285]\n",
      "bleu score references:\n",
      " [[\"don't\", 'care', 'if', \"i'm\", 'late']]\n",
      "blue score candidate:\n",
      " ['i', 'know', 'you', ',', 'i', 'know', 'you', ',', 'i', 'know', 'you', ',', 'i', 'know', 'you']\n",
      "calculating scores...\n",
      "computing bert embedding.\n"
     ]
    },
    {
     "data": {
      "application/vnd.jupyter.widget-view+json": {
       "model_id": "12f7082ca75c4769bcfef1632d34d4ab",
       "version_major": 2,
       "version_minor": 0
      },
      "text/plain": [
       "HBox(children=(FloatProgress(value=0.0, max=1.0), HTML(value='')))"
      ]
     },
     "metadata": {},
     "output_type": "display_data"
    },
    {
     "name": "stdout",
     "output_type": "stream",
     "text": [
      "\n",
      "computing greedy matching.\n"
     ]
    },
    {
     "data": {
      "application/vnd.jupyter.widget-view+json": {
       "model_id": "7084d5cd774542d493405569c5e84701",
       "version_major": 2,
       "version_minor": 0
      },
      "text/plain": [
       "HBox(children=(FloatProgress(value=0.0, max=1.0), HTML(value='')))"
      ]
     },
     "metadata": {},
     "output_type": "display_data"
    },
    {
     "name": "stdout",
     "output_type": "stream",
     "text": [
      "\n",
      "done in 0.40 seconds, 2.47 sentences/sec\n",
      "0.3076923076923077\n",
      "KNOW\n",
      "bleu score ngram order and weights: 7 [0.14285714285714285, 0.14285714285714285, 0.14285714285714285, 0.14285714285714285, 0.14285714285714285, 0.14285714285714285, 0.14285714285714285]\n",
      "bleu score references:\n",
      " [['to', 'see', 'what', 'i', 'could', 'see']]\n",
      "blue score candidate:\n",
      " ['and', 'i', 'know', 'that', 'i', 'know', 'that', 'i', 'know', 'that', 'i', 'know', 'that', 'i', 'know']\n",
      "calculating scores...\n",
      "computing bert embedding.\n"
     ]
    },
    {
     "data": {
      "application/vnd.jupyter.widget-view+json": {
       "model_id": "dc0d906d670347e8ac0f97033ea606bf",
       "version_major": 2,
       "version_minor": 0
      },
      "text/plain": [
       "HBox(children=(FloatProgress(value=0.0, max=1.0), HTML(value='')))"
      ]
     },
     "metadata": {},
     "output_type": "display_data"
    },
    {
     "name": "stdout",
     "output_type": "stream",
     "text": [
      "\n",
      "computing greedy matching.\n"
     ]
    },
    {
     "data": {
      "application/vnd.jupyter.widget-view+json": {
       "model_id": "bcb9774ccf2841a8896058eedefa3c8a",
       "version_major": 2,
       "version_minor": 0
      },
      "text/plain": [
       "HBox(children=(FloatProgress(value=0.0, max=1.0), HTML(value='')))"
      ]
     },
     "metadata": {},
     "output_type": "display_data"
    },
    {
     "name": "stdout",
     "output_type": "stream",
     "text": [
      "\n",
      "done in 0.40 seconds, 2.51 sentences/sec\n",
      "0.3125\n",
      "KNOW\n",
      "bleu score ngram order and weights: 5 [0.2, 0.2, 0.2, 0.2, 0.2]\n",
      "bleu score references:\n",
      " [[\"why'd\", 'you', 'have', '2', 'go', 'and', 'do', 'me', 'so', 'wrong', ',', 'yet', 'do', 'me']]\n",
      "blue score candidate:\n",
      " ['i', 'know', 'that', 'i', 'know', 'that', 'i', 'know', 'that', 'i', 'know']\n",
      "calculating scores...\n",
      "computing bert embedding.\n"
     ]
    },
    {
     "data": {
      "application/vnd.jupyter.widget-view+json": {
       "model_id": "1476b29c72c742c4a16c7408762f1338",
       "version_major": 2,
       "version_minor": 0
      },
      "text/plain": [
       "HBox(children=(FloatProgress(value=0.0, max=1.0), HTML(value='')))"
      ]
     },
     "metadata": {},
     "output_type": "display_data"
    },
    {
     "name": "stdout",
     "output_type": "stream",
     "text": [
      "\n",
      "computing greedy matching.\n"
     ]
    },
    {
     "data": {
      "application/vnd.jupyter.widget-view+json": {
       "model_id": "ffe317c86c2d46168980b66f7faeab5f",
       "version_major": 2,
       "version_minor": 0
      },
      "text/plain": [
       "HBox(children=(FloatProgress(value=0.0, max=1.0), HTML(value='')))"
      ]
     },
     "metadata": {},
     "output_type": "display_data"
    },
    {
     "name": "stdout",
     "output_type": "stream",
     "text": [
      "\n",
      "done in 0.37 seconds, 2.74 sentences/sec\n",
      "0.3076923076923077\n",
      "YOU\n",
      "bleu score ngram order and weights: 7 [0.14285714285714285, 0.14285714285714285, 0.14285714285714285, 0.14285714285714285, 0.14285714285714285, 0.14285714285714285, 0.14285714285714285]\n",
      "bleu score references:\n",
      " [['the', 'spirit', 'of', 'my', 'guilty', 'in', 'the', 'mimic', 'of', 'the', 'sky']]\n",
      "blue score candidate:\n",
      " ['i', 'know', 'you', ',', 'i', 'know', 'you', ',', 'i', 'know', 'you', ',', 'i', 'know', 'you']\n",
      "calculating scores...\n",
      "computing bert embedding.\n"
     ]
    },
    {
     "data": {
      "application/vnd.jupyter.widget-view+json": {
       "model_id": "d7e8dc93fe9f4d6ba1182c49e1b5a41d",
       "version_major": 2,
       "version_minor": 0
      },
      "text/plain": [
       "HBox(children=(FloatProgress(value=0.0, max=1.0), HTML(value='')))"
      ]
     },
     "metadata": {},
     "output_type": "display_data"
    },
    {
     "name": "stdout",
     "output_type": "stream",
     "text": [
      "\n",
      "computing greedy matching.\n"
     ]
    },
    {
     "data": {
      "application/vnd.jupyter.widget-view+json": {
       "model_id": "efb042bfa6d540da831787eb3ed7b3e5",
       "version_major": 2,
       "version_minor": 0
      },
      "text/plain": [
       "HBox(children=(FloatProgress(value=0.0, max=1.0), HTML(value='')))"
      ]
     },
     "metadata": {},
     "output_type": "display_data"
    },
    {
     "name": "stdout",
     "output_type": "stream",
     "text": [
      "\n",
      "done in 1.52 seconds, 0.66 sentences/sec\n",
      "0.3076923076923077\n",
      "YOU\n",
      "bleu score ngram order and weights: 7 [0.14285714285714285, 0.14285714285714285, 0.14285714285714285, 0.14285714285714285, 0.14285714285714285, 0.14285714285714285, 0.14285714285714285]\n",
      "bleu score references:\n",
      " [['i', 'can', 'love']]\n",
      "blue score candidate:\n",
      " ['i', 'know', 'that', 'i', 'know', 'you', ',', 'i', 'know', 'you', ',', 'i', 'know', 'you', ',']\n",
      "calculating scores...\n",
      "computing bert embedding.\n"
     ]
    },
    {
     "data": {
      "application/vnd.jupyter.widget-view+json": {
       "model_id": "6b243e89519a43988ae6926cd978ee57",
       "version_major": 2,
       "version_minor": 0
      },
      "text/plain": [
       "HBox(children=(FloatProgress(value=0.0, max=1.0), HTML(value='')))"
      ]
     },
     "metadata": {},
     "output_type": "display_data"
    },
    {
     "name": "stdout",
     "output_type": "stream",
     "text": [
      "\n",
      "computing greedy matching.\n"
     ]
    },
    {
     "data": {
      "application/vnd.jupyter.widget-view+json": {
       "model_id": "a03b14f83f0a4b77836b84e90c42f229",
       "version_major": 2,
       "version_minor": 0
      },
      "text/plain": [
       "HBox(children=(FloatProgress(value=0.0, max=1.0), HTML(value='')))"
      ]
     },
     "metadata": {},
     "output_type": "display_data"
    },
    {
     "name": "stdout",
     "output_type": "stream",
     "text": [
      "\n",
      "done in 0.40 seconds, 2.52 sentences/sec\n",
      "0.35714285714285715\n",
      "YOU\n",
      "bleu score ngram order and weights: 7 [0.14285714285714285, 0.14285714285714285, 0.14285714285714285, 0.14285714285714285, 0.14285714285714285, 0.14285714285714285, 0.14285714285714285]\n",
      "bleu score references:\n",
      " [['everybody', 'has', 'a', 'dream']]\n",
      "blue score candidate:\n",
      " ['i', 'know', 'you', ',', 'i', 'know', 'you', ',', 'i', 'know', 'you', ',', 'i', 'know', 'you']\n",
      "calculating scores...\n",
      "computing bert embedding.\n"
     ]
    },
    {
     "data": {
      "application/vnd.jupyter.widget-view+json": {
       "model_id": "7dc325c582ae4d80bb316c1a58f05b8b",
       "version_major": 2,
       "version_minor": 0
      },
      "text/plain": [
       "HBox(children=(FloatProgress(value=0.0, max=1.0), HTML(value='')))"
      ]
     },
     "metadata": {},
     "output_type": "display_data"
    },
    {
     "name": "stdout",
     "output_type": "stream",
     "text": [
      "\n",
      "computing greedy matching.\n"
     ]
    },
    {
     "data": {
      "application/vnd.jupyter.widget-view+json": {
       "model_id": "52ec19e3f8f847759542b68180c68a96",
       "version_major": 2,
       "version_minor": 0
      },
      "text/plain": [
       "HBox(children=(FloatProgress(value=0.0, max=1.0), HTML(value='')))"
      ]
     },
     "metadata": {},
     "output_type": "display_data"
    },
    {
     "name": "stdout",
     "output_type": "stream",
     "text": [
      "\n",
      "done in 0.37 seconds, 2.70 sentences/sec\n",
      "0.3076923076923077\n",
      "YOU\n",
      "bleu score ngram order and weights: 7 [0.14285714285714285, 0.14285714285714285, 0.14285714285714285, 0.14285714285714285, 0.14285714285714285, 0.14285714285714285, 0.14285714285714285]\n",
      "bleu score references:\n",
      " [['(', 'i', 'like', 'to', 'have', 'my', 'way', ')']]\n",
      "blue score candidate:\n",
      " ['i', 'know', 'you', ',', 'i', 'know', 'you', ',', 'i', 'know', 'you', ',', 'i', 'know', 'you']\n",
      "calculating scores...\n",
      "computing bert embedding.\n"
     ]
    },
    {
     "data": {
      "application/vnd.jupyter.widget-view+json": {
       "model_id": "b48c101a5c1b428392440c402e9c41c8",
       "version_major": 2,
       "version_minor": 0
      },
      "text/plain": [
       "HBox(children=(FloatProgress(value=0.0, max=1.0), HTML(value='')))"
      ]
     },
     "metadata": {},
     "output_type": "display_data"
    },
    {
     "name": "stdout",
     "output_type": "stream",
     "text": [
      "\n",
      "computing greedy matching.\n"
     ]
    },
    {
     "data": {
      "application/vnd.jupyter.widget-view+json": {
       "model_id": "3def1eae198d45be983050715979f479",
       "version_major": 2,
       "version_minor": 0
      },
      "text/plain": [
       "HBox(children=(FloatProgress(value=0.0, max=1.0), HTML(value='')))"
      ]
     },
     "metadata": {},
     "output_type": "display_data"
    },
    {
     "name": "stdout",
     "output_type": "stream",
     "text": [
      "\n",
      "done in 0.37 seconds, 2.71 sentences/sec\n",
      "0.3076923076923077\n",
      "KNOW\n",
      "bleu score ngram order and weights: 4 [0.25, 0.25, 0.25, 0.25]\n",
      "bleu score references:\n",
      " [['i', 'want', 'to', 'go', 'to', 'place', 'were', 'i', 'can', 'hold', 'the', 'intangible']]\n",
      "blue score candidate:\n",
      " ['i', 'know', 'that', 'i', 'know', 'that', 'i', 'know']\n",
      "calculating scores...\n",
      "computing bert embedding.\n"
     ]
    },
    {
     "data": {
      "application/vnd.jupyter.widget-view+json": {
       "model_id": "ec2e83e8371e48d3951f7f468325e9a5",
       "version_major": 2,
       "version_minor": 0
      },
      "text/plain": [
       "HBox(children=(FloatProgress(value=0.0, max=1.0), HTML(value='')))"
      ]
     },
     "metadata": {},
     "output_type": "display_data"
    },
    {
     "name": "stdout",
     "output_type": "stream",
     "text": [
      "\n",
      "computing greedy matching.\n"
     ]
    },
    {
     "data": {
      "application/vnd.jupyter.widget-view+json": {
       "model_id": "93a4a51255d546649c4d5ad9cacbaa78",
       "version_major": 2,
       "version_minor": 0
      },
      "text/plain": [
       "HBox(children=(FloatProgress(value=0.0, max=1.0), HTML(value='')))"
      ]
     },
     "metadata": {},
     "output_type": "display_data"
    },
    {
     "name": "stdout",
     "output_type": "stream",
     "text": [
      "\n",
      "done in 0.38 seconds, 2.60 sentences/sec\n",
      "0.4\n",
      "KNOW\n",
      "bleu score ngram order and weights: 4 [0.25, 0.25, 0.25, 0.25]\n",
      "bleu score references:\n",
      " [['the', 'perception', 'that', 'divides', 'you', 'from', 'her']]\n",
      "blue score candidate:\n",
      " ['and', 'i', 'know', 'that', 'i', 'know', 'that', 'i', 'know']\n",
      "calculating scores...\n",
      "computing bert embedding.\n"
     ]
    },
    {
     "data": {
      "application/vnd.jupyter.widget-view+json": {
       "model_id": "a85e481b39614ff5800d2ac59ef8a67e",
       "version_major": 2,
       "version_minor": 0
      },
      "text/plain": [
       "HBox(children=(FloatProgress(value=0.0, max=1.0), HTML(value='')))"
      ]
     },
     "metadata": {},
     "output_type": "display_data"
    },
    {
     "name": "stdout",
     "output_type": "stream",
     "text": [
      "\n",
      "computing greedy matching.\n"
     ]
    },
    {
     "data": {
      "application/vnd.jupyter.widget-view+json": {
       "model_id": "f1e6db42c7af4aa8b97cf3ee850042e7",
       "version_major": 2,
       "version_minor": 0
      },
      "text/plain": [
       "HBox(children=(FloatProgress(value=0.0, max=1.0), HTML(value='')))"
      ]
     },
     "metadata": {},
     "output_type": "display_data"
    },
    {
     "name": "stdout",
     "output_type": "stream",
     "text": [
      "\n",
      "done in 0.32 seconds, 3.08 sentences/sec\n",
      "0.45454545454545453\n",
      "YOU\n",
      "bleu score ngram order and weights: 7 [0.14285714285714285, 0.14285714285714285, 0.14285714285714285, 0.14285714285714285, 0.14285714285714285, 0.14285714285714285, 0.14285714285714285]\n",
      "bleu score references:\n",
      " [['you', 'blame', 'it', 'on', 'your', 'misspent', 'youth']]\n",
      "blue score candidate:\n",
      " ['i', 'know', 'you', ',', 'i', 'know', 'you', ',', 'i', 'know', 'you', ',', 'i', 'know', 'you']\n",
      "calculating scores...\n",
      "computing bert embedding.\n"
     ]
    },
    {
     "data": {
      "application/vnd.jupyter.widget-view+json": {
       "model_id": "4eeaaf1720d04c4e9321696d2e5961e0",
       "version_major": 2,
       "version_minor": 0
      },
      "text/plain": [
       "HBox(children=(FloatProgress(value=0.0, max=1.0), HTML(value='')))"
      ]
     },
     "metadata": {},
     "output_type": "display_data"
    },
    {
     "name": "stdout",
     "output_type": "stream",
     "text": [
      "\n",
      "computing greedy matching.\n"
     ]
    },
    {
     "data": {
      "application/vnd.jupyter.widget-view+json": {
       "model_id": "c52a97d16420472d9584b2b10278947c",
       "version_major": 2,
       "version_minor": 0
      },
      "text/plain": [
       "HBox(children=(FloatProgress(value=0.0, max=1.0), HTML(value='')))"
      ]
     },
     "metadata": {},
     "output_type": "display_data"
    },
    {
     "name": "stdout",
     "output_type": "stream",
     "text": [
      "\n",
      "done in 0.88 seconds, 1.14 sentences/sec\n",
      "0.3076923076923077\n",
      "YOU\n",
      "bleu score ngram order and weights: 7 [0.14285714285714285, 0.14285714285714285, 0.14285714285714285, 0.14285714285714285, 0.14285714285714285, 0.14285714285714285, 0.14285714285714285]\n",
      "bleu score references:\n",
      " [[\"here's\", 'my', 'number', 'where', \"i'll\", 'be', 'baby', 'baby', 'baby']]\n",
      "blue score candidate:\n",
      " ['i', 'know', 'that', 'i', 'know', 'you', ',', 'i', 'know', 'you', ',', 'i', 'know', 'you', ',']\n",
      "calculating scores...\n",
      "computing bert embedding.\n"
     ]
    },
    {
     "data": {
      "application/vnd.jupyter.widget-view+json": {
       "model_id": "f456278345724336a02800e9516bb0e3",
       "version_major": 2,
       "version_minor": 0
      },
      "text/plain": [
       "HBox(children=(FloatProgress(value=0.0, max=1.0), HTML(value='')))"
      ]
     },
     "metadata": {},
     "output_type": "display_data"
    },
    {
     "name": "stdout",
     "output_type": "stream",
     "text": [
      "\n",
      "computing greedy matching.\n"
     ]
    },
    {
     "data": {
      "application/vnd.jupyter.widget-view+json": {
       "model_id": "6e245243101448d6b898b29a5befd286",
       "version_major": 2,
       "version_minor": 0
      },
      "text/plain": [
       "HBox(children=(FloatProgress(value=0.0, max=1.0), HTML(value='')))"
      ]
     },
     "metadata": {},
     "output_type": "display_data"
    },
    {
     "name": "stdout",
     "output_type": "stream",
     "text": [
      "\n",
      "done in 0.41 seconds, 2.44 sentences/sec\n",
      "0.35714285714285715\n",
      "KNOW\n",
      "bleu score ngram order and weights: 4 [0.25, 0.25, 0.25, 0.25]\n",
      "bleu score references:\n",
      " [['livin', 'in', 'a', 'world', \"that's\", 'oh', 'so', 'strange']]\n",
      "blue score candidate:\n",
      " ['i', 'know', 'that', 'i', 'know', 'that', 'i', 'know']\n",
      "calculating scores...\n",
      "computing bert embedding.\n"
     ]
    },
    {
     "data": {
      "application/vnd.jupyter.widget-view+json": {
       "model_id": "e12511f4e567438faebf3609a03e520c",
       "version_major": 2,
       "version_minor": 0
      },
      "text/plain": [
       "HBox(children=(FloatProgress(value=0.0, max=1.0), HTML(value='')))"
      ]
     },
     "metadata": {},
     "output_type": "display_data"
    },
    {
     "name": "stdout",
     "output_type": "stream",
     "text": [
      "\n",
      "computing greedy matching.\n"
     ]
    },
    {
     "data": {
      "application/vnd.jupyter.widget-view+json": {
       "model_id": "0eaadca12ec64e9c904b05c74d6cde4f",
       "version_major": 2,
       "version_minor": 0
      },
      "text/plain": [
       "HBox(children=(FloatProgress(value=0.0, max=1.0), HTML(value='')))"
      ]
     },
     "metadata": {},
     "output_type": "display_data"
    },
    {
     "name": "stdout",
     "output_type": "stream",
     "text": [
      "\n",
      "done in 0.35 seconds, 2.83 sentences/sec\n",
      "0.4\n",
      "YOU\n",
      "bleu score ngram order and weights: 7 [0.14285714285714285, 0.14285714285714285, 0.14285714285714285, 0.14285714285714285, 0.14285714285714285, 0.14285714285714285, 0.14285714285714285]\n",
      "bleu score references:\n",
      " [['&', 'i', 'want', 'you', 'too']]\n",
      "blue score candidate:\n",
      " ['i', 'know', 'you', ',', 'i', 'know', 'you', ',', 'i', 'know', 'you', ',', 'i', 'know', 'you']\n",
      "calculating scores...\n",
      "computing bert embedding.\n"
     ]
    },
    {
     "data": {
      "application/vnd.jupyter.widget-view+json": {
       "model_id": "33741b29639243508bf9e587558fb18a",
       "version_major": 2,
       "version_minor": 0
      },
      "text/plain": [
       "HBox(children=(FloatProgress(value=0.0, max=1.0), HTML(value='')))"
      ]
     },
     "metadata": {},
     "output_type": "display_data"
    },
    {
     "name": "stdout",
     "output_type": "stream",
     "text": [
      "\n",
      "computing greedy matching.\n"
     ]
    },
    {
     "data": {
      "application/vnd.jupyter.widget-view+json": {
       "model_id": "4271d4c0f439487db712b94eab5acb0e",
       "version_major": 2,
       "version_minor": 0
      },
      "text/plain": [
       "HBox(children=(FloatProgress(value=0.0, max=1.0), HTML(value='')))"
      ]
     },
     "metadata": {},
     "output_type": "display_data"
    },
    {
     "name": "stdout",
     "output_type": "stream",
     "text": [
      "\n",
      "done in 0.39 seconds, 2.56 sentences/sec\n",
      "0.3076923076923077\n",
      "YOU\n",
      "bleu score ngram order and weights: 7 [0.14285714285714285, 0.14285714285714285, 0.14285714285714285, 0.14285714285714285, 0.14285714285714285, 0.14285714285714285, 0.14285714285714285]\n",
      "bleu score references:\n",
      " [['come', 'to', 'this', ',', 'i', \"can't\", 'come', 'to', 'you']]\n",
      "blue score candidate:\n",
      " ['i', 'know', 'you', ',', 'i', 'know', 'you', ',', 'i', 'know', 'you', ',', 'i', 'know', 'you']\n",
      "calculating scores...\n",
      "computing bert embedding.\n"
     ]
    },
    {
     "data": {
      "application/vnd.jupyter.widget-view+json": {
       "model_id": "b0605d200c4a43efb223760da8f543c2",
       "version_major": 2,
       "version_minor": 0
      },
      "text/plain": [
       "HBox(children=(FloatProgress(value=0.0, max=1.0), HTML(value='')))"
      ]
     },
     "metadata": {},
     "output_type": "display_data"
    },
    {
     "name": "stdout",
     "output_type": "stream",
     "text": [
      "\n",
      "computing greedy matching.\n"
     ]
    },
    {
     "data": {
      "application/vnd.jupyter.widget-view+json": {
       "model_id": "34cbe460c89c4de0b437d285d1b935ea",
       "version_major": 2,
       "version_minor": 0
      },
      "text/plain": [
       "HBox(children=(FloatProgress(value=0.0, max=1.0), HTML(value='')))"
      ]
     },
     "metadata": {},
     "output_type": "display_data"
    },
    {
     "name": "stdout",
     "output_type": "stream",
     "text": [
      "\n",
      "done in 0.39 seconds, 2.56 sentences/sec\n",
      "0.3076923076923077\n",
      "YOU\n",
      "bleu score ngram order and weights: 7 [0.14285714285714285, 0.14285714285714285, 0.14285714285714285, 0.14285714285714285, 0.14285714285714285, 0.14285714285714285, 0.14285714285714285]\n",
      "bleu score references:\n",
      " [['humbles', 'you', 'down']]\n",
      "blue score candidate:\n",
      " ['i', 'know', 'you', ',', 'i', 'know', 'you', ',', 'i', 'know', 'you', ',', 'i', 'know', 'you']\n",
      "calculating scores...\n",
      "computing bert embedding.\n"
     ]
    },
    {
     "data": {
      "application/vnd.jupyter.widget-view+json": {
       "model_id": "61c0e335c760495bacfe8124d8fff786",
       "version_major": 2,
       "version_minor": 0
      },
      "text/plain": [
       "HBox(children=(FloatProgress(value=0.0, max=1.0), HTML(value='')))"
      ]
     },
     "metadata": {},
     "output_type": "display_data"
    },
    {
     "name": "stdout",
     "output_type": "stream",
     "text": [
      "\n",
      "computing greedy matching.\n"
     ]
    },
    {
     "data": {
      "application/vnd.jupyter.widget-view+json": {
       "model_id": "f91ad80904ec4401ab902eee15cc72d2",
       "version_major": 2,
       "version_minor": 0
      },
      "text/plain": [
       "HBox(children=(FloatProgress(value=0.0, max=1.0), HTML(value='')))"
      ]
     },
     "metadata": {},
     "output_type": "display_data"
    },
    {
     "name": "stdout",
     "output_type": "stream",
     "text": [
      "\n",
      "done in 0.38 seconds, 2.62 sentences/sec\n",
      "0.3076923076923077\n",
      "YOU\n",
      "bleu score ngram order and weights: 7 [0.14285714285714285, 0.14285714285714285, 0.14285714285714285, 0.14285714285714285, 0.14285714285714285, 0.14285714285714285, 0.14285714285714285]\n",
      "bleu score references:\n",
      " [['but', 'when', 'they', 'turn', 'out', 'the', 'lights', ',', 'i', 'know', \"she'll\", 'be', 'leaving', 'with', 'me']]\n",
      "blue score candidate:\n",
      " ['i', 'know', 'you', ',', 'i', 'know', 'you', ',', 'i', 'know', 'you', ',', 'i', 'know', 'you']\n",
      "calculating scores...\n",
      "computing bert embedding.\n"
     ]
    },
    {
     "data": {
      "application/vnd.jupyter.widget-view+json": {
       "model_id": "f38c7dce713f4583a9c0894599f82ae1",
       "version_major": 2,
       "version_minor": 0
      },
      "text/plain": [
       "HBox(children=(FloatProgress(value=0.0, max=1.0), HTML(value='')))"
      ]
     },
     "metadata": {},
     "output_type": "display_data"
    },
    {
     "name": "stdout",
     "output_type": "stream",
     "text": [
      "\n",
      "computing greedy matching.\n"
     ]
    },
    {
     "data": {
      "application/vnd.jupyter.widget-view+json": {
       "model_id": "8a43f71e2f624971b39ffd2cc717c494",
       "version_major": 2,
       "version_minor": 0
      },
      "text/plain": [
       "HBox(children=(FloatProgress(value=0.0, max=1.0), HTML(value='')))"
      ]
     },
     "metadata": {},
     "output_type": "display_data"
    },
    {
     "name": "stdout",
     "output_type": "stream",
     "text": [
      "\n",
      "done in 0.42 seconds, 2.38 sentences/sec\n",
      "0.3076923076923077\n",
      "YOU\n",
      "bleu score ngram order and weights: 7 [0.14285714285714285, 0.14285714285714285, 0.14285714285714285, 0.14285714285714285, 0.14285714285714285, 0.14285714285714285, 0.14285714285714285]\n",
      "bleu score references:\n",
      " [['all', 'alone', ',', 'all', 'alone', ',', 'all', 'alone', ',', \"don't\", 'want', 'to', 'be', 'all', 'alone']]\n",
      "blue score candidate:\n",
      " ['i', 'know', 'you', ',', 'i', 'know', 'you', ',', 'i', 'know', 'you', ',', 'i', 'know', 'you']\n",
      "calculating scores...\n",
      "computing bert embedding.\n"
     ]
    },
    {
     "data": {
      "application/vnd.jupyter.widget-view+json": {
       "model_id": "bbf5e21507484bd0b712a08be25883ac",
       "version_major": 2,
       "version_minor": 0
      },
      "text/plain": [
       "HBox(children=(FloatProgress(value=0.0, max=1.0), HTML(value='')))"
      ]
     },
     "metadata": {},
     "output_type": "display_data"
    },
    {
     "name": "stdout",
     "output_type": "stream",
     "text": [
      "\n",
      "computing greedy matching.\n"
     ]
    },
    {
     "data": {
      "application/vnd.jupyter.widget-view+json": {
       "model_id": "773b20626c1647bfb684ac3063e54b6e",
       "version_major": 2,
       "version_minor": 0
      },
      "text/plain": [
       "HBox(children=(FloatProgress(value=0.0, max=1.0), HTML(value='')))"
      ]
     },
     "metadata": {},
     "output_type": "display_data"
    },
    {
     "name": "stdout",
     "output_type": "stream",
     "text": [
      "\n",
      "done in 0.42 seconds, 2.39 sentences/sec\n",
      "0.3076923076923077\n",
      "YOU\n",
      "bleu score ngram order and weights: 7 [0.14285714285714285, 0.14285714285714285, 0.14285714285714285, 0.14285714285714285, 0.14285714285714285, 0.14285714285714285, 0.14285714285714285]\n",
      "bleu score references:\n",
      " [['ahh', 'you', 'should', 'be', 'right', 'here', 'with', 'me', 'babe']]\n",
      "blue score candidate:\n",
      " ['i', 'know', 'you', ',', 'i', 'know', 'you', ',', 'i', 'know', 'you', ',', 'i', 'know', 'you']\n",
      "calculating scores...\n",
      "computing bert embedding.\n"
     ]
    },
    {
     "data": {
      "application/vnd.jupyter.widget-view+json": {
       "model_id": "e5890869133b45fca39d70453cb8d7cc",
       "version_major": 2,
       "version_minor": 0
      },
      "text/plain": [
       "HBox(children=(FloatProgress(value=0.0, max=1.0), HTML(value='')))"
      ]
     },
     "metadata": {},
     "output_type": "display_data"
    },
    {
     "name": "stdout",
     "output_type": "stream",
     "text": [
      "\n",
      "computing greedy matching.\n"
     ]
    },
    {
     "data": {
      "application/vnd.jupyter.widget-view+json": {
       "model_id": "c17ea6b477fa4a86bacc010d3984c0a2",
       "version_major": 2,
       "version_minor": 0
      },
      "text/plain": [
       "HBox(children=(FloatProgress(value=0.0, max=1.0), HTML(value='')))"
      ]
     },
     "metadata": {},
     "output_type": "display_data"
    },
    {
     "name": "stdout",
     "output_type": "stream",
     "text": [
      "\n",
      "done in 0.96 seconds, 1.04 sentences/sec\n",
      "0.3076923076923077\n",
      "YOU\n",
      "bleu score ngram order and weights: 7 [0.14285714285714285, 0.14285714285714285, 0.14285714285714285, 0.14285714285714285, 0.14285714285714285, 0.14285714285714285, 0.14285714285714285]\n",
      "bleu score references:\n",
      " [['since', 'you', 'been', 'gone']]\n",
      "blue score candidate:\n",
      " ['i', 'know', 'you', ',', 'i', 'know', 'you', ',', 'i', 'know', 'you', ',', 'i', 'know', 'you']\n",
      "calculating scores...\n",
      "computing bert embedding.\n"
     ]
    },
    {
     "data": {
      "application/vnd.jupyter.widget-view+json": {
       "model_id": "d81aad2267fc40dca341fb6f7e8f3761",
       "version_major": 2,
       "version_minor": 0
      },
      "text/plain": [
       "HBox(children=(FloatProgress(value=0.0, max=1.0), HTML(value='')))"
      ]
     },
     "metadata": {},
     "output_type": "display_data"
    },
    {
     "name": "stdout",
     "output_type": "stream",
     "text": [
      "\n",
      "computing greedy matching.\n"
     ]
    },
    {
     "data": {
      "application/vnd.jupyter.widget-view+json": {
       "model_id": "76b8c33ed5204459a7d4cdd0b8ef53d5",
       "version_major": 2,
       "version_minor": 0
      },
      "text/plain": [
       "HBox(children=(FloatProgress(value=0.0, max=1.0), HTML(value='')))"
      ]
     },
     "metadata": {},
     "output_type": "display_data"
    },
    {
     "name": "stdout",
     "output_type": "stream",
     "text": [
      "\n",
      "done in 0.38 seconds, 2.63 sentences/sec\n",
      "0.3076923076923077\n",
      "KNOW\n",
      "bleu score ngram order and weights: 6 [0.16666666666666666, 0.16666666666666666, 0.16666666666666666, 0.16666666666666666, 0.16666666666666666, 0.16666666666666666]\n",
      "bleu score references:\n",
      " [['pin', 'it', 'on', 'me', 'like', 'prom', 'night', 'nigga']]\n",
      "blue score candidate:\n",
      " ['and', 'i', 'know', 'that', 'i', 'know', 'that', 'i', 'know', 'that', 'i', 'know']\n",
      "calculating scores...\n",
      "computing bert embedding.\n"
     ]
    },
    {
     "data": {
      "application/vnd.jupyter.widget-view+json": {
       "model_id": "bee3a58d1ec5497c94759cf92e0b20ec",
       "version_major": 2,
       "version_minor": 0
      },
      "text/plain": [
       "HBox(children=(FloatProgress(value=0.0, max=1.0), HTML(value='')))"
      ]
     },
     "metadata": {},
     "output_type": "display_data"
    },
    {
     "name": "stdout",
     "output_type": "stream",
     "text": [
      "\n",
      "computing greedy matching.\n"
     ]
    },
    {
     "data": {
      "application/vnd.jupyter.widget-view+json": {
       "model_id": "744561192a20475b893e00d13f00e801",
       "version_major": 2,
       "version_minor": 0
      },
      "text/plain": [
       "HBox(children=(FloatProgress(value=0.0, max=1.0), HTML(value='')))"
      ]
     },
     "metadata": {},
     "output_type": "display_data"
    },
    {
     "name": "stdout",
     "output_type": "stream",
     "text": [
      "\n",
      "done in 0.35 seconds, 2.85 sentences/sec\n",
      "0.35714285714285715\n",
      "YOU\n",
      "bleu score ngram order and weights: 7 [0.14285714285714285, 0.14285714285714285, 0.14285714285714285, 0.14285714285714285, 0.14285714285714285, 0.14285714285714285, 0.14285714285714285]\n",
      "bleu score references:\n",
      " [['grew', 'up', 'in', 'a', 'broken', 'home', 'got', 'tired', 'of', 'being', 'all', 'alone']]\n",
      "blue score candidate:\n",
      " ['i', 'know', 'you', ',', 'i', 'know', 'you', ',', 'i', 'know', 'you', ',', 'i', 'know', 'you']\n",
      "calculating scores...\n",
      "computing bert embedding.\n"
     ]
    },
    {
     "data": {
      "application/vnd.jupyter.widget-view+json": {
       "model_id": "a6caea4e930a4e5f8cfe6e97570cfeac",
       "version_major": 2,
       "version_minor": 0
      },
      "text/plain": [
       "HBox(children=(FloatProgress(value=0.0, max=1.0), HTML(value='')))"
      ]
     },
     "metadata": {},
     "output_type": "display_data"
    },
    {
     "name": "stdout",
     "output_type": "stream",
     "text": [
      "\n",
      "computing greedy matching.\n"
     ]
    },
    {
     "data": {
      "application/vnd.jupyter.widget-view+json": {
       "model_id": "b86fcca15f2941919e3c682b2aa5fa1d",
       "version_major": 2,
       "version_minor": 0
      },
      "text/plain": [
       "HBox(children=(FloatProgress(value=0.0, max=1.0), HTML(value='')))"
      ]
     },
     "metadata": {},
     "output_type": "display_data"
    },
    {
     "name": "stdout",
     "output_type": "stream",
     "text": [
      "\n",
      "done in 0.45 seconds, 2.22 sentences/sec\n",
      "0.3076923076923077\n",
      "YOU\n",
      "bleu score ngram order and weights: 7 [0.14285714285714285, 0.14285714285714285, 0.14285714285714285, 0.14285714285714285, 0.14285714285714285, 0.14285714285714285, 0.14285714285714285]\n",
      "bleu score references:\n",
      " [['one', 'night', ',', 'one', 'night']]\n",
      "blue score candidate:\n",
      " ['i', 'know', 'you', ',', 'i', 'know', 'you', ',', 'i', 'know', 'you', ',', 'i', 'know', 'you']\n",
      "calculating scores...\n",
      "computing bert embedding.\n"
     ]
    },
    {
     "data": {
      "application/vnd.jupyter.widget-view+json": {
       "model_id": "b7a2ab0b53c64419ab35d5a770e484ef",
       "version_major": 2,
       "version_minor": 0
      },
      "text/plain": [
       "HBox(children=(FloatProgress(value=0.0, max=1.0), HTML(value='')))"
      ]
     },
     "metadata": {},
     "output_type": "display_data"
    },
    {
     "name": "stdout",
     "output_type": "stream",
     "text": [
      "\n",
      "computing greedy matching.\n"
     ]
    },
    {
     "data": {
      "application/vnd.jupyter.widget-view+json": {
       "model_id": "ae09adaf62ba44619986e66f004bdacb",
       "version_major": 2,
       "version_minor": 0
      },
      "text/plain": [
       "HBox(children=(FloatProgress(value=0.0, max=1.0), HTML(value='')))"
      ]
     },
     "metadata": {},
     "output_type": "display_data"
    },
    {
     "name": "stdout",
     "output_type": "stream",
     "text": [
      "\n",
      "done in 0.41 seconds, 2.42 sentences/sec\n",
      "0.3076923076923077\n",
      "KNOW\n",
      "bleu score ngram order and weights: 6 [0.16666666666666666, 0.16666666666666666, 0.16666666666666666, 0.16666666666666666, 0.16666666666666666, 0.16666666666666666]\n",
      "bleu score references:\n",
      " [['and', 'now', \"it's\", 'time', 'to', 'help', 'someone', 'see', \"they're\", 'alive', 'for', 'so', 'much', 'more']]\n",
      "blue score candidate:\n",
      " ['and', 'i', 'know', 'that', 'i', 'know', 'that', 'i', 'know', 'that', 'i', 'know']\n",
      "calculating scores...\n",
      "computing bert embedding.\n"
     ]
    },
    {
     "data": {
      "application/vnd.jupyter.widget-view+json": {
       "model_id": "1ae2a7f1b05348a1ab628af283922d37",
       "version_major": 2,
       "version_minor": 0
      },
      "text/plain": [
       "HBox(children=(FloatProgress(value=0.0, max=1.0), HTML(value='')))"
      ]
     },
     "metadata": {},
     "output_type": "display_data"
    },
    {
     "name": "stdout",
     "output_type": "stream",
     "text": [
      "\n",
      "computing greedy matching.\n"
     ]
    },
    {
     "data": {
      "application/vnd.jupyter.widget-view+json": {
       "model_id": "afcd9db0c91740e5b4bd401f5ec05c9d",
       "version_major": 2,
       "version_minor": 0
      },
      "text/plain": [
       "HBox(children=(FloatProgress(value=0.0, max=1.0), HTML(value='')))"
      ]
     },
     "metadata": {},
     "output_type": "display_data"
    },
    {
     "name": "stdout",
     "output_type": "stream",
     "text": [
      "\n",
      "done in 0.41 seconds, 2.43 sentences/sec\n",
      "0.35714285714285715\n",
      "KNOW\n",
      "bleu score ngram order and weights: 7 [0.14285714285714285, 0.14285714285714285, 0.14285714285714285, 0.14285714285714285, 0.14285714285714285, 0.14285714285714285, 0.14285714285714285]\n",
      "bleu score references:\n",
      " [['so', 'every', 'chance', 'is', 'taken', 'to', 'take', 'your', 'light']]\n",
      "blue score candidate:\n",
      " ['i', 'know', 'that', 'i', 'know', 'that', 'i', 'know', 'that', 'i', 'know', 'that', 'i', 'know']\n",
      "calculating scores...\n",
      "computing bert embedding.\n"
     ]
    },
    {
     "data": {
      "application/vnd.jupyter.widget-view+json": {
       "model_id": "b7c9fdbfbf584185aa1d7b87dd331a30",
       "version_major": 2,
       "version_minor": 0
      },
      "text/plain": [
       "HBox(children=(FloatProgress(value=0.0, max=1.0), HTML(value='')))"
      ]
     },
     "metadata": {},
     "output_type": "display_data"
    },
    {
     "name": "stdout",
     "output_type": "stream",
     "text": [
      "\n",
      "computing greedy matching.\n"
     ]
    },
    {
     "data": {
      "application/vnd.jupyter.widget-view+json": {
       "model_id": "7409bd6ba05e4e22bdfa482cdbfc908b",
       "version_major": 2,
       "version_minor": 0
      },
      "text/plain": [
       "HBox(children=(FloatProgress(value=0.0, max=1.0), HTML(value='')))"
      ]
     },
     "metadata": {},
     "output_type": "display_data"
    },
    {
     "name": "stdout",
     "output_type": "stream",
     "text": [
      "\n",
      "done in 0.37 seconds, 2.70 sentences/sec\n",
      "0.25\n",
      "KNOW\n",
      "bleu score ngram order and weights: 4 [0.25, 0.25, 0.25, 0.25]\n",
      "bleu score references:\n",
      " [[\"'neath\", 'the', 'halo', 'of', 'a', 'street', 'lamp', ',']]\n",
      "blue score candidate:\n",
      " ['i', 'know', 'that', 'i', 'know', 'that', 'i', 'know']\n",
      "calculating scores...\n",
      "computing bert embedding.\n"
     ]
    },
    {
     "data": {
      "application/vnd.jupyter.widget-view+json": {
       "model_id": "fd986facc247428e978e084f31971e47",
       "version_major": 2,
       "version_minor": 0
      },
      "text/plain": [
       "HBox(children=(FloatProgress(value=0.0, max=1.0), HTML(value='')))"
      ]
     },
     "metadata": {},
     "output_type": "display_data"
    },
    {
     "name": "stdout",
     "output_type": "stream",
     "text": [
      "\n",
      "computing greedy matching.\n"
     ]
    },
    {
     "data": {
      "application/vnd.jupyter.widget-view+json": {
       "model_id": "beedda3518f34969bc393ded7bb9e46f",
       "version_major": 2,
       "version_minor": 0
      },
      "text/plain": [
       "HBox(children=(FloatProgress(value=0.0, max=1.0), HTML(value='')))"
      ]
     },
     "metadata": {},
     "output_type": "display_data"
    },
    {
     "name": "stdout",
     "output_type": "stream",
     "text": [
      "\n",
      "done in 0.35 seconds, 2.88 sentences/sec\n",
      "0.4\n",
      "KNOW\n",
      "bleu score ngram order and weights: 6 [0.16666666666666666, 0.16666666666666666, 0.16666666666666666, 0.16666666666666666, 0.16666666666666666, 0.16666666666666666]\n",
      "bleu score references:\n",
      " [['and', 'let', 'go', 'of', 'the', 'day', ',']]\n",
      "blue score candidate:\n",
      " ['and', 'i', 'know', 'that', 'i', 'know', 'that', 'i', 'know', 'that', 'i', 'know']\n",
      "calculating scores...\n",
      "computing bert embedding.\n"
     ]
    },
    {
     "data": {
      "application/vnd.jupyter.widget-view+json": {
       "model_id": "4fecbb57171d4963b2a50ca3b8a8d5c0",
       "version_major": 2,
       "version_minor": 0
      },
      "text/plain": [
       "HBox(children=(FloatProgress(value=0.0, max=1.0), HTML(value='')))"
      ]
     },
     "metadata": {},
     "output_type": "display_data"
    },
    {
     "name": "stdout",
     "output_type": "stream",
     "text": [
      "\n",
      "computing greedy matching.\n"
     ]
    },
    {
     "data": {
      "application/vnd.jupyter.widget-view+json": {
       "model_id": "0c0b33217bac42c0b8bc4bc154de7422",
       "version_major": 2,
       "version_minor": 0
      },
      "text/plain": [
       "HBox(children=(FloatProgress(value=0.0, max=1.0), HTML(value='')))"
      ]
     },
     "metadata": {},
     "output_type": "display_data"
    },
    {
     "name": "stdout",
     "output_type": "stream",
     "text": [
      "\n",
      "done in 0.36 seconds, 2.78 sentences/sec\n",
      "0.35714285714285715\n",
      "YOU\n",
      "bleu score ngram order and weights: 7 [0.14285714285714285, 0.14285714285714285, 0.14285714285714285, 0.14285714285714285, 0.14285714285714285, 0.14285714285714285, 0.14285714285714285]\n",
      "bleu score references:\n",
      " [[\"it's\", 'not', 'a', 'damn', 'thing', 'i', \"wouldn't\", 'do', 'for', 'you']]\n",
      "blue score candidate:\n",
      " ['i', 'know', 'you', ',', 'i', 'know', 'you', ',', 'i', 'know', 'you', ',', 'i', 'know', 'you']\n"
     ]
    }
   ],
   "source": [
    "with open(\"outputs/predictions_examples_word_lstm_train.txt\", \"r\") as f:\n",
    "    prediction_examples = json.load(f)\n",
    "scores = output_group_eval_scores(\"word_lstm_train\", prediction_examples)\n",
    "with open(\"./outputs/evaluations_scores_word_lstm_train.txt\", \"w\") as f_eval:\n",
    "    json.dump(scores, f_eval, indent=4)"
   ]
  },
  {
   "cell_type": "code",
   "execution_count": 449,
   "metadata": {},
   "outputs": [],
   "source": [
    "train_subset = train.iloc[:1000]"
   ]
  },
  {
   "cell_type": "code",
   "execution_count": 450,
   "metadata": {},
   "outputs": [],
   "source": [
    "train_subset.to_csv('data/train_subset.csv', index=False)"
   ]
  },
  {
   "cell_type": "code",
   "execution_count": 3,
   "metadata": {
    "scrolled": true
   },
   "outputs": [],
   "source": [
    "train = pd.read_csv(\"data/csv/train.csv\")"
   ]
  },
  {
   "cell_type": "code",
   "execution_count": 10,
   "metadata": {},
   "outputs": [],
   "source": [
    "artist = list(set(train['Artist']))\n",
    "test = pd.read_csv('data/csv/test.csv')\n",
    "test = test[test['Artist'].apply(lambda x: x in artist)].reset_index(drop=True)\n",
    "test.to_csv('data/csv/test_new.csv', index=False)"
   ]
  },
  {
   "cell_type": "code",
   "execution_count": 315,
   "metadata": {},
   "outputs": [],
   "source": [
    "data = pd.read_csv(\"data/train.csv\")\n",
    "data = data[data['Language']=='en']\n",
    "data = data[data['Lyrics'].apply(lambda x: '\\n' in x)]\n",
    "data = data.drop_duplicates(subset=['Artist', 'Song', 'Genre'], ignore_index=True)\n",
    "data = data[data['Lyrics'].apply(lambda x: '---------' not in x)]\n",
    "data['Lyrics'] = data['Lyrics'].apply(lambda x: re.sub('\\[.*\\]', ' ', x))"
   ]
  },
  {
   "cell_type": "code",
   "execution_count": 316,
   "metadata": {},
   "outputs": [],
   "source": [
    "def check_en(line):\n",
    "    result = cld3.get_language(line)\n",
    "    lang = result[0]\n",
    "    reliable = result[2]\n",
    "    if reliable and lang == 'en':\n",
    "        return 'en'\n",
    "    else:\n",
    "        return 'other'"
   ]
  },
  {
   "cell_type": "code",
   "execution_count": 317,
   "metadata": {},
   "outputs": [],
   "source": [
    "data['reliable_lang'] = data['Lyrics'].apply(check_en)\n",
    "data = data[data['reliable_lang']=='en']"
   ]
  },
  {
   "cell_type": "code",
   "execution_count": 321,
   "metadata": {},
   "outputs": [],
   "source": [
    "indices = np.arange(len(data))\n",
    "train_index, test_index = train_test_split(indices, test_size = 0.1)\n",
    "train_index, dev_index = train_test_split(train_index, test_size=0.1)\n",
    "\n",
    "train_data = data.iloc[train_index].reset_index(drop=True)\n",
    "dev_data = data.iloc[dev_index].reset_index(drop=True)\n",
    "test_data = data.iloc[test_index].reset_index(drop=True)"
   ]
  },
  {
   "cell_type": "code",
   "execution_count": 322,
   "metadata": {},
   "outputs": [],
   "source": [
    "train_data.to_csv('data/csv/train.csv', index=False)\n",
    "dev_data.to_csv('data/csv/dev.csv', index=False)\n",
    "test_data.to_csv('data/csv/test.csv', index=False)"
   ]
  },
  {
   "cell_type": "code",
   "execution_count": 294,
   "metadata": {},
   "outputs": [
    {
     "data": {
      "text/plain": [
       "Rock          96376\n",
       "Pop           70438\n",
       "Metal         15910\n",
       "Jazz          11701\n",
       "Folk           6922\n",
       "Indie          5592\n",
       "R&B            1572\n",
       "Electronic      447\n",
       "Name: Genre, dtype: int64"
      ]
     },
     "execution_count": 294,
     "metadata": {},
     "output_type": "execute_result"
    }
   ],
   "source": [
    "data['Genre'].value_counts()"
   ]
  },
  {
   "cell_type": "code",
   "execution_count": 288,
   "metadata": {},
   "outputs": [],
   "source": [
    "df = pd.read_csv('data/csv/test.csv')"
   ]
  },
  {
   "cell_type": "code",
   "execution_count": 290,
   "metadata": {},
   "outputs": [],
   "source": [
    "df = df[df['Genre']=='Pop']"
   ]
  },
  {
   "cell_type": "code",
   "execution_count": 280,
   "metadata": {},
   "outputs": [
    {
     "data": {
      "text/plain": [
       "Rock          8679\n",
       "Pop           6313\n",
       "Metal         1490\n",
       "Jazz          1035\n",
       "Folk           603\n",
       "Indie          497\n",
       "R&B            171\n",
       "Electronic      36\n",
       "Name: Genre, dtype: int64"
      ]
     },
     "execution_count": 280,
     "metadata": {},
     "output_type": "execute_result"
    }
   ],
   "source": [
    "dev_data['Genre'].value_counts()"
   ]
  },
  {
   "cell_type": "code",
   "execution_count": 184,
   "metadata": {},
   "outputs": [],
   "source": [
    "jazz = data[data['Genre']=='Jazz'].reset_index(drop=True)\n",
    "indices = np.arange(len(jazz))\n",
    "train_index, test_index = train_test_split(indices, test_size = 0.1)\n",
    "train_index, dev_index = train_test_split(train_index, test_size=0.1)"
   ]
  },
  {
   "cell_type": "code",
   "execution_count": 242,
   "metadata": {},
   "outputs": [],
   "source": [
    "path = 'data/train/jazz_train.txt'\n",
    "with open(path,'w', encoding='utf-8', errors='ignore') as f:\n",
    "    for i in train_index:\n",
    "#         f.write(\"ARTIST NAME: \"+jazz['Artist'].iloc[i]+'\\n')\n",
    "#         f.write(\"GENRE: \"+jazz['Genre'].iloc[i]+'\\n')\n",
    "        f.write(jazz['Lyrics'].iloc[i])\n",
    "        f.write('\\n')"
   ]
  },
  {
   "cell_type": "code",
   "execution_count": 116,
   "metadata": {},
   "outputs": [],
   "source": [
    "for g in list(data['Genre'].value_counts().index):\n",
    "    df = data[data['Genre']==g]\n",
    "    artist = np.array(df['Artist']).reshape(-1,1)\n",
    "    genre = np.array(df['Genre']).reshape(-1,1)\n",
    "    lyrics = np.array(df['Lyrics']).reshape(-1,1)\n",
    "\n",
    "    out = np.hstack((artist, genre, lyrics))\n",
    "    file_path = 'data/'+g+'_train.npy'\n",
    "    np.save(file_path, out)"
   ]
  },
  {
   "cell_type": "code",
   "execution_count": 105,
   "metadata": {},
   "outputs": [],
   "source": [
    "artist = np.array(rnb['Artist']).reshape(-1,1)\n",
    "genre = np.array(rnb['Genre']).reshape(-1,1)\n",
    "lyrics = np.array(rnb['Lyrics']).reshape(-1,1)\n",
    "\n",
    "rnb_out = np.hstack((artist, genre, lyrics))\n",
    "np.save('data/rnb_train.npy', rnb_out)"
   ]
  },
  {
   "cell_type": "code",
   "execution_count": 93,
   "metadata": {},
   "outputs": [
    {
     "data": {
      "text/plain": [
       "'en'"
      ]
     },
     "execution_count": 93,
     "metadata": {},
     "output_type": "execute_result"
    }
   ],
   "source": [
    "detect(rnb['Lyrics'].iloc[0])"
   ]
  },
  {
   "cell_type": "code",
   "execution_count": 90,
   "metadata": {},
   "outputs": [
    {
     "name": "stderr",
     "output_type": "stream",
     "text": [
      "/Users/haowei/opt/anaconda3/lib/python3.7/site-packages/ipykernel_launcher.py:1: SettingWithCopyWarning: \n",
      "A value is trying to be set on a copy of a slice from a DataFrame.\n",
      "Try using .loc[row_indexer,col_indexer] = value instead\n",
      "\n",
      "See the caveats in the documentation: https://pandas.pydata.org/pandas-docs/stable/user_guide/indexing.html#returning-a-view-versus-a-copy\n",
      "  \"\"\"Entry point for launching an IPython kernel.\n"
     ]
    }
   ],
   "source": [
    "rnb['detect_lang'] = rnb['Lyrics'].apply(lambda x: detect(x[:50]))"
   ]
  },
  {
   "cell_type": "code",
   "execution_count": 80,
   "metadata": {},
   "outputs": [
    {
     "data": {
      "text/plain": [
       "Rock          103721\n",
       "Pop            83620\n",
       "Metal          17207\n",
       "Jazz           11760\n",
       "Folk            7023\n",
       "Indie           6033\n",
       "R&B             1575\n",
       "Electronic       462\n",
       "Name: Genre, dtype: int64"
      ]
     },
     "execution_count": 80,
     "metadata": {},
     "output_type": "execute_result"
    }
   ],
   "source": [
    "data['Genre'].value_counts()"
   ]
  },
  {
   "cell_type": "code",
   "execution_count": 442,
   "metadata": {},
   "outputs": [],
   "source": [
    "rnb = create_ngram_model(NgramModel, 'data/csv/train.csv', 4,0.0000001,genre='R&B')"
   ]
  },
  {
   "cell_type": "code",
   "execution_count": 437,
   "metadata": {},
   "outputs": [],
   "source": [
    "rnb6 = create_ngram_model(NgramModel, 'data/csv/train.csv', 6,0.0000001,genre='R&B')"
   ]
  },
  {
   "cell_type": "code",
   "execution_count": 443,
   "metadata": {},
   "outputs": [
    {
     "data": {
      "text/plain": [
       "'I will in my loaded came'"
      ]
     },
     "execution_count": 443,
     "metadata": {},
     "output_type": "execute_result"
    }
   ],
   "source": [
    "rnb.gen_next_sent('I like')"
   ]
  },
  {
   "cell_type": "code",
   "execution_count": 396,
   "metadata": {},
   "outputs": [],
   "source": [
    "test_df = pd.read_csv('data/csv/test.csv')\n",
    "train_df = pd.read_csv('data/csv/train.csv')"
   ]
  },
  {
   "cell_type": "code",
   "execution_count": 351,
   "metadata": {},
   "outputs": [],
   "source": [
    "idx = random.randint(0,len(test_df)-1)\n",
    "lyric = test_df.iloc[idx]['Lyrics']\n",
    "# tot_pp += model.perplexity(lyric)"
   ]
  },
  {
   "cell_type": "code",
   "execution_count": 2,
   "metadata": {},
   "outputs": [
    {
     "name": "stdout",
     "output_type": "stream",
     "text": [
      "Successfully built dataset...\n",
      "index of new line character:  8069\n",
      "index of comma:  8769\n",
      "index of <UNK>:  10688\n"
     ]
    }
   ],
   "source": [
    "spec_dict = {\"dropout\": 0.5,\n",
    "                 \"num_lstm_layers\": 2,\n",
    "                 \"bilstm_flag\": True,\n",
    "                 \"word_bilstm_flag\": False,\n",
    "                 \"use_artist\": True,\n",
    "                 \"char_hidden_dim\": 128,\n",
    "                 \"char_emb_dim\": 100,\n",
    "                 \"char_model_type\": \"LSTM\",\n",
    "                 \"word_emb_dim\": 256,\n",
    "                 \"pre_train_word_embedding\": None,\n",
    "                 \"feature_emb_dim\": 128,\n",
    "                 \"final_hidden_dim\": 512,\n",
    "                 \"learning rate\": 0.001,\n",
    "                 \"iterations\": 5000,\n",
    "                 \"print_every\": 200,\n",
    "                 \"plot_every\": 100\n",
    "                 }\n",
    "ds = Dataset('./data/csv/train.csv', subset=['R&B'])\n",
    "vocab_size = ds.tokenize_corpus(word_tokenize)\n",
    "print(\"Successfully built dataset...\")\n",
    "print(\"index of new line character: \", ds.word2idx['\\n'])\n",
    "print(\"index of comma: \", ds.word2idx[','])\n",
    "print(\"index of <UNK>: \", ds.word2idx['<UNK>'])\n",
    "ds.save_dict()"
   ]
  },
  {
   "cell_type": "code",
   "execution_count": 10,
   "metadata": {},
   "outputs": [],
   "source": [
    "with open('saved_data/artist_set.p', \"wb\") as fp:\n",
    "    pickle.dump(ds.artist_set, fp)\n",
    "with open('saved_data/genre_set.p', 'wb') as fp:\n",
    "    pickle.dump(ds.genre_set, fp)\n",
    "with open('saved_data/word2idx.p', 'wb') as fp:\n",
    "    pickle.dump(ds.word2idx, fp)\n",
    "with open('saved_data/idx2word.p', 'wb') as fp:\n",
    "    pickle.dump(ds.idx2word, fp)\n",
    "with open('saved_data/phones2index.p', 'wb') as fp:\n",
    "    pickle.dump(ds.phones2index, fp)\n",
    "with open('saved_data/index2phones.p', 'wb') as fp:\n",
    "    pickle.dump(ds.index2phones, fp)"
   ]
  },
  {
   "cell_type": "code",
   "execution_count": 4,
   "metadata": {
    "scrolled": true
   },
   "outputs": [
    {
     "name": "stdout",
     "output_type": "stream",
     "text": [
      "loss in current iteration:  3.297504425048828\n",
      "Input string:  Anymore . \n",
      " When that indigo \n",
      " I can't deny that I'm blue\n",
      "Target string:  . \n",
      " When that indigo \n",
      " I can't deny that I'm blue .\n",
      "prediced tensor:  tensor([[7405]])\n",
      "decoded string:  me \n",
      "loss in current iteration:  10.1879301071167\n",
      "Input string:  You are my shelter , from the pouring rain \n",
      " You were my comfort , even before the pain \n",
      " I can hear the sound of five drummers in the\n",
      "Target string:  are my shelter , from the pouring rain \n",
      " You were my comfort , even before the pain \n",
      " I can hear the sound of five drummers in the wind\n",
      "prediced tensor:  tensor([[7405]])\n",
      "decoded string:  me \n",
      "loss in current iteration:  3.176255464553833\n",
      "Input string:  Games \n",
      " Not goin' out like that let me explain \n",
      " Tryin' to save myself don't pressure\n",
      "Target string:  \n",
      " Not goin' out like that let me explain \n",
      " Tryin' to save myself don't pressure me\n",
      "prediced tensor:  tensor([[8769]])\n",
      "decoded string:  , \n",
      "loss in current iteration:  6.339225769042969\n",
      "Input string:  She feels like forgiving you today \n",
      " Too bad for you \n",
      " You were out there trying to be a player , now she's gone , it's\n",
      "Target string:  feels like forgiving you today \n",
      " Too bad for you \n",
      " You were out there trying to be a player , now she's gone , it's true\n",
      "prediced tensor:  tensor([[7371]])\n",
      "decoded string:  you \n",
      "loss in current iteration:  10.438000679016113\n",
      "Input string:  A faded memory \n",
      " Just when I think I'm over her \n",
      " This broken heart will\n",
      "Target string:  faded memory \n",
      " Just when I think I'm over her \n",
      " This broken heart will mend\n",
      "prediced tensor:  tensor([[2658]])\n",
      "decoded string:  way \n",
      "loss in current iteration:  3.6046645641326904\n",
      "Input string:  You catch my eyes undressin you \n",
      " So won't you meet me in the champagne room \n",
      " No sex , involved just you touchi'n\n",
      "Target string:  catch my eyes undressin you \n",
      " So won't you meet me in the champagne room \n",
      " No sex , involved just you touchi'n me\n",
      "prediced tensor:  tensor([[1753]])\n",
      "decoded string:  love \n",
      "loss in current iteration:  3.5642917156219482\n",
      "Input string:  ( If my mama don't like you ) \n",
      " It's gonna be hard on you \n",
      " ( It's gonna be hard for me to trust you\n",
      "Target string:  If my mama don't like you ) \n",
      " It's gonna be hard on you \n",
      " ( It's gonna be hard for me to trust you )\n",
      "prediced tensor:  tensor([[7405]])\n",
      "decoded string:  me \n",
      "loss in current iteration:  6.381564140319824\n",
      "Input string:  Get it right \n",
      " Alright , ch'all , lets start from number one \n",
      " And get down till it's\n",
      "Target string:  it right \n",
      " Alright , ch'all , lets start from number one \n",
      " And get down till it's done\n",
      "prediced tensor:  tensor([[7405]])\n",
      "decoded string:  me \n",
      "loss in current iteration:  8.427959442138672\n",
      "Input string:  Dance until the morning light \n",
      " Forget about the worries on your mind \n",
      " You can leave them all\n",
      "Target string:  until the morning light \n",
      " Forget about the worries on your mind \n",
      " You can leave them all behind\n",
      "prediced tensor:  tensor([[7405]])\n",
      "decoded string:  me \n",
      "loss in current iteration:  8.518991470336914\n",
      "Input string:  From a woman in Somalia to a child in Harlem \n",
      " We're created from the same things \n",
      " I'm grateful that you created me from the same grains from the same\n",
      "Target string:  a woman in Somalia to a child in Harlem \n",
      " We're created from the same things \n",
      " I'm grateful that you created me from the same grains from the same things\n",
      "prediced tensor:  tensor([[1766]])\n",
      "decoded string:  ) \n",
      "loss in current iteration:  10.563573837280273\n",
      "Input string:  Everything is alright \n",
      " Everything is ok \n",
      " Everything is all good sunshine and rain working as it\n",
      "Target string:  is alright \n",
      " Everything is ok \n",
      " Everything is all good sunshine and rain working as it should\n",
      "prediced tensor:  tensor([[8769]])\n",
      "decoded string:  , \n",
      "loss in current iteration:  6.659582614898682\n",
      "Input string:  ( I want the night to stay ) \n",
      " I want the night to stay ( all night , tonight ) \n",
      " I want stay , I wanna stay , I wanna stay tonight , I will\n",
      "Target string:  I want the night to stay ) \n",
      " I want the night to stay ( all night , tonight ) \n",
      " I want stay , I wanna stay , I wanna stay tonight , I will stay\n",
      "prediced tensor:  tensor([[9220]])\n",
      "decoded string:  . \n",
      "loss in current iteration:  9.601571083068848\n",
      "Input string:  Movin forward \n",
      " Blindly \n",
      " Without a\n",
      "Target string:  forward \n",
      " Blindly \n",
      " Without a trace\n",
      "prediced tensor:  tensor([[9220]])\n",
      "decoded string:  . \n",
      "loss in current iteration:  10.65439224243164\n",
      "Input string:  joy and pain \n",
      " all the love she made \n",
      " like she took the words\n",
      "Target string:  and pain \n",
      " all the love she made \n",
      " like she took the words from\n",
      "prediced tensor:  tensor([[1766]])\n",
      "decoded string:  ) \n",
      "loss in current iteration:  2.203035354614258\n",
      "Input string:  You never know what's gonna happen tomorrow , \n",
      " But I wanna live , I wanna live , I wanna live . \n",
      " Yea - a - a , yea - a - a , yea - a - a , oh - ah\n",
      "Target string:  never know what's gonna happen tomorrow , \n",
      " But I wanna live , I wanna live , I wanna live . \n",
      " Yea - a - a , yea - a - a , yea - a - a , oh - ah .\n",
      "prediced tensor:  tensor([[7405]])\n",
      "decoded string:  me \n",
      "loss in current iteration:  10.402360916137695\n",
      "Input string:  If you just believe come on now and bounce with me \n",
      " \n",
      " Bounce , bounce , bounce , bounce ,\n",
      "Target string:  you just believe come on now and bounce with me \n",
      " \n",
      " Bounce , bounce , bounce , bounce , bounce\n",
      "prediced tensor:  tensor([[1766]])\n",
      "decoded string:  ) \n",
      "loss in current iteration:  6.011889934539795\n",
      "Input string:  But dream no more \n",
      " To live a life in love the only thing in common was \n",
      " We knew there was somethin'\n",
      "Target string:  dream no more \n",
      " To live a life in love the only thing in common was \n",
      " We knew there was somethin' more\n",
      "prediced tensor:  tensor([[1766]])\n",
      "decoded string:  ) \n",
      "loss in current iteration:  11.341745376586914\n",
      "Input string:  Runaway train never going back \n",
      " Wrong way on a one way track \n",
      " Seems like I should be getting\n",
      "Target string:  train never going back \n",
      " Wrong way on a one way track \n",
      " Seems like I should be getting somewhere\n",
      "prediced tensor:  tensor([[7371]])\n",
      "decoded string:  you \n",
      "loss in current iteration:  4.106040000915527\n",
      "Input string:  just taking our time \n",
      " cause i'll be down this road that we're going tonight \n",
      " and if we gonna do\n",
      "Target string:  taking our time \n",
      " cause i'll be down this road that we're going tonight \n",
      " and if we gonna do it\n",
      "prediced tensor:  tensor([[7405]])\n",
      "decoded string:  me \n",
      "loss in current iteration:  6.427905082702637\n",
      "Input string:  We can just run away , run away tonight \n",
      " It ain't no victory but I don't care \n",
      " I don't care I don't care I don't care I don't\n",
      "Target string:  can just run away , run away tonight \n",
      " It ain't no victory but I don't care \n",
      " I don't care I don't care I don't care I don't care\n",
      "prediced tensor:  tensor([[1766]])\n",
      "decoded string:  ) \n",
      "loss in current iteration:  2.8358161449432373\n",
      "Input string:  Ooh baby take me far away from here \n",
      " Baby you know I'm sincere \n",
      " Ooh don't keep your love from\n",
      "Target string:  baby take me far away from here \n",
      " Baby you know I'm sincere \n",
      " Ooh don't keep your love from me\n",
      "prediced tensor:  tensor([[7405]])\n",
      "decoded string:  me \n",
      "char not found in printable characters:  déjà\n",
      "loss in current iteration:  4.197219371795654\n",
      "Input string:  And to have another be your guiding light \n",
      " We're all in the need of love , we're all in the need of love \n",
      " Hey , everybody , we're all in the need of\n",
      "Target string:  to have another be your guiding light \n",
      " We're all in the need of love , we're all in the need of love \n",
      " Hey , everybody , we're all in the need of love\n",
      "prediced tensor:  tensor([[7371]])\n",
      "decoded string:  you \n",
      "loss in current iteration:  4.89178466796875\n",
      "Input string:  It's for sure , you can always count on my love \n",
      " Forevermore \n",
      " I love and need and want you ,\n",
      "Target string:  for sure , you can always count on my love \n",
      " Forevermore \n",
      " I love and need and want you , baby\n",
      "prediced tensor:  tensor([[1766]])\n",
      "decoded string:  ) \n",
      "loss in current iteration:  11.002232551574707\n",
      "Input string:  ( Baby ) \n",
      " And the girls blazing hot \n",
      " It's gonna be a long , long\n",
      "Target string:  Baby ) \n",
      " And the girls blazing hot \n",
      " It's gonna be a long , long summer\n",
      "prediced tensor:  tensor([[7371]])\n",
      "decoded string:  you \n",
      "loss in current iteration:  5.225135803222656\n",
      "Input string:  Played it cool mention to floss on ya \n",
      " Had a few girls I turned down \n",
      " They woulda' learn\n",
      "Target string:  it cool mention to floss on ya \n",
      " Had a few girls I turned down \n",
      " They woulda' learn now\n",
      "prediced tensor:  tensor([[7405]])\n",
      "decoded string:  me \n"
     ]
    }
   ],
   "source": [
    "model = WordSequence(spec_dict, ds)\n",
    "optimizer = optim.Adam(model.parameters(), lr=spec_dict['learning rate'])\n",
    "model, loss_list = train(model, optimizer, ds, spec_dict, num_lines=3)\n",
    "path = 'saved_parameters1'\n",
    "torch.save({'model_state_dict': model.state_dict(),\n",
    "            'optimizer_state_dict': optimizer.state_dict()}, path)"
   ]
  },
  {
   "cell_type": "code",
   "execution_count": 25,
   "metadata": {},
   "outputs": [
    {
     "name": "stdout",
     "output_type": "stream",
     "text": [
      "loss in current iteration:  4.775262355804443\n",
      "Input string:  Superman can fly high way up in the sky \n",
      " 'Cause we believe he can \n",
      " So what we choose to believe can always work out fine \n",
      " It's all in the mind \n",
      " So think of a place and imagine a time \n",
      " And let's go be lovers \n",
      " Believing me , Ooo Wee baby \n",
      " Is believing right - oh yeah , and \n",
      " I wanna love , wanna have , wanna hold you girl \n",
      " So make me a believer \n",
      " Wanna love you girl \n",
      " Ooo so near \n",
      " And forever keep you here \n",
      " Forget all about whatever we fear \n",
      " And let's just be lovers \n",
      " Loving and loving , oh love is the way \n",
      " To make me stay \n",
      " I know the way to persuade me over to your side \n",
      " And I am sure you can \n",
      " So if you get me to believe \n",
      " It all will work out fine \n",
      " 'Cause you'll blow my mind \n",
      " So let's pick a place , a day , and a time \n",
      " And then we'll be lovers \n",
      " Loving and loving , oh love is the way \n",
      " To make me\n",
      "Target string:  can fly high way up in the sky \n",
      " 'Cause we believe he can \n",
      " So what we choose to believe can always work out fine \n",
      " It's all in the mind \n",
      " So think of a place and imagine a time \n",
      " And let's go be lovers \n",
      " Believing me , Ooo Wee baby \n",
      " Is believing right - oh yeah , and \n",
      " I wanna love , wanna have , wanna hold you girl \n",
      " So make me a believer \n",
      " Wanna love you girl \n",
      " Ooo so near \n",
      " And forever keep you here \n",
      " Forget all about whatever we fear \n",
      " And let's just be lovers \n",
      " Loving and loving , oh love is the way \n",
      " To make me stay \n",
      " I know the way to persuade me over to your side \n",
      " And I am sure you can \n",
      " So if you get me to believe \n",
      " It all will work out fine \n",
      " 'Cause you'll blow my mind \n",
      " So let's pick a place , a day , and a time \n",
      " And then we'll be lovers \n",
      " Loving and loving , oh love is the way \n",
      " To make me stay\n",
      "prediced tensor:  tensor([[ 9754,  5718,  9754,  9754,  9754,  9754,  1540,  8755,  9754,  6092,\n",
      "          6092,  9852,  2832,  9754,  2832,  6092,  6092,  2832,  9852,  9754,\n",
      "          8051,  9754,  2832,  5718,  9754,  9754,  9754,  6092,  9895,  6413,\n",
      "          9895,  1277,  9754,  6092,  6092,  6092,  9895,  9052,  9754,  6092,\n",
      "          8051,  1277,  9754,  6092,  6092,  5718,  9754,  9895,  9754,  6092,\n",
      "          2832,  9754,  9754,  9754,  9754,  9754,  6092,  9895,  8035,  9754,\n",
      "          9754,  9754,  9754,  1404,  2832,  6092,  1237,  5718,  6413,  6092,\n",
      "          5718,  8051,  9754,  5718,  8051,  9754,  9754,  6092,  6092,  8051,\n",
      "          8035,  2520,  9754,  6092,  9052,  8051,  9754,  9754,  6092,  8035,\n",
      "          6092,  9754,  6092,  6092,  8035,  9895,  9754,  9754,  6092,  6413,\n",
      "          2832,  8051,  2832,  9918,  9754,  6092,  6092,  5718,  5718,  9895,\n",
      "          9754,  6092,  6413,  9895,  6413,  9754,  9754,  9754,  9754,  1277,\n",
      "          9754,  6092,  5718,  2832,  9754,  9754,  6092,  9852,  2832,  9052,\n",
      "          9635,  5718,  9754,  9754,  9754,  8051,  1277,  9754,  6092,  6092,\n",
      "          9852,  2832,  2832,  9754,  2832,  6092,  6092,  2832,  9852,  9895,\n",
      "          9754,  9052,  9754,  6092,  1394,  2832,  2832,  6413,  9754,  9754,\n",
      "          6092,  6092,  5718,  2832,  9052,  9754,  6092,  6092,  5718,  2832,\n",
      "          1277, 10503,  6092,  1277,  9754,  9754,  6092,  8755,  9754,  6092,\n",
      "          6092,  6092,  5718,  9754,  9754,  6092,  6413,  9895,  9754,  9754,\n",
      "          9754,  9754,  9754,  2520,  9754,  6092,  5718,  8051,  9754]])\n",
      "decoded string:  \n",
      " be \n",
      " \n",
      " \n",
      " \n",
      " my world \n",
      " i i know you \n",
      " you i i you know \n",
      " me \n",
      " you be \n",
      " \n",
      " \n",
      " i the to the heart \n",
      " i i i the love \n",
      " i me heart \n",
      " i i be \n",
      " the \n",
      " i you \n",
      " \n",
      " \n",
      " \n",
      " \n",
      " i the , \n",
      " \n",
      " \n",
      " \n",
      " yeah you i don't be to i be me \n",
      " be me \n",
      " \n",
      " i i me , way \n",
      " i love me \n",
      " \n",
      " i , i \n",
      " i i , the \n",
      " \n",
      " i to you me you need \n",
      " i i be be the \n",
      " i to the to \n",
      " \n",
      " \n",
      " \n",
      " heart \n",
      " i be you \n",
      " \n",
      " i know you love that be \n",
      " \n",
      " \n",
      " me heart \n",
      " i i know you you \n",
      " you i i you know the \n",
      " love \n",
      " i are you you to \n",
      " \n",
      " i i be you love \n",
      " i i be you heart of i heart \n",
      " \n",
      " i world \n",
      " i i i be \n",
      " \n",
      " i to the \n",
      " \n",
      " \n",
      " \n",
      " \n",
      " way \n",
      " i be me \n",
      " \n",
      "loss in current iteration:  4.637962341308594\n",
      "Input string:  Here I come once again \n",
      " Knowing that I haven't done everything \n",
      " That you would like me to do for you \n",
      " So , it's confusing cause you never stop \n",
      " Doing what you do \n",
      " \n",
      " You bless me over and over again \n",
      " Even when I'm not deserving \n",
      " ( Oh you bless me over ) \n",
      " You bless me over and over again \n",
      " Even when I'm not deserving \n",
      " When I was sick in my body \n",
      " You made me well \n",
      " There's so many more things \n",
      " That I can tell \n",
      " And I'm just so grateful \n",
      " 'Cause you're always there \n",
      " You never gave up on me \n",
      " When I didn't care \n",
      " \n",
      " You bless me over and over \n",
      " Over and over , over and over again \n",
      " You bless me over and over \n",
      " Over and over again \n",
      " Oh , you bless me over and over \n",
      " Over and over , over and over again \n",
      " You bless me over and over \n",
      " Over and over again \n",
      " Over and over , over and over \n",
      " Over and over again \n",
      " Oh over and over , over and over again \n",
      " Oh you've been so good , Lord I don't \n",
      " Oh I don't deserve you Lord , \n",
      " You bless me over and over again \n",
      " Oh over and over , over and over , \n",
      " Over and over again \n",
      " You blessed me over and over again \n",
      " Lord you've been so good to me \n",
      " And this is why I praise you , this is why I love you \n",
      " You've been there through my tears and through my pain \n",
      " Over and over again \n",
      " \n",
      " You bless me over and over again \n",
      " Even when I'm not\n",
      "Target string:  I come once again \n",
      " Knowing that I haven't done everything \n",
      " That you would like me to do for you \n",
      " So , it's confusing cause you never stop \n",
      " Doing what you do \n",
      " \n",
      " You bless me over and over again \n",
      " Even when I'm not deserving \n",
      " ( Oh you bless me over ) \n",
      " You bless me over and over again \n",
      " Even when I'm not deserving \n",
      " When I was sick in my body \n",
      " You made me well \n",
      " There's so many more things \n",
      " That I can tell \n",
      " And I'm just so grateful \n",
      " 'Cause you're always there \n",
      " You never gave up on me \n",
      " When I didn't care \n",
      " \n",
      " You bless me over and over \n",
      " Over and over , over and over again \n",
      " You bless me over and over \n",
      " Over and over again \n",
      " Oh , you bless me over and over \n",
      " Over and over , over and over again \n",
      " You bless me over and over \n",
      " Over and over again \n",
      " Over and over , over and over \n",
      " Over and over again \n",
      " Oh over and over , over and over again \n",
      " Oh you've been so good , Lord I don't \n",
      " Oh I don't deserve you Lord , \n",
      " You bless me over and over again \n",
      " Oh over and over , over and over , \n",
      " Over and over again \n",
      " You blessed me over and over again \n",
      " Lord you've been so good to me \n",
      " And this is why I praise you , this is why I love you \n",
      " You've been there through my tears and through my pain \n",
      " Over and over again \n",
      " \n",
      " You bless me over and over again \n",
      " Even when I'm not deserving\n",
      "prediced tensor:  tensor([[ 8035,  7290,  6413,  9754,  9754,  6092,  8051,  6092,  1237,  5718,\n",
      "          9754,  9754,  6092,  6092,  9852,  5718,  2832,  9754,  2832,  9754,\n",
      "          2832,  9754,  6092,  6092,  6092,  9895,  6413,  6092,  7290,  5718,\n",
      "          9754,  6092,  9895,  6092,  9852,  9754,  6092,  6092,  1237,  8051,\n",
      "          9754,  6413,  6092,  9754,  9754,  6092,  6092,  6092,  5802,  9895,\n",
      "          9754,  6092,  6092,  8035,  9852,  8051,  9754,  2832,  9754,  6092,\n",
      "          9852,  8051,  9754,  9754,  6092,  9754,  9754,  6092,  6092,  6092,\n",
      "          9895,  9895,  9754,  6092,  2832, 10273,  9895,  6413,  9895,  1277,\n",
      "          9754,  6092, 10273,  2832,  9754,  9754,  6092,  9895,  9895,  9052,\n",
      "          9754,  9754,  6092,  6092,  7290,  9852,  8051,  6092,  6092,  5802,\n",
      "          7099,  6092,  9754,  6092,  6092,  9895,  9754,  9754,  6092,  9852,\n",
      "          5718,  2832,  9754,  9895,  9754,  6092,  6092,  9852,  9852,  9754,\n",
      "          6092,  6092,  9852,  8051,  9754,  9754,  6092,  9754,  6092,  8035,\n",
      "          6092,  9754,  9754,  9754,  6092,  9754,  9754,  6092,  1237,  2832,\n",
      "          9754,  9754,  6092,  9754,  6092,  9754,  6092,  9754,  9754,  6092,\n",
      "          9754,  4410,  9852,  2832,  9754,  9754,  6092,  9754,  6092,  9754,\n",
      "          6092,  9754,  6092,  9754,  6092,  9754,  9754,  6092,  7290,  8051,\n",
      "          9754,  9754,  6092,  9754,  6092,  9895,  6092,  9754,  9754,  6092,\n",
      "          8035,  6092,  9754,  9754,  9754,  6092,  9754,  6092,  9754,  6092,\n",
      "          6413,  9754,  6092,  8035,  9754,  6092,  9754,  9754,  9754,  6092,\n",
      "          9754,  9754,  6092,  8035,  5718,  7099,  9895,  9754,  9754,  8035,\n",
      "          9918,  9852,  6092,  8035,  7290,  5718,  6413,  9754,  9754,  6092,\n",
      "          6092,  1237,  2832,  8035,  9754,  6092,  9754,  9754,  6092,  8035,\n",
      "          9754,  6092,  9754,  6092,  9754,  6092,  9754,  9754,  6092,  8035,\n",
      "          6092,  8035,  9754,  6092,  9852,  9895,  9754,  9754,  6092,  9754,\n",
      "          9754,  6092,  8035,  5718,  7099,  9754,  9754,  2832,  9754,  6092,\n",
      "          6092,  2520,  8035,  6092,  9852,  9754,  9754,  9754,  9052,  9754,\n",
      "          9754,  9852,  9754,  9754,  6092,  6093,  7099,  9754,  9895,  1277,\n",
      "          9754,  6092,  9754,  2520,  9754,  6092,  8035,  6092,  6413,  9754,\n",
      "          6092,  6092,  1237,  2832,  9754,  9754,  6092,  9754,  9754,  6092,\n",
      "          6092,  6092,  9052,  7099]])\n",
      "decoded string:  , want to \n",
      " \n",
      " i me i don't be \n",
      " \n",
      " i i know be you \n",
      " you \n",
      " you \n",
      " i i i the to i want be \n",
      " i the i know \n",
      " i i don't me \n",
      " to i \n",
      " \n",
      " i i i gonna the \n",
      " i i , know me \n",
      " you \n",
      " i know me \n",
      " \n",
      " i \n",
      " \n",
      " i i i the the \n",
      " i you can the to the heart \n",
      " i can you \n",
      " \n",
      " i the the love \n",
      " \n",
      " i i want know me i i gonna a i \n",
      " i i the \n",
      " \n",
      " i know be you \n",
      " the \n",
      " i i know know \n",
      " i i know me \n",
      " \n",
      " i \n",
      " i , i \n",
      " \n",
      " \n",
      " i \n",
      " \n",
      " i don't you \n",
      " \n",
      " i \n",
      " i \n",
      " i \n",
      " \n",
      " i \n",
      " oh know you \n",
      " \n",
      " i \n",
      " i \n",
      " i \n",
      " i \n",
      " i \n",
      " \n",
      " i want me \n",
      " \n",
      " i \n",
      " i the i \n",
      " \n",
      " i , i \n",
      " \n",
      " \n",
      " i \n",
      " i \n",
      " i to \n",
      " i , \n",
      " i \n",
      " \n",
      " \n",
      " i \n",
      " \n",
      " i , be a the \n",
      " \n",
      " , need know i , want be to \n",
      " \n",
      " i i don't you , \n",
      " i \n",
      " \n",
      " i , \n",
      " i \n",
      " i \n",
      " i \n",
      " \n",
      " i , i , \n",
      " i know the \n",
      " \n",
      " i \n",
      " \n",
      " i , be a \n",
      " \n",
      " you \n",
      " i i way , i know \n",
      " \n",
      " \n",
      " love \n",
      " \n",
      " know \n",
      " \n",
      " i never a \n",
      " the heart \n",
      " i \n",
      " way \n",
      " i , i to \n",
      " i i don't you \n",
      " \n",
      " i \n",
      " \n",
      " i i i love a \n"
     ]
    },
    {
     "name": "stdout",
     "output_type": "stream",
     "text": [
      "loss in current iteration:  5.075776100158691\n",
      "Input string:  the world is gon' turn . the world is on & on \n",
      " the world is gon' turn . turn \n",
      " and the world is on & on \n",
      " all yeah oh yeah . yeah \n",
      " on . on . on . on . on . on and on . on . on and on . on . on . on and on \n",
      " on . on . on and on . the world is gon' turn . the world is on and on\n",
      "Target string:  world is gon' turn . the world is on & on \n",
      " the world is gon' turn . turn \n",
      " and the world is on & on \n",
      " all yeah oh yeah . yeah \n",
      " on . on . on . on . on . on and on . on . on and on . on . on . on and on \n",
      " on . on . on and on . the world is gon' turn . the world is on and on .\n",
      "prediced tensor:  tensor([[ 1277, 10503,  9895,  5718,  9754,  9754,  2520,  9754,  9895,  9895,\n",
      "          9754,  9895,  6092,  8851, 10503,  9895,  5718,  9754,  9754,  9754,\n",
      "          6092,  6092,  2520,  9754,  9895,  9895,  9754,  9895,  6092,  9895,\n",
      "          9754,  9754,  9754,  9754,  9754,  6092,  9895,  9754,  9754,  9754,\n",
      "          9754,  9754,  9754,  9754,  8051,  9754,  9754,  9754,  9754,  9754,\n",
      "          9754,  9754,  9895,  9754,  9754,  9754,  9895,  9754,  9895,  9754,\n",
      "          9754,  9895,  9754,  6092,  9895,  9754,  9754,  9754,  9754,  6092,\n",
      "          9754,  9754,  2520,  9754,  9895,  5718,  9754,  9754,  8755,  9754,\n",
      "          9895,  9895,  9754,  9895]])\n",
      "decoded string:  heart of the be \n",
      " \n",
      " way \n",
      " the the \n",
      " the i life of the be \n",
      " \n",
      " \n",
      " i i way \n",
      " the the \n",
      " the i the \n",
      " \n",
      " \n",
      " \n",
      " \n",
      " i the \n",
      " \n",
      " \n",
      " \n",
      " \n",
      " \n",
      " \n",
      " me \n",
      " \n",
      " \n",
      " \n",
      " \n",
      " \n",
      " \n",
      " the \n",
      " \n",
      " \n",
      " the \n",
      " the \n",
      " \n",
      " the \n",
      " i the \n",
      " \n",
      " \n",
      " \n",
      " i \n",
      " \n",
      " way \n",
      " the be \n",
      " \n",
      " world \n",
      " the the \n",
      " the \n",
      "loss in current iteration:  4.619598865509033\n",
      "Input string:  If you're searching for joy \n",
      " And you haven't found it yet \n",
      " I want to know \n",
      " Who is the man who said He could save \n",
      " Who took my dark clouds away \n",
      " And who said that they would bring joy to my day \n",
      " And who said they'd wash all my sins away \n",
      " Now who touched my heart and changed my life \n",
      " And who is this One that sacrificed \n",
      " Well , who heard my prayers in the middle of the night \n",
      " And when I was blind who opened my eyes \n",
      " \n",
      " Oh , there He is \n",
      " Reach out and touch Him \n",
      " There He is \n",
      " Call out His name \n",
      " There He is \n",
      " Don't be afraid \n",
      " There He is \n",
      " Look up in the sky \n",
      " There He is \n",
      " It's a bird it's a plane \n",
      " There He is \n",
      " No it's Jesus \n",
      " There He is \n",
      " Coming to save me \n",
      " There He is \n",
      " Hallelujah \n",
      " Now who told the Son to set me free \n",
      " Who laid down and died for me \n",
      " And who said the homeless was the same as me \n",
      " Who took solid ground and placed my feet \n",
      " And who gave the purpose and reason to sing \n",
      " Who gave the music melody \n",
      " When trouble was chasing who parted my sea \n",
      " Somebody talk to me where is this He \n",
      " \n",
      " If you are young man strugglin' \n",
      " Or a younger seekin' \n",
      " You don't have to search no more \n",
      " Just look to the arms of Jesus \n",
      " You can get Him for yourself \n",
      " You don't need nobody else \n",
      " Jesus fall to your knees and pray \n",
      " And you looking for Jesus , searching for Jesus \n",
      " \n",
      " There He is \n",
      " Wherever I go \n",
      " There He is \n",
      " Wherever I turn \n",
      " There He is \n",
      " He's all around \n",
      " There He is \n",
      " Reach out and touch Him \n",
      " There He is \n",
      " He's right there \n",
      " There He is \n",
      " And He's guaranteed to answer \n",
      " There He is \n",
      " All of your prayers \n",
      " There He is \n",
      " I can feel Him \n",
      " There He is \n",
      " Whoa yeah \n",
      " There He is \n",
      " He's changing your life right now \n",
      " There He is \n",
      " Oh yes He is \n",
      " There He is \n",
      " There He is \n",
      " There He is \n",
      " When troubles come \n",
      " There He is \n",
      " Just close your eyes \n",
      " There He is \n",
      " And lift your head \n",
      " There He is \n",
      " Towards the sky \n",
      " There He is \n",
      " Just call on Him \n",
      " There He is \n",
      " And you shall find \n",
      " There He is \n",
      " He was there \n",
      " There He is \n",
      " All of the time \n",
      " There He is \n",
      " If your friends are around \n",
      " There He is \n",
      " Then you somewhere by yourself \n",
      " There He is \n",
      " Call on His name \n",
      " There He is \n",
      " He will be right there \n",
      " There He is \n",
      " No matter what the problem \n",
      " There He is \n",
      " Or the situation \n",
      " There He is \n",
      " My Jesus can fix it \n",
      " There He is \n",
      " With no hesitation \n",
      " There He is \n",
      " If your money is gone \n",
      " There He is \n",
      " And you need some help \n",
      " There He is \n",
      " On your dying bed \n",
      " There He is \n",
      " You're not by yourself \n",
      " Everywhere you turn \n",
      " Everywhere you turn \n",
      " Everywhere you turn \n",
      " Everywhere you turn \n",
      " Everywhere you go \n",
      " Everywhere you go \n",
      " All around \n",
      " And when you walk \n",
      " There He is \n",
      " When you talk \n",
      " There He is \n",
      " And when you cry \n",
      " There He is \n",
      " Go down on your knees and call on Him \n",
      " Jesus reach out and touch and believe He's right there \n",
      " There He is \n",
      " And you can do all things through Christ Jesus that strengthens you \n",
      " There He\n",
      "Target string:  you're searching for joy \n",
      " And you haven't found it yet \n",
      " I want to know \n",
      " Who is the man who said He could save \n",
      " Who took my dark clouds away \n",
      " And who said that they would bring joy to my day \n",
      " And who said they'd wash all my sins away \n",
      " Now who touched my heart and changed my life \n",
      " And who is this One that sacrificed \n",
      " Well , who heard my prayers in the middle of the night \n",
      " And when I was blind who opened my eyes \n",
      " \n",
      " Oh , there He is \n",
      " Reach out and touch Him \n",
      " There He is \n",
      " Call out His name \n",
      " There He is \n",
      " Don't be afraid \n",
      " There He is \n",
      " Look up in the sky \n",
      " There He is \n",
      " It's a bird it's a plane \n",
      " There He is \n",
      " No it's Jesus \n",
      " There He is \n",
      " Coming to save me \n",
      " There He is \n",
      " Hallelujah \n",
      " Now who told the Son to set me free \n",
      " Who laid down and died for me \n",
      " And who said the homeless was the same as me \n",
      " Who took solid ground and placed my feet \n",
      " And who gave the purpose and reason to sing \n",
      " Who gave the music melody \n",
      " When trouble was chasing who parted my sea \n",
      " Somebody talk to me where is this He \n",
      " \n",
      " If you are young man strugglin' \n",
      " Or a younger seekin' \n",
      " You don't have to search no more \n",
      " Just look to the arms of Jesus \n",
      " You can get Him for yourself \n",
      " You don't need nobody else \n",
      " Jesus fall to your knees and pray \n",
      " And you looking for Jesus , searching for Jesus \n",
      " \n",
      " There He is \n",
      " Wherever I go \n",
      " There He is \n",
      " Wherever I turn \n",
      " There He is \n",
      " He's all around \n",
      " There He is \n",
      " Reach out and touch Him \n",
      " There He is \n",
      " He's right there \n",
      " There He is \n",
      " And He's guaranteed to answer \n",
      " There He is \n",
      " All of your prayers \n",
      " There He is \n",
      " I can feel Him \n",
      " There He is \n",
      " Whoa yeah \n",
      " There He is \n",
      " He's changing your life right now \n",
      " There He is \n",
      " Oh yes He is \n",
      " There He is \n",
      " There He is \n",
      " There He is \n",
      " When troubles come \n",
      " There He is \n",
      " Just close your eyes \n",
      " There He is \n",
      " And lift your head \n",
      " There He is \n",
      " Towards the sky \n",
      " There He is \n",
      " Just call on Him \n",
      " There He is \n",
      " And you shall find \n",
      " There He is \n",
      " He was there \n",
      " There He is \n",
      " All of the time \n",
      " There He is \n",
      " If your friends are around \n",
      " There He is \n",
      " Then you somewhere by yourself \n",
      " There He is \n",
      " Call on His name \n",
      " There He is \n",
      " He will be right there \n",
      " There He is \n",
      " No matter what the problem \n",
      " There He is \n",
      " Or the situation \n",
      " There He is \n",
      " My Jesus can fix it \n",
      " There He is \n",
      " With no hesitation \n",
      " There He is \n",
      " If your money is gone \n",
      " There He is \n",
      " And you need some help \n",
      " There He is \n",
      " On your dying bed \n",
      " There He is \n",
      " You're not by yourself \n",
      " Everywhere you turn \n",
      " Everywhere you turn \n",
      " Everywhere you turn \n",
      " Everywhere you turn \n",
      " Everywhere you go \n",
      " Everywhere you go \n",
      " All around \n",
      " And when you walk \n",
      " There He is \n",
      " When you talk \n",
      " There He is \n",
      " And when you cry \n",
      " There He is \n",
      " Go down on your knees and call on Him \n",
      " Jesus reach out and touch and believe He's right there \n",
      " There He is \n",
      " And you can do all things through Christ Jesus that strengthens you \n",
      " There He is\n",
      "prediced tensor:  tensor([[ 2832,  5802,  9754,  9895,  9754,  6092,  6092,  1394,  5718,  2832,\n",
      "          9754,  9754,  6092,  9052,  2832,  5718,  2832,  6092,  6092,  2832,\n",
      "          2520,  9754,  9754,  2832,  9754,  5718,  9754,  6092,  6092,  2832,\n",
      "          1277,  9754,  9754,  9754,  6092,  6092,  6092,  2832,  6092,  9754,\n",
      "          5718,  9754,  9754,  5718,  1277,  9754,  6092,  6092,  1394,  2832,\n",
      "          9895,  9754,  9754,  1277,  9754,  9754,  6092,  6092,  6092,  2832,\n",
      "          8851,  9754,  6092,  9754,  2520,  9754,  6092,  6092,  8317,  7099,\n",
      "          9754,  9754,  2832,  9754,  6092,  8317,  6092,  6092,  2832,  1277,\n",
      "          9754,  9895,  2520,  9754,  9895,  8755,  9754,  6092,  6092,  6092,\n",
      "          7290,  8304,  6413,  6092,  2832,  8851,  9754,  6092,  6092,  8035,\n",
      "          4410,  6092,  9754,  9754,  6092,  8035,  6413,  2832,  9754,  9754,\n",
      "          6092,  6092,  7099,  9754,  6092,  8051,  9754,  1231,  9754,  6092,\n",
      "          6092,  8317,  9754,  6092,  2832,  7099,  9754,  6092,  8317,  8317,\n",
      "          9754,  6092,  9754,  9754,  9895,  1277,  9754,  6092,  8317,  9754,\n",
      "          9754,  6092,  7099,  8755,  9754,  9895,  8851,  9754,  6092,  9754,\n",
      "          9754,  9754,  6092,  8317,  9895,  9754,  6092,  6092,  8035,  9754,\n",
      "          6092,  9754,  9895,  9754,  9754,  6092,  6092,  9754,  9754,  6092,\n",
      "          9754,  6092,  9754,  9754,  8051,  2520,  9754,  8051,  9754,  9754,\n",
      "          9754,  6092,  9852,  8304,  9754,  2832,  9754,  2832,  9754,  6092,\n",
      "          6092,  6092,  2832,  8755,  9754,  9754,  2520,  9754,  9754,  9754,\n",
      "          6092,  6092,  9895,  9754,  9754,  2832,  8051,  8755,  9754,  6092,\n",
      "          9895,  1394,  8051,  8851,  9754,  9754,  9754,  2832,  9754,  6092,\n",
      "          1237,  8051,  1277, 10503,  9754,  6092,  6092,  9754,  9754,  9754,\n",
      "          9754,  9754,  8851,  9754,  6092,  9754,  6413,  5718,  9754,  2832,\n",
      "          9754,  9754,  9754,  6092,  6092,  6092,  1237,  9895,  9754,  9754,\n",
      "          9754,  6092,  9895,  9052, 10503,  9754,  6092,  9852,  5718,  9895,\n",
      "          5718,  9754,  9754,  9754,  6092,  6092,  6413,  9895,  2520,  9754,\n",
      "          8051,  9754,  6092,  8317,  5718,  9895,  9754,  8051,  9754,  6092,\n",
      "          9852,  5718,  2832,  9754,  9754,  6092,  8035,  9754,  9754,  8851,\n",
      "          9754,  6092,  9754,  6092,  6092,  7290,  6413,  9895,  9754,  9754,\n",
      "          9754,  8051,  9754,  6092,  6092,  6092,  8317,  9754,  6092,  9895,\n",
      "          7290,  9754,  6092,  8317,  8035,  9754,  6092,  2832,  9852,  9754,\n",
      "          6092,  6092,  9754,  9754,  6092,  7099,  6413,  9754,  6092,  6092,\n",
      "          8317,  9754,  6092,  9754,  9754,  6092,  9754,  9754,  6092,  6092,\n",
      "          8317,  9754,  6092,  7099,  9754,  9754,  6092,  8317,  9754,  9754,\n",
      "          6092,  6092,  7099,  9754,  2832,  9754,  6092,  6092,  9754,  9754,\n",
      "          6092,  9895,  9895,  1277,  9754,  6092,  9754,  9754,  9754,  6092,\n",
      "          1237,  5718,  9895,  9754,  6092,  6092,  9754,  9754,  6092,  9754,\n",
      "          9754,  6092,  6092,  9754,  9754,  6092,  7099,  2832,  8851,  9754,\n",
      "          9754,  9754,  6092,  6092,  8035,  9754,  6092,  9754,  9754,  9754,\n",
      "          9754,  6092,  8317,  9754,  9754,  6092,  6092,  9754,  9754,  6092,\n",
      "          8035,  9754,  9754,  6092,  6092,  2832,  9754,  6092,  9754,  9754,\n",
      "          9754,  6092,  6092,  9895,  1277,  9754,  6092,  6092,  9754,  9754,\n",
      "          6092,  9895,  9895,  8851,  9754,  6092,  8317,  9754,  9754,  6092,\n",
      "          9895,  2520,  9754,  6092,  9754,  9754,  9754,  6092,  9895,  2832,\n",
      "          9895,  9754,  6092,  6092,  9754,  9754,  6092,  6092,  9852,  9754,\n",
      "          8051,  6092,  9754,  9754,  9754,  6092,  1394,  7099,  9754,  6092,\n",
      "          8035,  9754,  9754,  6092,  9895,  9895,  2520,  9754,  6092,  8317,\n",
      "          9754,  9754,  6092,  2832,  1277,  9754,  9754,  9754,  6092,  6092,\n",
      "          8317,  9754,  6092,  6092,  9754,  9754,  8051,  9754,  6092,  6092,\n",
      "          8317,  9754,  6092,  8051,  9895,  1277,  9754,  6092,  6092,  8035,\n",
      "          9754,  6092,  9754,  5718,  9754,  9754,  9754,  6092,  9754,  8317,\n",
      "          9754,  6092,  9754,  9754,  9754,  2520,  9754,  6092,  8317,  9052,\n",
      "          9754,  6092,  6092,  8755,  9754,  6092,  9754,  9754,  9754,  6092,\n",
      "          1277,  9754,  5718,  9754,  9754,  6092,  6092,  9754,  9754,  6092,\n",
      "          2832,  9754,  9754,  6092,  6092,  9754,  9754,  6092,  2832,  8755,\n",
      "          9754,  9754,  9754,  6092,  6092,  9754,  9754,  6092,  6092,  1394,\n",
      "          8051,  9754,  9754,  6092,  6092,  9754,  9754,  6092,  9895,  2520,\n",
      "          9754,  9754,  6092,  6092,  8035,  9754,  6092,  7099,  9895,  9895,\n",
      "          9754,  6092,  9754,  9754,  9754,  6092,  8051,  9754,  8051,  6092,\n",
      "          9754,  9754,  9754,  6092,  9754,  9754,  9754,  6092,  9754,  9754,\n",
      "          9754,  6092,  2832,  9754,  9754,  6092,  2832,  9754,  6092,  6092,\n",
      "          2832,  7290,  9754,  6092,  8035,  9754,  9754,  6092,  2832,  7290,\n",
      "          8051,  6092,  9754,  9754,  9754,  6092,  6092,  2832,  9852,  9754,\n",
      "          6092,  8317,  9754,  9754,  6092,  9754,  9754,  9754,  8851,  9754,\n",
      "          9754,  8051,  9754,  9754,  6092,  9754,  9754,  9754,  9754,  9754,\n",
      "          2832,  9754,  9754,  9754,  9754,  6092,  8317,  8317,  9895,  6092,\n",
      "          6092,  9852,  9852,  9754,  9754,  9754,  9754,  9754,  9754,  2832,\n",
      "          9754,  9754,  6092,  8035,  7099]])\n",
      "decoded string:  you gonna \n",
      " the \n",
      " i i are be you \n",
      " \n",
      " i love you be you i i you way \n",
      " \n",
      " you \n",
      " be \n",
      " i i you heart \n",
      " \n",
      " \n",
      " i i i you i \n",
      " be \n",
      " \n",
      " be heart \n",
      " i i are you the \n",
      " \n",
      " heart \n",
      " \n",
      " i i i you life \n",
      " i \n",
      " way \n",
      " i i is a \n",
      " \n",
      " you \n",
      " i is i i you heart \n",
      " the way \n",
      " the world \n",
      " i i i want on to i you life \n",
      " i i , oh i \n",
      " \n",
      " i , to you \n",
      " \n",
      " i i a \n",
      " i me \n",
      " mind \n",
      " i i is \n",
      " i you a \n",
      " i is is \n",
      " i \n",
      " \n",
      " the heart \n",
      " i is \n",
      " \n",
      " i a world \n",
      " the life \n",
      " i \n",
      " \n",
      " \n",
      " i is the \n",
      " i i , \n",
      " i \n",
      " the \n",
      " \n",
      " i i \n",
      " \n",
      " i \n",
      " i \n",
      " \n",
      " me way \n",
      " me \n",
      " \n",
      " \n",
      " i know on \n",
      " you \n",
      " you \n",
      " i i i you world \n",
      " \n",
      " way \n",
      " \n",
      " \n",
      " i i the \n",
      " \n",
      " you me world \n",
      " i the are me life \n",
      " \n",
      " \n",
      " you \n",
      " i don't me heart of \n",
      " i i \n",
      " \n",
      " \n",
      " \n",
      " \n",
      " life \n",
      " i \n",
      " to be \n",
      " you \n",
      " \n",
      " \n",
      " i i i don't the \n",
      " \n",
      " \n",
      " i the love of \n",
      " i know be the be \n",
      " \n",
      " \n",
      " i i to the way \n",
      " me \n",
      " i is be the \n",
      " me \n",
      " i know be you \n",
      " \n",
      " i , \n",
      " \n",
      " life \n",
      " i \n",
      " i i want to the \n",
      " \n",
      " \n",
      " me \n",
      " i i i is \n",
      " i the want \n",
      " i is , \n",
      " i you know \n",
      " i i \n",
      " \n",
      " i a to \n",
      " i i is \n",
      " i \n",
      " \n",
      " i \n",
      " \n",
      " i i is \n",
      " i a \n",
      " \n",
      " i is \n",
      " \n",
      " i i a \n",
      " you \n",
      " i i \n",
      " \n",
      " i the the heart \n",
      " i \n",
      " \n",
      " \n",
      " i don't be the \n",
      " i i \n",
      " \n",
      " i \n",
      " \n",
      " i i \n",
      " \n",
      " i a you life \n",
      " \n",
      " \n",
      " i i , \n",
      " i \n",
      " \n",
      " \n",
      " \n",
      " i is \n",
      " \n",
      " i i \n",
      " \n",
      " i , \n",
      " \n",
      " i i you \n",
      " i \n",
      " \n",
      " \n",
      " i i the heart \n",
      " i i \n",
      " \n",
      " i the the life \n",
      " i is \n",
      " \n",
      " i the way \n",
      " i \n",
      " \n",
      " \n",
      " i the you the \n",
      " i i \n",
      " \n",
      " i i know \n",
      " me i \n",
      " \n",
      " \n",
      " i are a \n",
      " i , \n",
      " \n",
      " i the the way \n",
      " i is \n",
      " \n",
      " i you heart \n",
      " \n",
      " \n",
      " i i is \n",
      " i i \n",
      " \n",
      " me \n",
      " i i is \n",
      " i me the heart \n",
      " i i , \n",
      " i \n",
      " be \n",
      " \n",
      " \n",
      " i \n",
      " is \n",
      " i \n",
      " \n",
      " \n",
      " way \n",
      " i is love \n",
      " i i world \n",
      " i \n",
      " \n",
      " \n",
      " i heart \n",
      " be \n",
      " \n",
      " i i \n",
      " \n",
      " i you \n",
      " \n",
      " i i \n",
      " \n",
      " i you world \n",
      " \n",
      " \n",
      " i i \n",
      " \n",
      " i i are me \n",
      " \n",
      " i i \n",
      " \n",
      " i the way \n",
      " \n",
      " i i , \n",
      " i a the the \n",
      " i \n",
      " \n",
      " \n",
      " i me \n",
      " me i \n",
      " \n",
      " \n",
      " i \n",
      " \n",
      " \n",
      " i \n",
      " \n",
      " \n",
      " i you \n",
      " \n",
      " i you \n",
      " i i you want \n",
      " i , \n",
      " \n",
      " i you want me i \n",
      " \n",
      " \n",
      " i i you know \n",
      " i is \n",
      " \n",
      " i \n",
      " \n",
      " \n",
      " life \n",
      " \n",
      " me \n",
      " \n",
      " i \n",
      " \n",
      " \n",
      " \n",
      " \n",
      " you \n",
      " \n",
      " \n",
      " \n",
      " i is is the i i know know \n",
      " \n",
      " \n",
      " \n",
      " \n",
      " \n",
      " you \n",
      " \n",
      " i , a \n"
     ]
    },
    {
     "name": "stdout",
     "output_type": "stream",
     "text": [
      "loss in current iteration:  4.348729610443115\n",
      "Input string:  Stop searchin' , no need lookin' around \n",
      " Got what you need , stop foolin' around \n",
      " Everything you need , I already found \n",
      " And it's so lovely I can't wait for you to see \n",
      " How this love has changed my life , my life \n",
      " Make me wanna change wrong from right , from right \n",
      " And I love it I just wanna share it \n",
      " I promise that you won't regret it \n",
      " You been searchin' for a long , long time \n",
      " You looked there but not here and I will bet if \n",
      " You have this love in you \n",
      " You'll be tellin' everybody , like I'm tellin' you \n",
      " Real love , real love , I got it and I gotta shout it \n",
      " And let everybody know about it \n",
      " Real love , real love , I got it an' I'm so glad I found it \n",
      " And I won't let it go \n",
      " Real love , real love , I got it and I gotta shout it \n",
      " And let everybody know about it \n",
      " Real love , real love , I got it an' I'm so glad I found it \n",
      " And I won't let it go \n",
      " I used to be you , lookin' and searchin' \n",
      " Just tryin' to find something true \n",
      " That's why you should listen and stop trippin' \n",
      " 'Cause I know what you been missin' \n",
      " What's good for you , oh , that's why you need this love \n",
      " 'Cause one thing I promise you will never get caught up \n",
      " 'Cause this love is so beautiful \n",
      " It will change your life and make everything alright \n",
      " You been searchin' for a long , long time \n",
      " You looked there but not here and I will bet if \n",
      " You have this love in you \n",
      " You'll be tellin' everybody , like I'm tellin' you \n",
      " Real love , real love , I got it and I gotta shout it \n",
      " And let everybody know about it \n",
      " Real love , real love , I got it an' I'm so glad I found it \n",
      " And I won't let it go \n",
      " Real love , real love , I got it and I gotta shout it \n",
      " And let everybody know about it \n",
      " Real love , real love , I got it an' I'm so glad I found it \n",
      " And I won't let it go \n",
      " I want you to know the truth \n",
      " You need to know the truth \n",
      " You want change , it will bring \n",
      " Everything that's missing you too \n",
      " Real love , real love , I got it and I gotta shout it \n",
      " And let everybody know about it \n",
      " Real love , real love , I got it an' I'm so glad I found it \n",
      " And I won't let it go \n",
      " Real love , real love , I got it and I gotta shout it \n",
      " And let everybody know about it \n",
      " Real love , real love , I got it an' I'm so glad I found it \n",
      " And I won't let it go \n",
      " Real love , real love , I got it and I gotta shout it \n",
      " And let everybody know about it \n",
      " Real love , real love , I got it an' I'm so glad I found it \n",
      " And I won't let it go \n",
      " Real love , real love , I got it and I gotta shout it \n",
      " And let everybody know about it \n",
      " Real love , real love , I got it an' I'm so glad I found it \n",
      " And I won't let it go \n",
      " Real love real , I won't let it go \n",
      " Real love real , I won't let it go \n",
      " Real love real , I won't let it go \n",
      " Real love real , I won't let it\n",
      "Target string:  searchin' , no need lookin' around \n",
      " Got what you need , stop foolin' around \n",
      " Everything you need , I already found \n",
      " And it's so lovely I can't wait for you to see \n",
      " How this love has changed my life , my life \n",
      " Make me wanna change wrong from right , from right \n",
      " And I love it I just wanna share it \n",
      " I promise that you won't regret it \n",
      " You been searchin' for a long , long time \n",
      " You looked there but not here and I will bet if \n",
      " You have this love in you \n",
      " You'll be tellin' everybody , like I'm tellin' you \n",
      " Real love , real love , I got it and I gotta shout it \n",
      " And let everybody know about it \n",
      " Real love , real love , I got it an' I'm so glad I found it \n",
      " And I won't let it go \n",
      " Real love , real love , I got it and I gotta shout it \n",
      " And let everybody know about it \n",
      " Real love , real love , I got it an' I'm so glad I found it \n",
      " And I won't let it go \n",
      " I used to be you , lookin' and searchin' \n",
      " Just tryin' to find something true \n",
      " That's why you should listen and stop trippin' \n",
      " 'Cause I know what you been missin' \n",
      " What's good for you , oh , that's why you need this love \n",
      " 'Cause one thing I promise you will never get caught up \n",
      " 'Cause this love is so beautiful \n",
      " It will change your life and make everything alright \n",
      " You been searchin' for a long , long time \n",
      " You looked there but not here and I will bet if \n",
      " You have this love in you \n",
      " You'll be tellin' everybody , like I'm tellin' you \n",
      " Real love , real love , I got it and I gotta shout it \n",
      " And let everybody know about it \n",
      " Real love , real love , I got it an' I'm so glad I found it \n",
      " And I won't let it go \n",
      " Real love , real love , I got it and I gotta shout it \n",
      " And let everybody know about it \n",
      " Real love , real love , I got it an' I'm so glad I found it \n",
      " And I won't let it go \n",
      " I want you to know the truth \n",
      " You need to know the truth \n",
      " You want change , it will bring \n",
      " Everything that's missing you too \n",
      " Real love , real love , I got it and I gotta shout it \n",
      " And let everybody know about it \n",
      " Real love , real love , I got it an' I'm so glad I found it \n",
      " And I won't let it go \n",
      " Real love , real love , I got it and I gotta shout it \n",
      " And let everybody know about it \n",
      " Real love , real love , I got it an' I'm so glad I found it \n",
      " And I won't let it go \n",
      " Real love , real love , I got it and I gotta shout it \n",
      " And let everybody know about it \n",
      " Real love , real love , I got it an' I'm so glad I found it \n",
      " And I won't let it go \n",
      " Real love , real love , I got it and I gotta shout it \n",
      " And let everybody know about it \n",
      " Real love , real love , I got it an' I'm so glad I found it \n",
      " And I won't let it go \n",
      " Real love real , I won't let it go \n",
      " Real love real , I won't let it go \n",
      " Real love real , I won't let it go \n",
      " Real love real , I won't let it go\n",
      "prediced tensor:  tensor([[ 9754,  9754,  9754,  9754,  9754,  9754,  9754,  6092,  9895,  2832,\n",
      "          9852,  2832,  9754,  8035,  9895,  9754,  6092,  6092,  9852,  8051,\n",
      "          9754,  9852,  6485,  9754,  6092,  6092,  7099,  9895,  8317,  9852,\n",
      "          5718,  9754,  2832,  9754,  2832,  9754,  6092,  6092,  2520,  8317,\n",
      "          9895,  6413,  9052,  9754,  9754,  2520,  9754,  6092,  8051,  2832,\n",
      "          9895,  6413,  9754,  9895,  9754,  9754,  2832,  9754,  6092,  6092,\n",
      "          9852,  2832,  8035,  9852,  9754,  5718,  6413,  9754,  6092,  9852,\n",
      "          2832,  6092,  9852,  5718,  9754,  9754,  6092,  9852,  7099,  9754,\n",
      "          2832,  2520,  9754,  9754,  9754,  9754,  6092,  9852,  6413,  8035,\n",
      "          6092,  8035,  6413,  2832, 10273,  6485,  9754,  6092,  6092,  9852,\n",
      "          7099,  9052,  2832,  9895,  9754,  6092,  6092,  7099,  2832,  9754,\n",
      "          9754,  8051,  7099,  9754,  9754,  6092, 10386,  6413,  6092,  8304,\n",
      "          8035,  9754,  9852,  2832,  6413,  6092,  9852,  9852,  9754,  9754,\n",
      "          6092,  6092,  8051,  6485,  8035,  2832,  9754,  6092,  9754,  8035,\n",
      "          6092,  9754,  2832,  9754,  9852,  6413,  8035,  9754,  9754,  9754,\n",
      "          2832,  7290,  9754,  9754,  6092,  6092,  9852,  9852,  2832,  5718,\n",
      "          9754,  6092,  8035,  8035,  6092,  9754,  9754,  9754,  9852,  6413,\n",
      "          9754,  6092,  7290,  6485,  9754,  9754,  6092,  6092,  2832,  9852,\n",
      "          2832,  2832,  9754,  6092,  6413,  8035,  9754,  9754,  8035,  6092,\n",
      "          9852,  2832,  9754,  9052, 10386,  9754,  6092,  9852,  9754,  9754,\n",
      "          6092,  6092,  9852,  5718,  8051,  8035,  9754,  6092,  9852,  2832,\n",
      "          5718,  7099,  9754,  6092,  9754,  6092,  9754,  6092,  9895,  6413,\n",
      "          5718,  8051,  9754,  9754,  6092,  2832,  6092,  7290,  5718,  9754,\n",
      "          6092,  9754,  9754,  6092,  6092,  9852,  6092,  2832,  9852,  9754,\n",
      "          9754,  6092,  9895,  6413,  9895,  9754,  9754,  9754,  6092,  9895,\n",
      "          9754,  9852,  8051,  9754,  9754,  6092,  6092,  9895,  8035,  9852,\n",
      "          9754,  9754,  6485,  5718,  6413,  9754,  9754,  6092,  6092,  8035,\n",
      "          2832,  2832,  9754,  9754,  6092,  8035,  5718,  9754,  2520,  9754,\n",
      "          2832,  8051,  6092,  9754,  6092,  9852,  7099,  9754,  2832,  8755,\n",
      "          9754,  9754,  9754,  9754,  6092,  9852,  6413,  6413,  6092,  9895,\n",
      "          9754,  6092,  9852,  5718,  2832,  6092,  6092,  9852,  2832,  9052,\n",
      "          2832,  9895,  9754,  6092,  5718,  7099,  2832,  9754,  9754,  2832,\n",
      "          9754,  6413,  9754,  6092,  9754,  8035,  6092,  9754,  9754,  9754,\n",
      "          1237,  2832,  9754,  6092,  9852,  9852,  9754,  9754,  6092,  6092,\n",
      "          2832,  9754,  2832,  2832,  9754,  6092,  9754,  6413,  6092,  9754,\n",
      "          6413,  6092,  9852,  2832,  8035,  9754,  9754,  9754,  9754,  1631,\n",
      "          9754,  9754,  6092,  6092,  9852,  9052,  2832,  9754,  9754,  6092,\n",
      "          9754,  2832,  6092,  9754,  9754,  9754,  9852,  2832,  8035,  6092,\n",
      "         10273,  5718,  9754,  9754,  6092,  6092,  8051,  9852,  9754,  2832,\n",
      "          9754,  6092,  6413,  6413,  6092,  9754,  8035,  9754,  9852,  2832,\n",
      "          9754,  2520,  9754,  9754,  9754,  7290,  9754,  9754,  6092,  6092,\n",
      "          1631,  5718,  2832,  9852,  9754,  6092,  9852,  2832,  6413,  2832,\n",
      "          9754,  2520,  8035,  6092,  1237,  2832,  5718,  9754,  2520,  9754,\n",
      "          6092,  9852,  8051,  9754,  6092,  9754,  5718,  2832,  6092,  9754,\n",
      "          9895,  9754,  9754,  9754,  6092,  9754,  9754,  6092,  9754,  8035,\n",
      "          9754,  9852,  2832,  9754,  2832,  9852,  6485,  9754,  9754,  6092,\n",
      "          6092,  2832,  2832,  9754,  2832,  9754,  6092,  9754,  9754,  6092,\n",
      "          8304,  9754,  9754,  9852,  2832,  9754,  2520,  9754,  9754,  9754,\n",
      "          9852,  9754,  9754,  6092,  6092,  9852,  5718,  2832,  9754,  9754,\n",
      "          6092,  8035,  6413,  6092,  9754,  9754,  9754,  9852,  2832,  9754,\n",
      "          6092,  9852,  9754,  9754,  9754,  6092,  6092,  8051,  9852,  2832,\n",
      "          8051,  9754,  6092,  9754,  9754,  6092,  9754,  9754,  9754,  9852,\n",
      "          2832,  6413,  9754,  7099,  9754,  6092,  7290,  9754,  9754,  6092,\n",
      "          6092,  9852,  9852,  2832,  5718,  9754,  6092,  8035,  6413,  6092,\n",
      "          9754,  9754,  6092,  9852,  2832,  9754,  6092,  9852,  5718,  9754,\n",
      "          9754,  6092,  6092,  2832,  9852,  2832,  2832,  9754,  6092,  8035,\n",
      "          8035,  6092,  9895,  9754,  9754,  9852,  6413,  9754,  2520,  2852,\n",
      "          9754,  2832,  7290,  9754,  9754,  6092,  6092,  9852,  5718,  2832,\n",
      "          9754,  9754,  6092,  9895,  8035,  9754,  9754,  9754,  6092,  9852,\n",
      "          2832,  9754,  2832,  9852,  6485,  9754,  9754,  6092,  6092,  8051,\n",
      "          9754,  2832,  2832,  9754,  6092,  8035,  6413,  6092,  9754,  8035,\n",
      "          9754,  7290,  2832,  9754,  9052,  9754,  9754,  6092,  9852,  9754,\n",
      "          9754,  6092,  6092,  1237,  5718,  2832,  6413,  9754,  6092, 10386,\n",
      "          8035,  8035,  9754,  9852,  9852,  2832,  9754,  9754,  6092,  9754,\n",
      "          2832,  9754,  9754,  9852,  2832,  8051,  9852,  9754,  6092,  9895,\n",
      "          8035,  9754,  9754,  9852,  9852,  2832,  9754,  9754,  6092,  9895,\n",
      "          8035,  9754,  9754,  9852,  5718,  2832,  9754]])\n",
      "decoded string:  \n",
      " \n",
      " \n",
      " \n",
      " \n",
      " \n",
      " \n",
      " i the you know you \n",
      " , the \n",
      " i i know me \n",
      " know do \n",
      " i i a the is know be \n",
      " you \n",
      " you \n",
      " i i way is the to love \n",
      " \n",
      " way \n",
      " i me you the to \n",
      " the \n",
      " \n",
      " you \n",
      " i i know you , know \n",
      " be to \n",
      " i know you i know be \n",
      " \n",
      " i know a \n",
      " you way \n",
      " \n",
      " \n",
      " \n",
      " i know to , i , to you can do \n",
      " i i know a love you the \n",
      " i i a you \n",
      " \n",
      " me a \n",
      " \n",
      " i in to i on , \n",
      " know you to i know know \n",
      " \n",
      " i i me do , you \n",
      " i \n",
      " , i \n",
      " you \n",
      " know to , \n",
      " \n",
      " \n",
      " you want \n",
      " \n",
      " i i know know you be \n",
      " i , , i \n",
      " \n",
      " \n",
      " know to \n",
      " i want do \n",
      " \n",
      " i i you know you you \n",
      " i to , \n",
      " \n",
      " , i know you \n",
      " love in \n",
      " i know \n",
      " \n",
      " i i know be me , \n",
      " i know you be a \n",
      " i \n",
      " i \n",
      " i the to be me \n",
      " \n",
      " i you i want be \n",
      " i \n",
      " \n",
      " i i know i you know \n",
      " \n",
      " i the to the \n",
      " \n",
      " \n",
      " i the \n",
      " know me \n",
      " \n",
      " i i the , know \n",
      " \n",
      " do be to \n",
      " \n",
      " i i , you you \n",
      " \n",
      " i , be \n",
      " way \n",
      " you me i \n",
      " i know a \n",
      " you world \n",
      " \n",
      " \n",
      " \n",
      " i know to to i the \n",
      " i know be you i i know you love you the \n",
      " i be a you \n",
      " \n",
      " you \n",
      " to \n",
      " i \n",
      " , i \n",
      " \n",
      " \n",
      " don't you \n",
      " i know know \n",
      " \n",
      " i i you \n",
      " you you \n",
      " i \n",
      " to i \n",
      " to i know you , \n",
      " \n",
      " \n",
      " \n",
      " can't \n",
      " \n",
      " i i know love you \n",
      " \n",
      " i \n",
      " you i \n",
      " \n",
      " \n",
      " know you , i can be \n",
      " \n",
      " i i me know \n",
      " you \n",
      " i to to i \n",
      " , \n",
      " know you \n",
      " way \n",
      " \n",
      " \n",
      " want \n",
      " \n",
      " i i can't be you know \n",
      " i know you to you \n",
      " way , i don't you be \n",
      " way \n",
      " i know me \n",
      " i \n",
      " be you i \n",
      " the \n",
      " \n",
      " \n",
      " i \n",
      " \n",
      " i \n",
      " , \n",
      " know you \n",
      " you know do \n",
      " \n",
      " i i you you \n",
      " you \n",
      " i \n",
      " \n",
      " i on \n",
      " \n",
      " know you \n",
      " way \n",
      " \n",
      " \n",
      " know \n",
      " \n",
      " i i know be you \n",
      " \n",
      " i , to i \n",
      " \n",
      " \n",
      " know you \n",
      " i know \n",
      " \n",
      " \n",
      " i i me know you me \n",
      " i \n",
      " \n",
      " i \n",
      " \n",
      " \n",
      " know you to \n",
      " a \n",
      " i want \n",
      " \n",
      " i i know know you be \n",
      " i , to i \n",
      " \n",
      " i know you \n",
      " i know be \n",
      " \n",
      " i i you know you you \n",
      " i , , i the \n",
      " \n",
      " know to \n",
      " way time \n",
      " you want \n",
      " \n",
      " i i know be you \n",
      " \n",
      " i the , \n",
      " \n",
      " \n",
      " i know you \n",
      " you know do \n",
      " \n",
      " i i me \n",
      " you you \n",
      " i , to i \n",
      " , \n",
      " want you \n",
      " love \n",
      " \n",
      " i know \n",
      " \n",
      " i i don't be you to \n",
      " i in , , \n",
      " know know you \n",
      " \n",
      " i \n",
      " you \n",
      " \n",
      " know you me know \n",
      " i the , \n",
      " \n",
      " know know you \n",
      " \n",
      " i the , \n",
      " \n",
      " know be you \n",
      " \n"
     ]
    },
    {
     "name": "stdout",
     "output_type": "stream",
     "text": [
      "char not found in printable characters:  déjà\n",
      "char not found in printable characters:  déjà\n",
      "char not found in printable characters:  déjà\n",
      "char not found in printable characters:  déjà\n",
      "char not found in printable characters:  déjà\n",
      "char not found in printable characters:  déjà\n",
      "loss in current iteration:  5.08379602432251\n",
      "Input string:  Lately I've been thinkin' \n",
      " Thinking 'bout you \n",
      " And all the things \n",
      " I've seen you go through \n",
      " Your mother the kids and \n",
      " The problems at home \n",
      " Sorry I wish I could fix what's wrong \n",
      " I hurt when you hurt and \n",
      " I cry when you cry \n",
      " Even the deep ones \n",
      " Sometimes wonder why am I going through \n",
      " I'm waiting but still no use \n",
      " \n",
      " He's still in control \n",
      " He's sovereign and He knows \n",
      " Just how it feels to be afraid \n",
      " Have folk you love walk away \n",
      " Be still and know He's still in control \n",
      " \n",
      " Lately depression \n",
      " Your job and your life \n",
      " Weighs on your mind \n",
      " All day and all night \n",
      " You know every scripture \n",
      " And what prayer to pray \n",
      " Only a fool would think \n",
      " It'll all go away \n",
      " But there is a use \n",
      " For you there's a plan \n",
      " A High Priest who knows \n",
      " And who understands what you cannot say \n",
      " Just a little longer can you wait \n",
      " \n",
      " \n",
      " Don't know what tomorrow will bring \n",
      " Or if this sickness will ever leave \n",
      " You can paint a perfect picture \n",
      " But will it ever look like it used to be \n",
      " See , one thing I know for sure \n",
      " This season made you stronger and more mature \n",
      " Can't you see how far you've come \n",
      " And when you look back \n",
      " It's gonna be worth it , oooh \n",
      " \n",
      " He's still in control \n",
      " He's still in control \n",
      " He's still in\n",
      "Target string:  I've been thinkin' \n",
      " Thinking 'bout you \n",
      " And all the things \n",
      " I've seen you go through \n",
      " Your mother the kids and \n",
      " The problems at home \n",
      " Sorry I wish I could fix what's wrong \n",
      " I hurt when you hurt and \n",
      " I cry when you cry \n",
      " Even the deep ones \n",
      " Sometimes wonder why am I going through \n",
      " I'm waiting but still no use \n",
      " \n",
      " He's still in control \n",
      " He's sovereign and He knows \n",
      " Just how it feels to be afraid \n",
      " Have folk you love walk away \n",
      " Be still and know He's still in control \n",
      " \n",
      " Lately depression \n",
      " Your job and your life \n",
      " Weighs on your mind \n",
      " All day and all night \n",
      " You know every scripture \n",
      " And what prayer to pray \n",
      " Only a fool would think \n",
      " It'll all go away \n",
      " But there is a use \n",
      " For you there's a plan \n",
      " A High Priest who knows \n",
      " And who understands what you cannot say \n",
      " Just a little longer can you wait \n",
      " \n",
      " \n",
      " Don't know what tomorrow will bring \n",
      " Or if this sickness will ever leave \n",
      " You can paint a perfect picture \n",
      " But will it ever look like it used to be \n",
      " See , one thing I know for sure \n",
      " This season made you stronger and more mature \n",
      " Can't you see how far you've come \n",
      " And when you look back \n",
      " It's gonna be worth it , oooh \n",
      " \n",
      " He's still in control \n",
      " He's still in control \n",
      " He's still in control\n",
      "prediced tensor:  tensor([[ 8035,  5718,  9895,  9754,  6092,  9754,  9895,  9754,  6092,  6092,\n",
      "          9895,  9052,  6092,  6092,  4445,  9895,  5718,  9754,  9754,  1490,\n",
      "          9052,  8317,  2520,  9754,  9895,  6092,  2520,  9754,  9895,  9754,\n",
      "          1490,  6092, 10273,  2832,  9052,  5718,  2832,  9754,  9754,  6092,\n",
      "         10273,  2832,  2832,  9852,  8051,  6092,  6092, 10273,  6413,  6092,\n",
      "          9852,  9754,  6092,  6092,  2520,  8317,  9754,  6092,  6092,  6092,\n",
      "          6092,  6092, 10273,  9754,  9754,  6092,  9895,  6413,  6092,  9754,\n",
      "          9754,  9754,  6092,  6092,  9895,  6413,  9895,  9754,  6092,  7099,\n",
      "          9754,  6092,  9754,  9754,  6092,  8317,  6092,  9754,  9754,  9895,\n",
      "          9754,  9754,  6092,  9895,  2832,  9754,  2832,  9754,  9754,  6092,\n",
      "          9895,  6092,  6092,  6092,  9895,  9754,  9895,  9754,  6092,  6092,\n",
      "          6092,  8035,  6092,  2520,  9754,  6092,  8851,  9754,  6092,  8035,\n",
      "          9895,  1277,  9754,  6092,  9895,  9754,  6092,  9754,  9754,  6092,\n",
      "          9852,  6092,  2520,  9754,  6092,  6092,  6092,  9754,  5718,  9754,\n",
      "          6092,  9895,  2520,  9754,  2832,  9754,  6092,  9895,  9895,  9754,\n",
      "          9754,  6092,  6092,  8035,  9895,  2520,  9754,  6092,  9895,  9754,\n",
      "          9895,  8851,  9754,  1490,  2520,  9754,  9754,  9754,  9754,  6092,\n",
      "          6092,  6092,  9754,  2832,  9852,  9754,  9754,  6092,  2832,  2520,\n",
      "          2520,  9754,  2832,  9754,  9754,  6092,  6092,  6092,  2832,  6092,\n",
      "          2832,  9754,  5718,  9754,  6092,  6092,  2832,  9052,  9754,  5718,\n",
      "          5718,  9754,  1490,  9852,  6485,  2832,  8851,  9754,  9754,  6092,\n",
      "          2832,  6092,  9754,  5718,  9754,  9754,  9754,  9754,  5718,  9754,\n",
      "          6092,  6092,  6092,  8035,  6092,  9852,  9754,  2832,  9754,  6092,\n",
      "          8317,  9754,  6413,  9754,  9754,  6092,  9754,  9754,  6092,  2832,\n",
      "          9852,  8051,  2832,  9754,  9052,  9754,  6092,  6092,  6092,  9852,\n",
      "          6413,  9754,  6092,  5802,  5718,  9754,  9754,  9754,  9754,  9754,\n",
      "          6092,  6092,  5802,  9895,  9895,  9754,  6092,  5802,  8035,  9895,\n",
      "          9754,  1490,  9895,  9895,  9895]])\n",
      "decoded string:  , be the \n",
      " i \n",
      " the \n",
      " i i the love i i been the be \n",
      " \n",
      " and love is way \n",
      " the i way \n",
      " the \n",
      " and i can you love be you \n",
      " \n",
      " i can you you know me i i can to i know \n",
      " i i way is \n",
      " i i i i i can \n",
      " \n",
      " i the to i \n",
      " \n",
      " \n",
      " i i the to the \n",
      " i a \n",
      " i \n",
      " \n",
      " i is i \n",
      " \n",
      " the \n",
      " \n",
      " i the you \n",
      " you \n",
      " \n",
      " i the i i i the \n",
      " the \n",
      " i i i , i way \n",
      " i life \n",
      " i , the heart \n",
      " i the \n",
      " i \n",
      " \n",
      " i know i way \n",
      " i i i \n",
      " be \n",
      " i the way \n",
      " you \n",
      " i the the \n",
      " \n",
      " i i , the way \n",
      " i the \n",
      " the life \n",
      " and way \n",
      " \n",
      " \n",
      " \n",
      " i i i \n",
      " you know \n",
      " \n",
      " i you way way \n",
      " you \n",
      " \n",
      " i i i you i you \n",
      " be \n",
      " i i you love \n",
      " be be \n",
      " and know do you life \n",
      " \n",
      " i you i \n",
      " be \n",
      " \n",
      " \n",
      " \n",
      " be \n",
      " i i i , i know \n",
      " you \n",
      " i is \n",
      " to \n",
      " \n",
      " i \n",
      " \n",
      " i you know me you \n",
      " love \n",
      " i i i know to \n",
      " i gonna be \n",
      " \n",
      " \n",
      " \n",
      " \n",
      " i i gonna the the \n",
      " i gonna , the \n",
      " and the the the \n",
      "loss in current iteration:  5.2670979499816895\n",
      "Input string:  Our love is like water \n",
      " Pinned down and abused \n",
      " For being strange \n",
      " Our love is no other \n",
      " Than me alone \n",
      " For me all day \n",
      " Our love is like water/angels \n",
      " Pinned down and abused \n",
      " All over you all over me \n",
      " The sun the fields the sky \n",
      " I've often tried to hold the sea \n",
      " The sun the fields the tide \n",
      " Pay me now lay me\n",
      "Target string:  love is like water \n",
      " Pinned down and abused \n",
      " For being strange \n",
      " Our love is no other \n",
      " Than me alone \n",
      " For me all day \n",
      " Our love is like water/angels \n",
      " Pinned down and abused \n",
      " All over you all over me \n",
      " The sun the fields the sky \n",
      " I've often tried to hold the sea \n",
      " The sun the fields the tide \n",
      " Pay me now lay me down\n",
      "prediced tensor:  tensor([[ 2520,  9754,  9895,  2832,  9754,  6092,  9895,  9754,  6092,  9754,\n",
      "          6092,  9895,  9895,  9754,  6092,  2520,  6413,  9895,  9754,  9754,\n",
      "          6092,  9895,  9754,  9754,  6092,  9895,  9754,  9754,  9754,  6092,\n",
      "          2520, 10503,  9895,  2832,  9754,  6092,  6413,  9754,  9895,  9754,\n",
      "          6092,  9895,  6413,  9754,  9754,  9754,  9754,  6092,  2520, 10503,\n",
      "          2520,  9754,  2520,  9754,  6092,  5718,  7099,  6413,  5718,  9754,\n",
      "          7440,  9754,  6092,  8755, 10503,  2520, 10503,  2520,  9754,  6092,\n",
      "          9895,  9754,  9754,  9754,  9754]])\n",
      "decoded string:  way \n",
      " the you \n",
      " i the \n",
      " i \n",
      " i the the \n",
      " i way to the \n",
      " \n",
      " i the \n",
      " \n",
      " i the \n",
      " \n",
      " \n",
      " i way of the you \n",
      " i to \n",
      " the \n",
      " i the to \n",
      " \n",
      " \n",
      " \n",
      " i way of way \n",
      " way \n",
      " i be a to be \n",
      " door \n",
      " i world of way of way \n",
      " i the \n",
      " \n",
      " \n",
      " \n",
      " \n",
      "loss in current iteration:  4.606640338897705\n",
      "Input string:  some say that change won't come \n",
      " we'll never live as one \n",
      " they say it can't be done \n",
      " but i know better \n",
      " they say there'll be more rain \n",
      " they say there'll be more pain \n",
      " but sun's gonna shine again \n",
      " and i know for sho' \n",
      " if you really \n",
      " really wanna you could touch the sky \n",
      " don't let them tell you you can't fly that high \n",
      " anthing you want you just go out and try \n",
      " 'cause i know \n",
      " i know \n",
      " i know \n",
      " they say the end is near \n",
      " and they say it's almost here \n",
      " but i say to have no fear \n",
      " i know \n",
      " it's not so \n",
      " some say that love's just a myth \n",
      " it's a wonderful dream but it doesn't exist \n",
      " but to look at you you're such a precious gift \n",
      " that i know \n",
      " i know \n",
      " if you really \n",
      " really wanna you could touch the sky \n",
      " don't let them tell you you can't fly that high \n",
      " anthing you want you just go out and try \n",
      " 'cause i know \n",
      " i know \n",
      " i know \n",
      " and if you really \n",
      " really want it \n",
      " it could be that way \n",
      " don't get caught up in what them people say \n",
      " all your little dreams turn into bigger things \n",
      " i know \n",
      " i know \n",
      " i know \n",
      " i just know \n",
      " that i know \n",
      " oh \n",
      " the seeds you sowed determine what you grow \n",
      " the road you take determines where you're gonna go \n",
      " and when you feel it deep inside your soul \n",
      " you'll know \n",
      " you'll know \n",
      " if you really \n",
      " really wanna you could touch the sky \n",
      " don't let them tell you you can't fly that high \n",
      " anthing you want you just go out and try \n",
      " 'cause i know \n",
      " i know \n",
      " i know \n",
      " that if you really \n",
      " really want it \n",
      " it could be that way \n",
      " don't get caught up in what them people say \n",
      " all your little dreams turn into bigger things \n",
      " i know \n",
      " i\n",
      "Target string:  say that change won't come \n",
      " we'll never live as one \n",
      " they say it can't be done \n",
      " but i know better \n",
      " they say there'll be more rain \n",
      " they say there'll be more pain \n",
      " but sun's gonna shine again \n",
      " and i know for sho' \n",
      " if you really \n",
      " really wanna you could touch the sky \n",
      " don't let them tell you you can't fly that high \n",
      " anthing you want you just go out and try \n",
      " 'cause i know \n",
      " i know \n",
      " i know \n",
      " they say the end is near \n",
      " and they say it's almost here \n",
      " but i say to have no fear \n",
      " i know \n",
      " it's not so \n",
      " some say that love's just a myth \n",
      " it's a wonderful dream but it doesn't exist \n",
      " but to look at you you're such a precious gift \n",
      " that i know \n",
      " i know \n",
      " if you really \n",
      " really wanna you could touch the sky \n",
      " don't let them tell you you can't fly that high \n",
      " anthing you want you just go out and try \n",
      " 'cause i know \n",
      " i know \n",
      " i know \n",
      " and if you really \n",
      " really want it \n",
      " it could be that way \n",
      " don't get caught up in what them people say \n",
      " all your little dreams turn into bigger things \n",
      " i know \n",
      " i know \n",
      " i know \n",
      " i just know \n",
      " that i know \n",
      " oh \n",
      " the seeds you sowed determine what you grow \n",
      " the road you take determines where you're gonna go \n",
      " and when you feel it deep inside your soul \n",
      " you'll know \n",
      " you'll know \n",
      " if you really \n",
      " really wanna you could touch the sky \n",
      " don't let them tell you you can't fly that high \n",
      " anthing you want you just go out and try \n",
      " 'cause i know \n",
      " i know \n",
      " i know \n",
      " that if you really \n",
      " really want it \n",
      " it could be that way \n",
      " don't get caught up in what them people say \n",
      " all your little dreams turn into bigger things \n",
      " i know \n",
      " i know\n",
      "prediced tensor:  tensor([[ 1277,  6092,  6092,  9754,  5718,  9754,  6092,  5718,  5718,  6413,\n",
      "          6092,  9754,  6092,  9852,  6092,  9754,  5718,  9754,  9754,  6092,\n",
      "          6092,  1237,  2832,  9754,  6092, 10273,  6092,  2832,  9754,  9754,\n",
      "          9754,  6092,  9852,  6092,  5718,  9754,  9754,  9754,  6092,  6092,\n",
      "          9895,  5718,  9754,  9754,  6092,  6092, 10273,  2832,  2832,  9754,\n",
      "          6092,  2832,  9754,  9852,  6092,  9852,  5718,  9754,  5718,  6413,\n",
      "          2520,  9754,  6092,  2832,  8051,  5718,  8051,  9754,  9754,  9852,\n",
      "          9754,  2832,  9754,  6092,  2832,  9754,  9754,  9754,  9754,  9754,\n",
      "          9754,  9754,  9754,  6092,  6092,  9852,  2832,  6092,  1237,  6092,\n",
      "          6092,  1237,  2832,  6092,  7290,  6092,  9052,  9754,  9895,  9754,\n",
      "          6092,  6092, 10131,  6092,  9895,  9754,  9754,  6092,  6092,  9852,\n",
      "          9754,  5718,  9754,  9754,  9754,  6092,  9852,  6092,  6092,  7099,\n",
      "          9895,  9754,  6092,  8317,  6092,  2832,  9754,  9754,  2520,  9754,\n",
      "          6092,  7099,  2520,  9754,  9754,  6092,  9754,  5718,  9754,  6092,\n",
      "          6092,  5718,  9754,  9895,  9754,  9895,  9895,  2520,  9754,  9754,\n",
      "          6092,  6092,  7290,  2832,  6092,  9852,  6092,  6092,  6092,  7290,\n",
      "          9754,  6092,  9852,  5718,  9754,  9754,  9754,  2520,  9754,  6092,\n",
      "          2832,  8051,  9852,  8051,  9754,  9754,  5718,  9754,  6092,  9754,\n",
      "          6092,  6092, 10273,  8051,  9754,  9754,  9754,  9754,  9754,  9754,\n",
      "          6092,  6092,  7290,  6092,  6092, 10273,  9635,  6092,  9852,  2832,\n",
      "          6092,  6092,  2832,  1394,  9852,  6092,  9052,  2832,  9754,  6092,\n",
      "          1394,  5718,  9754,  6092,  9754,  6092,  2832,  7099,  6413,  9754,\n",
      "          9895,  6092,  9754,  9754,  9754,  6092,  6092,  9052,  2520,  9754,\n",
      "          9895,  9895,  9754,  9754,  6092, 10273,  6092,  6092,  9852,  2832,\n",
      "          6092,  1237,  6092,  6092,  9852,  9852,  9754,  6092,  6092, 10273,\n",
      "          6092,  6092,  9754,  6092,  2520,  8317,  9754,  9754,  9754,  6092,\n",
      "          6485,  9754,  6092,  9052,  8317,  9852,  8051,  9754,  6092,  5802,\n",
      "          5718,  9754,  1490,  6092,  6092,  9852,  8051,  9754,  9754,  9754,\n",
      "          1231,  9754,  6092,  5718,  2832,  6092,  5718,  6092,  6092,  2832,\n",
      "          1394,  9098,  6092,  9852,  5718,  9754,  2832,  2832,  2520,  9754,\n",
      "          1490,  2832,  8051,  9052,  8051,  9754,  9754,  5718,  9754,  6092,\n",
      "          9754,  6092,  6092,  9754,  8051,  9754,  9754,  9754,  9754,  9754,\n",
      "          9754,  6092,  6092,  1193,  6092,  6092, 10273,  2832,  6092,  9852,\n",
      "          2832,  6092,  6092,  6092,  9852,  9852,  6092, 10273,  2832,  9754,\n",
      "          6092,  8317,  5718,  9895,  6092,  9754,  6092,  2832,  7099,  9754,\n",
      "          9754,  9895,  6092,  9754,  9754,  9754,  6092,  6092,  1277,  2852,\n",
      "          9754,  9754,  9895,  9754,  9754,  6092,  9852,  6092,  6092,  9052]])\n",
      "decoded string:  heart i i \n",
      " be \n",
      " i be be to i \n",
      " i know i \n",
      " be \n",
      " \n",
      " i i don't you \n",
      " i can i you \n",
      " \n",
      " \n",
      " i know i be \n",
      " \n",
      " \n",
      " i i the be \n",
      " \n",
      " i i can you you \n",
      " i you \n",
      " know i know be \n",
      " be to way \n",
      " i you me be me \n",
      " \n",
      " know \n",
      " you \n",
      " i you \n",
      " \n",
      " \n",
      " \n",
      " \n",
      " \n",
      " \n",
      " \n",
      " i i know you i don't i i don't you i want i love \n",
      " the \n",
      " i i got i the \n",
      " \n",
      " i i know \n",
      " be \n",
      " \n",
      " \n",
      " i know i i a the \n",
      " i is i you \n",
      " \n",
      " way \n",
      " i a way \n",
      " \n",
      " i \n",
      " be \n",
      " i i be \n",
      " the \n",
      " the the way \n",
      " \n",
      " i i want you i know i i i want \n",
      " i know be \n",
      " \n",
      " \n",
      " way \n",
      " i you me know me \n",
      " \n",
      " be \n",
      " i \n",
      " i i can me \n",
      " \n",
      " \n",
      " \n",
      " \n",
      " \n",
      " i i want i i can that i know you i i you are know i love you \n",
      " i are be \n",
      " i \n",
      " i you a to \n",
      " the i \n",
      " \n",
      " \n",
      " i i love way \n",
      " the the \n",
      " \n",
      " i can i i know you i don't i i know know \n",
      " i i can i i \n",
      " i way is \n",
      " \n",
      " \n",
      " i do \n",
      " i love is know me \n",
      " i gonna be \n",
      " and i i know me \n",
      " \n",
      " \n",
      " mind \n",
      " i be you i be i i you are feel i know be \n",
      " you you way \n",
      " and you me love me \n",
      " \n",
      " be \n",
      " i \n",
      " i i \n",
      " me \n",
      " \n",
      " \n",
      " \n",
      " \n",
      " \n",
      " i i wanna i i can you i know you i i i know know i can you \n",
      " i is be the i \n",
      " i you a \n",
      " \n",
      " the i \n",
      " \n",
      " \n",
      " i i heart time \n",
      " \n",
      " the \n",
      " \n",
      " i know i i love \n"
     ]
    },
    {
     "name": "stdout",
     "output_type": "stream",
     "text": [
      "loss in current iteration:  4.197919845581055\n",
      "Input string:  I don't have to say you're beautiful \n",
      " You've got plenty other guys to say those words for you \n",
      " And I don't have to say you run the show \n",
      " All it takes is a word , I lose control for you \n",
      " \n",
      " I know you're not my girlfriend , but \n",
      " I swear that I love you \n",
      " Baby I do \n",
      " I know you're not my girlfriend , but \n",
      " I swear that I love you \n",
      " Baby I do \n",
      " I don't have to say you stole my heart \n",
      " Cause anything I have I freely give to you \n",
      " And I knew right from the very start \n",
      " That the only place I belong is next to you \n",
      " \n",
      " Even through all \n",
      " The ups and downs \n",
      " You can't stop \n",
      " The way I feel now \n",
      " Even through the storm \n",
      " Joy and pain \n",
      " I won't change \n",
      " Still feel the same \n",
      " Anytime you call \n",
      " I don't care \n",
      " No matter the reason \n",
      " I'll be there \n",
      " Constantly on my mind \n",
      " And that's why I'm hoping \n",
      " You will be my \n",
      " Valentine ( valentine ) \n",
      " \n",
      " And I know you love me too \n",
      " I swear that I love you \n",
      " Yes I\n",
      "Target string:  don't have to say you're beautiful \n",
      " You've got plenty other guys to say those words for you \n",
      " And I don't have to say you run the show \n",
      " All it takes is a word , I lose control for you \n",
      " \n",
      " I know you're not my girlfriend , but \n",
      " I swear that I love you \n",
      " Baby I do \n",
      " I know you're not my girlfriend , but \n",
      " I swear that I love you \n",
      " Baby I do \n",
      " I don't have to say you stole my heart \n",
      " Cause anything I have I freely give to you \n",
      " And I knew right from the very start \n",
      " That the only place I belong is next to you \n",
      " \n",
      " Even through all \n",
      " The ups and downs \n",
      " You can't stop \n",
      " The way I feel now \n",
      " Even through the storm \n",
      " Joy and pain \n",
      " I won't change \n",
      " Still feel the same \n",
      " Anytime you call \n",
      " I don't care \n",
      " No matter the reason \n",
      " I'll be there \n",
      " Constantly on my mind \n",
      " And that's why I'm hoping \n",
      " You will be my \n",
      " Valentine ( valentine ) \n",
      " \n",
      " And I know you love me too \n",
      " I swear that I love you \n",
      " Yes I do\n",
      "prediced tensor:  tensor([[10273,  5718,  2832,  5718,  9754,  7099,  9754,  6092,  4445,  7099,\n",
      "          9895,  9754,  9754,  5718,  9754,  9754,  9754,  8051,  9754,  6092,\n",
      "          6092, 10273,  9852,  9895,  5718,  9754,  9852,  9754,  8755,  9754,\n",
      "          6092,  6092,  8317,  6413,  9895,  2520,  9754,  6092, 10273,  2832,\n",
      "          9754,  8051,  9754,  6092,  6092, 10273,  2832,  9895,  7099,  1231,\n",
      "          9754,  6092,  2832,  6092,  9052,  2832,  6092,  7290,  2832,  9754,\n",
      "          6092,  8035, 10273,  2832,  6092, 10273,  2832,  7099,  7099,  9052,\n",
      "          9754,  6092,  6092,  6092,  1237,  2832,  6092,  9852,  9754,  9754,\n",
      "          6092,  8035, 10273,  2832,  6092, 10273,  9852,  2832,  5718,  2832,\n",
      "          9754,  8051,  9052,  9754,  6092,  6092,  2832,  9852,  9754,  7290,\n",
      "          9754,  9754,  5718,  9754,  6092,  6092, 10273,  2832,  9754,  9895,\n",
      "          2520,  2520,  9754,  6092,  6092,  8755,  9052,  2832, 10273,  9754,\n",
      "          9754,  9754,  8051,  9754,  6092,  6092,  6092,  9895,  9895,  6092,\n",
      "          2520,  8317,  6092,  9754,  6092,  9852,  5718,  9754,  6092,  9052,\n",
      "          6092, 10273,  9754,  9754,  6092,  6092,  9895,  2520,  9754,  6092,\n",
      "          9895,  6092,  9754,  6092, 10273,  7290,  2832,  6092,  6092,  9895,\n",
      "          9052,  9754,  1490,  6092,  1394,  8051,  6092, 10273,  9852,  9754,\n",
      "          6092,  8317,  2832,  2520,  9754,  6092,  5718,  7099,  9754,  6092,\n",
      "          9754,  9895,  1231,  9754,  6092,  6092,  9895,  6092,  5802,  9754,\n",
      "          6092,  9852,  5718,  7099,  1277,  6092,  9754,  1490,  9754,  9754,\n",
      "          1490,  6092,  6092,  9852,  2832,  9852,  8051,  9754,  9754,  6092,\n",
      "          9852,  2832,  6092, 10273,  9754,  9754,  6092,  2832, 10273]])\n",
      "decoded string:  can be you be \n",
      " a \n",
      " i been a the \n",
      " \n",
      " be \n",
      " \n",
      " \n",
      " me \n",
      " i i can know the be \n",
      " know \n",
      " world \n",
      " i i is to the way \n",
      " i can you \n",
      " me \n",
      " i i can you the a mind \n",
      " i you i love you i want you \n",
      " i , can you i can you a a love \n",
      " i i i don't you i know \n",
      " \n",
      " i , can you i can know you be you \n",
      " me love \n",
      " i i you know \n",
      " want \n",
      " \n",
      " be \n",
      " i i can you \n",
      " the way way \n",
      " i i world love you can \n",
      " \n",
      " \n",
      " me \n",
      " i i i the the i way is i \n",
      " i know be \n",
      " i love i can \n",
      " \n",
      " i i the way \n",
      " i the i \n",
      " i can want you i i the love \n",
      " and i are me i can know \n",
      " i is you way \n",
      " i be a \n",
      " i \n",
      " the mind \n",
      " i i the i gonna \n",
      " i know be a heart i \n",
      " and \n",
      " \n",
      " and i i know you know me \n",
      " \n",
      " i know you i can \n",
      " \n",
      " i you can \n",
      "loss in current iteration:  4.384233474731445\n",
      "Input string:  I am not the only traveler \n",
      " Who has not repaid his debt \n",
      " I've been searching for a trail to follow again \n",
      " Take me back to the night we met \n",
      " And then I can tell myself \n",
      " What the hell I'm supposed to do \n",
      " And then I can tell myself \n",
      " Not to ride along with you \n",
      " I had all and then most of you \n",
      " Some and now none of you \n",
      " Take me back to the night we met \n",
      " I don't know what I'm supposed to do \n",
      " Haunted by the ghost of you \n",
      " Oh , take me back to the night we met \n",
      " When the night was full of terrors \n",
      " And your eyes were filled with tears \n",
      " When you had not touched me yet \n",
      " Oh , take me back to the night we met \n",
      " I had all and then most of you \n",
      " Some and now none of you \n",
      " Take me back to the night we met \n",
      " I don't know what I'm supposed to do \n",
      " Haunted by the ghost of you \n",
      " Take me back to the night we\n",
      "Target string:  am not the only traveler \n",
      " Who has not repaid his debt \n",
      " I've been searching for a trail to follow again \n",
      " Take me back to the night we met \n",
      " And then I can tell myself \n",
      " What the hell I'm supposed to do \n",
      " And then I can tell myself \n",
      " Not to ride along with you \n",
      " I had all and then most of you \n",
      " Some and now none of you \n",
      " Take me back to the night we met \n",
      " I don't know what I'm supposed to do \n",
      " Haunted by the ghost of you \n",
      " Oh , take me back to the night we met \n",
      " When the night was full of terrors \n",
      " And your eyes were filled with tears \n",
      " When you had not touched me yet \n",
      " Oh , take me back to the night we met \n",
      " I had all and then most of you \n",
      " Some and now none of you \n",
      " Take me back to the night we met \n",
      " I don't know what I'm supposed to do \n",
      " Haunted by the ghost of you \n",
      " Take me back to the night we met\n",
      "prediced tensor:  tensor([[ 9852,  7099,  6413,  8755,  9754,  9754,  6092,  1237,  9895,  5718,\n",
      "          9754,  1277,  9754,  6092,  4445,  5802,  9754,  8051,  8755,  9754,\n",
      "          5718,  9754,  9754,  6092,  8051,  9895,  9754,  9895,  2520,  9754,\n",
      "          9852,  9754,  6092,  6092,  6092,  9852,  5718,  2832,  9754,  6092,\n",
      "          2832,  2852,  8317,  5802,  9754,  5718,  9754,  6092,  6092,  6092,\n",
      "          9852,  5718,  9754,  9754,  6092,  2832,  5718,  9754,  9754,  8051,\n",
      "          9754,  6092,  9852,  7099,  6413,  6092,  2832,  9754,  9754,  9754,\n",
      "          6092,  8317,  6092,  6092,  9754,  8051,  9754,  6092,  9895,  8035,\n",
      "          9754,  2832,  8755,  9754, 10273,  9754,  6092,  9852,  9852,  2832,\n",
      "          6092,  5802,  9754,  8051,  9754,  6092,  9754,  1540,  9052,  9754,\n",
      "          9895,  9754,  6092,  8035,  6092,  8051,  6413,  9754,  9052,  2520,\n",
      "          9754,  9052,  9754,  6092,  2832,  2520,  8317,  9895,  9754,  9895,\n",
      "          9754,  1490,  6092,  9052,  8317,  9895,  9754,  8051,  9754,  6092,\n",
      "          6092,  1394, 10386,  9895,  9754,  9754,  9754,  6092,  8035,  6092,\n",
      "          8051,  9754,  9754,  9895,  9052,  9754,  9052,  9754,  6092,  9852,\n",
      "          2832,  9754,  6092,  2832,  9754,  8051,  9754,  6092,  2852,  6092,\n",
      "          6092,  9754,  8051,  9754,  6092,  8051,  9754,  9754,  2832,  2520,\n",
      "          9754, 10273,  9754,  6092,  9852,  9852,  9754,  2832,  5802,  9754,\n",
      "          9754,  9754,  6092,  6413,  9895,  2520,  9754,  9895,  9754,  6092,\n",
      "          8051,  9754,  9754,  2832,  2520,  9754, 10273]])\n",
      "decoded string:  know a to world \n",
      " \n",
      " i don't the be \n",
      " heart \n",
      " i been gonna \n",
      " me world \n",
      " be \n",
      " \n",
      " i me the \n",
      " the way \n",
      " know \n",
      " i i i know be you \n",
      " i you time is gonna \n",
      " be \n",
      " i i i know be \n",
      " \n",
      " i you be \n",
      " \n",
      " me \n",
      " i know a to i you \n",
      " \n",
      " \n",
      " i is i i \n",
      " me \n",
      " i the , \n",
      " you world \n",
      " can \n",
      " i know know you i gonna \n",
      " me \n",
      " i \n",
      " my love \n",
      " the \n",
      " i , i me to \n",
      " love way \n",
      " love \n",
      " i you way is the \n",
      " the \n",
      " and i love is the \n",
      " me \n",
      " i i are in the \n",
      " \n",
      " \n",
      " i , i me \n",
      " \n",
      " the love \n",
      " love \n",
      " i know you \n",
      " i you \n",
      " me \n",
      " i time i i \n",
      " me \n",
      " i me \n",
      " \n",
      " you way \n",
      " can \n",
      " i know know \n",
      " you gonna \n",
      " \n",
      " \n",
      " i to the way \n",
      " the \n",
      " i me \n",
      " \n",
      " you way \n",
      " can \n"
     ]
    }
   ],
   "source": [
    "spec_dict = {\"dropout\": 0.7,\n",
    "                 \"num_lstm_layers\": 2,\n",
    "                 \"bilstm_flag\": True,\n",
    "                 \"word_bilstm_flag\": False,\n",
    "                 \"use_artist\": True,\n",
    "                 \"char_hidden_dim\": 128,\n",
    "                 \"char_emb_dim\": 100,\n",
    "                 \"char_model_type\": \"LSTM\",\n",
    "                 \"word_emb_dim\": 256,\n",
    "                 \"pre_train_word_embedding\": None,\n",
    "                 \"feature_emb_dim\": 128,\n",
    "                 \"final_hidden_dim\": 512,\n",
    "                 \"learning rate\": 0.001,\n",
    "                 \"iterations\": 1000,\n",
    "                 \"print_every\": 100,\n",
    "                 \"plot_every\": 50\n",
    "                 }\n",
    "model, loss_list = train(model, ds, spec_dict, num_lines=2)\n",
    "torch.save(model.state_dict(), 'model4.pt')"
   ]
  },
  {
   "cell_type": "code",
   "execution_count": 12,
   "metadata": {},
   "outputs": [],
   "source": [
    "saved_model = model"
   ]
  },
  {
   "cell_type": "code",
   "execution_count": 129,
   "metadata": {},
   "outputs": [],
   "source": [
    "inp, target, artist, genre, next_line = ds.random_lyric_chunks(path = \"data/csv/train.csv\", subset=[\"R&B\"], num_lines=4, if_train=False)"
   ]
  },
  {
   "cell_type": "code",
   "execution_count": 6,
   "metadata": {},
   "outputs": [
    {
     "ename": "NameError",
     "evalue": "name 'saved_model' is not defined",
     "output_type": "error",
     "traceback": [
      "\u001b[0;31m---------------------------------------------------------------------------\u001b[0m",
      "\u001b[0;31mNameError\u001b[0m                                 Traceback (most recent call last)",
      "\u001b[0;32m<ipython-input-6-e436cc6e29a3>\u001b[0m in \u001b[0;36m<module>\u001b[0;34m\u001b[0m\n\u001b[1;32m     10\u001b[0m \u001b[0mgenre_input\u001b[0m \u001b[0;34m=\u001b[0m \u001b[0mfeature_seq_tensors\u001b[0m\u001b[0;34m[\u001b[0m\u001b[0;36m1\u001b[0m\u001b[0;34m]\u001b[0m\u001b[0;34m\u001b[0m\u001b[0;34m\u001b[0m\u001b[0m\n\u001b[1;32m     11\u001b[0m \u001b[0martist_input\u001b[0m \u001b[0;34m=\u001b[0m \u001b[0mfeature_seq_tensors\u001b[0m\u001b[0;34m[\u001b[0m\u001b[0;36m0\u001b[0m\u001b[0;34m]\u001b[0m\u001b[0;34m\u001b[0m\u001b[0;34m\u001b[0m\u001b[0m\n\u001b[0;32m---> 12\u001b[0;31m outs = saved_model(word_seq_tensor, genre_input, artist_input, word_seq_lengths, char_seq_tensor, char_seq_lengths, char_seq_recover,\n\u001b[0m\u001b[1;32m     13\u001b[0m         ph_inputs, ph_seq_lengths, ph_seq_recover)\n\u001b[1;32m     14\u001b[0m \u001b[0mouts\u001b[0m \u001b[0;34m=\u001b[0m \u001b[0mouts\u001b[0m\u001b[0;34m.\u001b[0m\u001b[0mview\u001b[0m\u001b[0;34m(\u001b[0m\u001b[0mbatch_size\u001b[0m \u001b[0;34m*\u001b[0m \u001b[0mseq_len\u001b[0m\u001b[0;34m,\u001b[0m \u001b[0;34m-\u001b[0m\u001b[0;36m1\u001b[0m\u001b[0;34m)\u001b[0m\u001b[0;34m\u001b[0m\u001b[0;34m\u001b[0m\u001b[0m\n",
      "\u001b[0;31mNameError\u001b[0m: name 'saved_model' is not defined"
     ]
    }
   ],
   "source": [
    "inp, target, artist, genre, next_line = ds.random_lyric_chunks(path = \"data/csv/train.csv\", subset=[\"R&B\"], num_lines=2, if_train=False)\n",
    "# inp = \"Are you ready ? \"\n",
    "# target = inp\n",
    "input_list = gen_input(ds, inp, target, artist, genre, if_train=False)\n",
    "res = batchify_sequence_labeling(input_list, False)\n",
    "(word_seq_tensor, feature_seq_tensors, word_seq_lengths, word_seq_recover, char_seq_tensor, char_seq_lengths,\n",
    "     char_seq_recover, ph_inputs, ph_seq_lengths, ph_seq_recover, target_seq_tensor, mask) = res\n",
    "batch_size = word_seq_tensor.size(0)\n",
    "seq_len = word_seq_tensor.size(1)\n",
    "genre_input = feature_seq_tensors[1]\n",
    "artist_input = feature_seq_tensors[0]\n",
    "outs = model(word_seq_tensor, genre_input, artist_input, word_seq_lengths, char_seq_tensor, char_seq_lengths, char_seq_recover,\n",
    "        ph_inputs, ph_seq_lengths, ph_seq_recover)\n",
    "outs = outs.view(batch_size * seq_len, -1)\n",
    "score = F.log_softmax(outs, 1)\n",
    "_, pred = torch.max(score, 1)\n",
    "pred = pred.view(batch_size, seq_len)\n",
    "print(\"input: \", inp)\n",
    "print(\"next_line: \", next_line)\n",
    "print(\"predicted lyrics: \")\n",
    "print(decode_lyrics(ds, pred[0]))"
   ]
  },
  {
   "cell_type": "code",
   "execution_count": 108,
   "metadata": {},
   "outputs": [
    {
     "data": {
      "text/plain": [
       "torch.Size([4, 10689])"
      ]
     },
     "execution_count": 108,
     "metadata": {},
     "output_type": "execute_result"
    }
   ],
   "source": [
    "score.size()"
   ]
  },
  {
   "cell_type": "code",
   "execution_count": 115,
   "metadata": {},
   "outputs": [],
   "source": [
    "score = F.log_softmax(o1,1)\n",
    "_, pred = torch.max(score, 1)"
   ]
  },
  {
   "cell_type": "code",
   "execution_count": 116,
   "metadata": {},
   "outputs": [
    {
     "data": {
      "text/plain": [
       "tensor([10578])"
      ]
     },
     "execution_count": 116,
     "metadata": {},
     "output_type": "execute_result"
    }
   ],
   "source": [
    "pred"
   ]
  },
  {
   "cell_type": "code",
   "execution_count": 100,
   "metadata": {},
   "outputs": [],
   "source": [
    "loss_function = nn.NLLLoss(ignore_index=0)"
   ]
  },
  {
   "cell_type": "code",
   "execution_count": 101,
   "metadata": {},
   "outputs": [
    {
     "data": {
      "text/plain": [
       "tensor([10578, 10578, 10578, 10578])"
      ]
     },
     "execution_count": 101,
     "metadata": {},
     "output_type": "execute_result"
    }
   ],
   "source": [
    "pred"
   ]
  },
  {
   "cell_type": "code",
   "execution_count": 89,
   "metadata": {},
   "outputs": [
    {
     "data": {
      "text/plain": [
       "torch.Size([1])"
      ]
     },
     "execution_count": 89,
     "metadata": {},
     "output_type": "execute_result"
    }
   ],
   "source": [
    "target_seq_tensor.view(4)[-1].view(1).size()"
   ]
  },
  {
   "cell_type": "code",
   "execution_count": 114,
   "metadata": {},
   "outputs": [
    {
     "data": {
      "text/plain": [
       "tensor([[5748, 6473, 7967,  788]])"
      ]
     },
     "execution_count": 114,
     "metadata": {},
     "output_type": "execute_result"
    }
   ],
   "source": [
    "target_seq_tensor"
   ]
  },
  {
   "cell_type": "code",
   "execution_count": 113,
   "metadata": {},
   "outputs": [
    {
     "data": {
      "text/plain": [
       "tensor(4.7541, grad_fn=<NllLossBackward>)"
      ]
     },
     "execution_count": 113,
     "metadata": {},
     "output_type": "execute_result"
    }
   ],
   "source": [
    "loss_function(score, target_seq_tensor.view(4)[-1].view(1))"
   ]
  },
  {
   "cell_type": "code",
   "execution_count": 63,
   "metadata": {
    "scrolled": true
   },
   "outputs": [
    {
     "data": {
      "text/plain": [
       "tensor(788)"
      ]
     },
     "execution_count": 63,
     "metadata": {},
     "output_type": "execute_result"
    }
   ],
   "source": [
    "target_seq_tensor.view(4)[-1]"
   ]
  },
  {
   "cell_type": "code",
   "execution_count": 60,
   "metadata": {},
   "outputs": [
    {
     "data": {
      "text/plain": [
       "'are you ready ? '"
      ]
     },
     "execution_count": 60,
     "metadata": {},
     "output_type": "execute_result"
    }
   ],
   "source": [
    "decode_lyrics(ds, target_seq_tensor.view(4))"
   ]
  },
  {
   "cell_type": "code",
   "execution_count": 53,
   "metadata": {
    "scrolled": true
   },
   "outputs": [
    {
     "data": {
      "text/plain": [
       "96"
      ]
     },
     "execution_count": 53,
     "metadata": {},
     "output_type": "execute_result"
    }
   ],
   "source": [
    "ds.all_characters.index('\\n')"
   ]
  },
  {
   "cell_type": "code",
   "execution_count": 46,
   "metadata": {},
   "outputs": [],
   "source": [
    "_, idx = torch.max(score, 1)"
   ]
  },
  {
   "cell_type": "code",
   "execution_count": 48,
   "metadata": {},
   "outputs": [
    {
     "data": {
      "text/plain": [
       "tensor(-2.3579, grad_fn=<UnbindBackward>)"
      ]
     },
     "execution_count": 48,
     "metadata": {},
     "output_type": "execute_result"
    }
   ],
   "source": [
    "max(score[0])"
   ]
  },
  {
   "cell_type": "code",
   "execution_count": 50,
   "metadata": {},
   "outputs": [
    {
     "data": {
      "text/plain": [
       "tensor([-2.3579], grad_fn=<IndexBackward>)"
      ]
     },
     "execution_count": 50,
     "metadata": {},
     "output_type": "execute_result"
    }
   ],
   "source": [
    "score[0][score[0] > -2.4]"
   ]
  },
  {
   "cell_type": "code",
   "execution_count": 47,
   "metadata": {
    "scrolled": true
   },
   "outputs": [
    {
     "data": {
      "text/plain": [
       "tensor([10578, 10578, 10578, 10578])"
      ]
     },
     "execution_count": 47,
     "metadata": {},
     "output_type": "execute_result"
    }
   ],
   "source": [
    "idx"
   ]
  },
  {
   "cell_type": "code",
   "execution_count": 45,
   "metadata": {},
   "outputs": [
    {
     "data": {
      "text/plain": [
       "'scented unbeatable scented motivating '"
      ]
     },
     "execution_count": 45,
     "metadata": {},
     "output_type": "execute_result"
    }
   ],
   "source": [
    "decode_lyrics(ds, idx)"
   ]
  },
  {
   "cell_type": "code",
   "execution_count": 34,
   "metadata": {},
   "outputs": [
    {
     "data": {
      "text/plain": [
       "'\\n \\n \\n \\n '"
      ]
     },
     "execution_count": 34,
     "metadata": {},
     "output_type": "execute_result"
    }
   ],
   "source": [
    "decode_lyrics(ds, pred[0])"
   ]
  },
  {
   "cell_type": "code",
   "execution_count": 9,
   "metadata": {},
   "outputs": [
    {
     "name": "stdout",
     "output_type": "stream",
     "text": [
      "Start predicting next line..\n",
      "prediction input:  Our love is like water/angels \n",
      " Pinned down and abused \n",
      "\n",
      "prediction tensor:  tensor([[5064, 7653, 2464, 7563, 5617, 3331, 3863, 9343, 4211, 5617, 2971]])\n",
      "oh\n",
      "full word\n",
      "input len to lstm generation:  12\n",
      "prediction tensor:  tensor([[5064, 7653, 2464, 7563, 5617, 8930, 3863, 9343, 7563, 5617, 2971, 1330]])\n",
      "yeah\n",
      "full word\n",
      "input len to lstm generation:  13\n",
      "prediction tensor:  tensor([[5064, 7653, 2464, 7563, 5617, 8930, 3863, 9343, 7563, 5617, 2971, 1330,\n",
      "         9474]])\n",
      "me\n",
      "full word\n",
      "input len to lstm generation:  14\n",
      "prediction tensor:  tensor([[ 5064,  7653,  2464,  7563,  5617,  8930,  3863,  9343,  7563,  5617,\n",
      "          2971, 10420,  9474,  7643]])\n",
      ")\n",
      "full word\n",
      "input len to lstm generation:  15\n",
      "prediction tensor:  tensor([[ 5064,  7653,  2464,  7563,  5617,  8930,  3863,  9343,  7563,  5617,\n",
      "          2971, 10420,  9474,  7643,  9616]])\n",
      ".\n",
      "full word\n",
      "input len to lstm generation:  16\n",
      "prediction tensor:  tensor([[ 5064,  7653,  2464,  7563,  5617,  8930,  3863,  9343,  7563,  5617,\n",
      "          2971, 10420,  9474,  7643,  9616,  9616]])\n",
      ".\n",
      "full word\n",
      "input len to lstm generation:  17\n",
      "prediction tensor:  tensor([[ 5064,  7653,  2464,  7563,  5617,  8930,  3863,  9343,  7563,  5617,\n",
      "          2971, 10420,  9474,  7643,  9616,  9616,  9616]])\n",
      ".\n",
      "full word\n",
      "input len to lstm generation:  18\n",
      "prediction tensor:  tensor([[ 5064,  7653,  2464,  7563,  5617,  8930,  3863,  9343,  7563,  5617,\n",
      "          2971, 10420,  9474,  7643,  9616,  9616,  9616,  9616]])\n",
      ".\n",
      "full word\n",
      "input len to lstm generation:  19\n",
      "prediction tensor:  tensor([[ 5064,  7653,  2464,  7563,  5617,  8930,  3863,  9343,  7563,  5617,\n",
      "          2971, 10420,  9474,  7643,  9616,  9616,  9616,  9616,  9616]])\n",
      ".\n",
      "full word\n",
      "input len to lstm generation:  20\n",
      "prediction tensor:  tensor([[ 5064,  7653,  2464,  7563,  5617,  8930,  3863,  9343,  7563,  5617,\n",
      "          2971, 10420,  9474,  7643,  9616,  9616,  9616,  9616,  9616,  9616]])\n",
      ".\n",
      "full word\n",
      "input len to lstm generation:  21\n",
      "prediction tensor:  tensor([[ 5064,  7653,  2464,  7563,  5617,  8930,  3863,  9343,  7563,  5617,\n",
      "          2971, 10420,  9474,  7643,  9616,  9616,  9616,  9616,  9616,  9616,\n",
      "          9616]])\n",
      ".\n",
      "full word\n",
      "input len to lstm generation:  22\n",
      "prediction tensor:  tensor([[ 5064,  7653,  2464,  7563,  5617,  8930,  3863,  9343,  7563,  5617,\n",
      "          2971, 10420,  9474,  7643,  9616,  9616,  9616,  9616,  9616,  9616,\n",
      "          9616,  9616]])\n",
      ".\n",
      "full word\n",
      "input len to lstm generation:  23\n",
      "prediction tensor:  tensor([[ 5064,  7653,  2464,  7563,  5617,  8930,  3863,  9343,  7563,  5617,\n",
      "          2971, 10420,  9474,  7643,  9616,  9616,  9616,  9616,  9616,  9616,\n",
      "          9616,  9616,  9616]])\n",
      ".\n",
      "full word\n",
      "input len to lstm generation:  24\n",
      "prediction tensor:  tensor([[ 5064,  7653,  2464,  7563,  5617,  8930,  3863,  9343,  7563,  5617,\n",
      "          2971, 10420,  9474,  7643,  9616,  9616,  9616,  9616,  9616,  9616,\n",
      "          9616,  9616,  9616,  9616]])\n",
      ".\n",
      "full word\n",
      "input len to lstm generation:  25\n",
      "prediction tensor:  tensor([[ 5064,  7653,  2464,  7563,  5617,  8930,  3863,  9343,  7563,  5617,\n",
      "          2971, 10420,  9474,  7643,  9616,  9616,  9616,  9616,  9616,  9616,\n",
      "          9616,  9616,  9616,  9616,  9616]])\n",
      ".\n",
      "full word\n",
      "input len to lstm generation:  26\n",
      "('ohyeahme)...........', 'All over you  all over me')\n"
     ]
    }
   ],
   "source": [
    "pred_lines = predict(model, ds)\n",
    "print(pred_lines)"
   ]
  },
  {
   "cell_type": "code",
   "execution_count": 19,
   "metadata": {},
   "outputs": [],
   "source": [
    "(word_seq_tensor, feature_seq_tensors, word_seq_lengths, word_seq_recover, char_seq_tensor, char_seq_lengths, char_seq_recover, phone_seq_tensor, phone_seq_lengths, phone_seq_recover, target_seq_tensor, mask) = res"
   ]
  },
  {
   "cell_type": "code",
   "execution_count": 20,
   "metadata": {},
   "outputs": [
    {
     "name": "stdout",
     "output_type": "stream",
     "text": [
      "build char sequence feature extractor: LSTM ...\n",
      "build char sequence feature extractor: LSTM ...\n"
     ]
    }
   ],
   "source": [
    "lr = 0.001\n",
    "model = WordSequence(spec_dict, ds)\n",
    "optimizer = optim.Adam(model.parameters(), lr=lr)"
   ]
  },
  {
   "cell_type": "code",
   "execution_count": 12,
   "metadata": {},
   "outputs": [
    {
     "data": {
      "text/plain": [
       "tensor([[7676, 2313, 3358, 2017, 8924, 7537, 7537, 7676, 2313, 3358, 2017, 8924,\n",
       "         7537]])"
      ]
     },
     "execution_count": 12,
     "metadata": {},
     "output_type": "execute_result"
    }
   ],
   "source": [
    "word_seq_tensor"
   ]
  },
  {
   "cell_type": "code",
   "execution_count": 13,
   "metadata": {},
   "outputs": [
    {
     "data": {
      "text/plain": [
       "torch.Size([13, 6])"
      ]
     },
     "execution_count": 13,
     "metadata": {},
     "output_type": "execute_result"
    }
   ],
   "source": [
    "char_seq_tensor.size()"
   ]
  },
  {
   "cell_type": "code",
   "execution_count": 21,
   "metadata": {},
   "outputs": [
    {
     "ename": "IndexError",
     "evalue": "index out of range in self",
     "output_type": "error",
     "traceback": [
      "\u001b[0;31m---------------------------------------------------------------------------\u001b[0m",
      "\u001b[0;31mIndexError\u001b[0m                                Traceback (most recent call last)",
      "\u001b[0;32m<ipython-input-21-41eb1720d727>\u001b[0m in \u001b[0;36m<module>\u001b[0;34m\u001b[0m\n\u001b[0;32m----> 1\u001b[0;31m \u001b[0mmodel\u001b[0m\u001b[0;34m(\u001b[0m\u001b[0mword_seq_tensor\u001b[0m\u001b[0;34m,\u001b[0m \u001b[0mfeature_seq_tensors\u001b[0m\u001b[0;34m[\u001b[0m\u001b[0;36m0\u001b[0m\u001b[0;34m]\u001b[0m\u001b[0;34m,\u001b[0m \u001b[0mfeature_seq_tensors\u001b[0m\u001b[0;34m[\u001b[0m\u001b[0;36m1\u001b[0m\u001b[0;34m]\u001b[0m\u001b[0;34m,\u001b[0m \u001b[0mword_seq_lengths\u001b[0m\u001b[0;34m,\u001b[0m \u001b[0mchar_seq_tensor\u001b[0m\u001b[0;34m,\u001b[0m \u001b[0mchar_seq_lengths\u001b[0m\u001b[0;34m,\u001b[0m \u001b[0mchar_seq_recover\u001b[0m\u001b[0;34m,\u001b[0m \u001b[0mphone_seq_tensor\u001b[0m\u001b[0;34m,\u001b[0m \u001b[0mphone_seq_lengths\u001b[0m\u001b[0;34m,\u001b[0m \u001b[0mphone_seq_recover\u001b[0m\u001b[0;34m)\u001b[0m\u001b[0;34m\u001b[0m\u001b[0;34m\u001b[0m\u001b[0m\n\u001b[0m",
      "\u001b[0;32m~/opt/anaconda3/lib/python3.7/site-packages/torch/nn/modules/module.py\u001b[0m in \u001b[0;36m_call_impl\u001b[0;34m(self, *input, **kwargs)\u001b[0m\n\u001b[1;32m    725\u001b[0m             \u001b[0mresult\u001b[0m \u001b[0;34m=\u001b[0m \u001b[0mself\u001b[0m\u001b[0;34m.\u001b[0m\u001b[0m_slow_forward\u001b[0m\u001b[0;34m(\u001b[0m\u001b[0;34m*\u001b[0m\u001b[0minput\u001b[0m\u001b[0;34m,\u001b[0m \u001b[0;34m**\u001b[0m\u001b[0mkwargs\u001b[0m\u001b[0;34m)\u001b[0m\u001b[0;34m\u001b[0m\u001b[0;34m\u001b[0m\u001b[0m\n\u001b[1;32m    726\u001b[0m         \u001b[0;32melse\u001b[0m\u001b[0;34m:\u001b[0m\u001b[0;34m\u001b[0m\u001b[0;34m\u001b[0m\u001b[0m\n\u001b[0;32m--> 727\u001b[0;31m             \u001b[0mresult\u001b[0m \u001b[0;34m=\u001b[0m \u001b[0mself\u001b[0m\u001b[0;34m.\u001b[0m\u001b[0mforward\u001b[0m\u001b[0;34m(\u001b[0m\u001b[0;34m*\u001b[0m\u001b[0minput\u001b[0m\u001b[0;34m,\u001b[0m \u001b[0;34m**\u001b[0m\u001b[0mkwargs\u001b[0m\u001b[0;34m)\u001b[0m\u001b[0;34m\u001b[0m\u001b[0;34m\u001b[0m\u001b[0m\n\u001b[0m\u001b[1;32m    728\u001b[0m         for hook in itertools.chain(\n\u001b[1;32m    729\u001b[0m                 \u001b[0m_global_forward_hooks\u001b[0m\u001b[0;34m.\u001b[0m\u001b[0mvalues\u001b[0m\u001b[0;34m(\u001b[0m\u001b[0;34m)\u001b[0m\u001b[0;34m,\u001b[0m\u001b[0;34m\u001b[0m\u001b[0;34m\u001b[0m\u001b[0m\n",
      "\u001b[0;32m~/PycharmProjects/lyrics-generation/model.py\u001b[0m in \u001b[0;36mforward\u001b[0;34m(self, word_inputs, genre_input, artist_input, word_seq_lengths, char_inputs, char_seq_lengths, char_seq_recover, ph_inputs, ph_seq_lengths, ph_seq_recover)\u001b[0m\n\u001b[1;32m    186\u001b[0m             \u001b[0;34m:\u001b[0m\u001b[0;32mreturn\u001b[0m\u001b[0;34m:\u001b[0m \u001b[0mVariable\u001b[0m\u001b[0;34m(\u001b[0m\u001b[0mbatch_size\u001b[0m\u001b[0;34m,\u001b[0m \u001b[0msent_len\u001b[0m\u001b[0;34m,\u001b[0m \u001b[0mword_vocab_size\u001b[0m\u001b[0;34m)\u001b[0m\u001b[0;34m\u001b[0m\u001b[0;34m\u001b[0m\u001b[0m\n\u001b[1;32m    187\u001b[0m         \"\"\"\n\u001b[0;32m--> 188\u001b[0;31m         \u001b[0mword_represent\u001b[0m \u001b[0;34m=\u001b[0m \u001b[0mself\u001b[0m\u001b[0;34m.\u001b[0m\u001b[0mwordrep\u001b[0m\u001b[0;34m(\u001b[0m\u001b[0mword_inputs\u001b[0m\u001b[0;34m,\u001b[0m \u001b[0mgenre_input\u001b[0m\u001b[0;34m,\u001b[0m \u001b[0martist_input\u001b[0m\u001b[0;34m,\u001b[0m \u001b[0mword_seq_lengths\u001b[0m\u001b[0;34m,\u001b[0m \u001b[0mchar_inputs\u001b[0m\u001b[0;34m,\u001b[0m \u001b[0mchar_seq_lengths\u001b[0m\u001b[0;34m,\u001b[0m \u001b[0mchar_seq_recover\u001b[0m\u001b[0;34m,\u001b[0m\u001b[0mph_inputs\u001b[0m\u001b[0;34m,\u001b[0m \u001b[0mph_seq_lengths\u001b[0m\u001b[0;34m,\u001b[0m \u001b[0mph_seq_recover\u001b[0m\u001b[0;34m)\u001b[0m\u001b[0;34m\u001b[0m\u001b[0;34m\u001b[0m\u001b[0m\n\u001b[0m\u001b[1;32m    189\u001b[0m         \u001b[0mpacked_words\u001b[0m \u001b[0;34m=\u001b[0m \u001b[0mpack_padded_sequence\u001b[0m\u001b[0;34m(\u001b[0m\u001b[0mword_represent\u001b[0m\u001b[0;34m,\u001b[0m \u001b[0mword_seq_lengths\u001b[0m\u001b[0;34m.\u001b[0m\u001b[0mnumpy\u001b[0m\u001b[0;34m(\u001b[0m\u001b[0;34m)\u001b[0m\u001b[0;34m,\u001b[0m \u001b[0;32mTrue\u001b[0m\u001b[0;34m)\u001b[0m\u001b[0;34m\u001b[0m\u001b[0;34m\u001b[0m\u001b[0m\n\u001b[1;32m    190\u001b[0m         \u001b[0mhidden\u001b[0m \u001b[0;34m=\u001b[0m \u001b[0;32mNone\u001b[0m\u001b[0;34m\u001b[0m\u001b[0;34m\u001b[0m\u001b[0m\n",
      "\u001b[0;32m~/opt/anaconda3/lib/python3.7/site-packages/torch/nn/modules/module.py\u001b[0m in \u001b[0;36m_call_impl\u001b[0;34m(self, *input, **kwargs)\u001b[0m\n\u001b[1;32m    725\u001b[0m             \u001b[0mresult\u001b[0m \u001b[0;34m=\u001b[0m \u001b[0mself\u001b[0m\u001b[0;34m.\u001b[0m\u001b[0m_slow_forward\u001b[0m\u001b[0;34m(\u001b[0m\u001b[0;34m*\u001b[0m\u001b[0minput\u001b[0m\u001b[0;34m,\u001b[0m \u001b[0;34m**\u001b[0m\u001b[0mkwargs\u001b[0m\u001b[0;34m)\u001b[0m\u001b[0;34m\u001b[0m\u001b[0;34m\u001b[0m\u001b[0m\n\u001b[1;32m    726\u001b[0m         \u001b[0;32melse\u001b[0m\u001b[0;34m:\u001b[0m\u001b[0;34m\u001b[0m\u001b[0;34m\u001b[0m\u001b[0m\n\u001b[0;32m--> 727\u001b[0;31m             \u001b[0mresult\u001b[0m \u001b[0;34m=\u001b[0m \u001b[0mself\u001b[0m\u001b[0;34m.\u001b[0m\u001b[0mforward\u001b[0m\u001b[0;34m(\u001b[0m\u001b[0;34m*\u001b[0m\u001b[0minput\u001b[0m\u001b[0;34m,\u001b[0m \u001b[0;34m**\u001b[0m\u001b[0mkwargs\u001b[0m\u001b[0;34m)\u001b[0m\u001b[0;34m\u001b[0m\u001b[0;34m\u001b[0m\u001b[0m\n\u001b[0m\u001b[1;32m    728\u001b[0m         for hook in itertools.chain(\n\u001b[1;32m    729\u001b[0m                 \u001b[0m_global_forward_hooks\u001b[0m\u001b[0;34m.\u001b[0m\u001b[0mvalues\u001b[0m\u001b[0;34m(\u001b[0m\u001b[0;34m)\u001b[0m\u001b[0;34m,\u001b[0m\u001b[0;34m\u001b[0m\u001b[0;34m\u001b[0m\u001b[0m\n",
      "\u001b[0;32m~/PycharmProjects/lyrics-generation/model.py\u001b[0m in \u001b[0;36mforward\u001b[0;34m(self, word_inputs, genre_input, artist_input, word_seq_lengths, char_inputs, char_seq_lengths, char_seq_recover, ph_inputs, ph_seq_lengths, ph_seq_recover)\u001b[0m\n\u001b[1;32m    128\u001b[0m \u001b[0;34m\u001b[0m\u001b[0m\n\u001b[1;32m    129\u001b[0m         \u001b[0mword_list\u001b[0m \u001b[0;34m=\u001b[0m \u001b[0;34m[\u001b[0m\u001b[0mword_embs\u001b[0m\u001b[0;34m]\u001b[0m\u001b[0;34m\u001b[0m\u001b[0;34m\u001b[0m\u001b[0m\n\u001b[0;32m--> 130\u001b[0;31m         \u001b[0mword_list\u001b[0m\u001b[0;34m.\u001b[0m\u001b[0mappend\u001b[0m\u001b[0;34m(\u001b[0m\u001b[0mself\u001b[0m\u001b[0;34m.\u001b[0m\u001b[0mgenre_embedding\u001b[0m\u001b[0;34m(\u001b[0m\u001b[0mgenre_input\u001b[0m\u001b[0;34m)\u001b[0m\u001b[0;34m)\u001b[0m\u001b[0;34m\u001b[0m\u001b[0;34m\u001b[0m\u001b[0m\n\u001b[0m\u001b[1;32m    131\u001b[0m         \u001b[0;32mif\u001b[0m \u001b[0mself\u001b[0m\u001b[0;34m.\u001b[0m\u001b[0muse_artist\u001b[0m\u001b[0;34m:\u001b[0m\u001b[0;34m\u001b[0m\u001b[0;34m\u001b[0m\u001b[0m\n\u001b[1;32m    132\u001b[0m             \u001b[0mword_list\u001b[0m\u001b[0;34m.\u001b[0m\u001b[0mappend\u001b[0m\u001b[0;34m(\u001b[0m\u001b[0mself\u001b[0m\u001b[0;34m.\u001b[0m\u001b[0martist_embedding\u001b[0m\u001b[0;34m(\u001b[0m\u001b[0martist_input\u001b[0m\u001b[0;34m)\u001b[0m\u001b[0;34m)\u001b[0m\u001b[0;34m\u001b[0m\u001b[0;34m\u001b[0m\u001b[0m\n",
      "\u001b[0;32m~/opt/anaconda3/lib/python3.7/site-packages/torch/nn/modules/module.py\u001b[0m in \u001b[0;36m_call_impl\u001b[0;34m(self, *input, **kwargs)\u001b[0m\n\u001b[1;32m    725\u001b[0m             \u001b[0mresult\u001b[0m \u001b[0;34m=\u001b[0m \u001b[0mself\u001b[0m\u001b[0;34m.\u001b[0m\u001b[0m_slow_forward\u001b[0m\u001b[0;34m(\u001b[0m\u001b[0;34m*\u001b[0m\u001b[0minput\u001b[0m\u001b[0;34m,\u001b[0m \u001b[0;34m**\u001b[0m\u001b[0mkwargs\u001b[0m\u001b[0;34m)\u001b[0m\u001b[0;34m\u001b[0m\u001b[0;34m\u001b[0m\u001b[0m\n\u001b[1;32m    726\u001b[0m         \u001b[0;32melse\u001b[0m\u001b[0;34m:\u001b[0m\u001b[0;34m\u001b[0m\u001b[0;34m\u001b[0m\u001b[0m\n\u001b[0;32m--> 727\u001b[0;31m             \u001b[0mresult\u001b[0m \u001b[0;34m=\u001b[0m \u001b[0mself\u001b[0m\u001b[0;34m.\u001b[0m\u001b[0mforward\u001b[0m\u001b[0;34m(\u001b[0m\u001b[0;34m*\u001b[0m\u001b[0minput\u001b[0m\u001b[0;34m,\u001b[0m \u001b[0;34m**\u001b[0m\u001b[0mkwargs\u001b[0m\u001b[0;34m)\u001b[0m\u001b[0;34m\u001b[0m\u001b[0;34m\u001b[0m\u001b[0m\n\u001b[0m\u001b[1;32m    728\u001b[0m         for hook in itertools.chain(\n\u001b[1;32m    729\u001b[0m                 \u001b[0m_global_forward_hooks\u001b[0m\u001b[0;34m.\u001b[0m\u001b[0mvalues\u001b[0m\u001b[0;34m(\u001b[0m\u001b[0;34m)\u001b[0m\u001b[0;34m,\u001b[0m\u001b[0;34m\u001b[0m\u001b[0;34m\u001b[0m\u001b[0m\n",
      "\u001b[0;32m~/opt/anaconda3/lib/python3.7/site-packages/torch/nn/modules/sparse.py\u001b[0m in \u001b[0;36mforward\u001b[0;34m(self, input)\u001b[0m\n\u001b[1;32m    124\u001b[0m         return F.embedding(\n\u001b[1;32m    125\u001b[0m             \u001b[0minput\u001b[0m\u001b[0;34m,\u001b[0m \u001b[0mself\u001b[0m\u001b[0;34m.\u001b[0m\u001b[0mweight\u001b[0m\u001b[0;34m,\u001b[0m \u001b[0mself\u001b[0m\u001b[0;34m.\u001b[0m\u001b[0mpadding_idx\u001b[0m\u001b[0;34m,\u001b[0m \u001b[0mself\u001b[0m\u001b[0;34m.\u001b[0m\u001b[0mmax_norm\u001b[0m\u001b[0;34m,\u001b[0m\u001b[0;34m\u001b[0m\u001b[0;34m\u001b[0m\u001b[0m\n\u001b[0;32m--> 126\u001b[0;31m             self.norm_type, self.scale_grad_by_freq, self.sparse)\n\u001b[0m\u001b[1;32m    127\u001b[0m \u001b[0;34m\u001b[0m\u001b[0m\n\u001b[1;32m    128\u001b[0m     \u001b[0;32mdef\u001b[0m \u001b[0mextra_repr\u001b[0m\u001b[0;34m(\u001b[0m\u001b[0mself\u001b[0m\u001b[0;34m)\u001b[0m \u001b[0;34m->\u001b[0m \u001b[0mstr\u001b[0m\u001b[0;34m:\u001b[0m\u001b[0;34m\u001b[0m\u001b[0;34m\u001b[0m\u001b[0m\n",
      "\u001b[0;32m~/opt/anaconda3/lib/python3.7/site-packages/torch/nn/functional.py\u001b[0m in \u001b[0;36membedding\u001b[0;34m(input, weight, padding_idx, max_norm, norm_type, scale_grad_by_freq, sparse)\u001b[0m\n\u001b[1;32m   1850\u001b[0m         \u001b[0;31m# remove once script supports set_grad_enabled\u001b[0m\u001b[0;34m\u001b[0m\u001b[0;34m\u001b[0m\u001b[0;34m\u001b[0m\u001b[0m\n\u001b[1;32m   1851\u001b[0m         \u001b[0m_no_grad_embedding_renorm_\u001b[0m\u001b[0;34m(\u001b[0m\u001b[0mweight\u001b[0m\u001b[0;34m,\u001b[0m \u001b[0minput\u001b[0m\u001b[0;34m,\u001b[0m \u001b[0mmax_norm\u001b[0m\u001b[0;34m,\u001b[0m \u001b[0mnorm_type\u001b[0m\u001b[0;34m)\u001b[0m\u001b[0;34m\u001b[0m\u001b[0;34m\u001b[0m\u001b[0m\n\u001b[0;32m-> 1852\u001b[0;31m     \u001b[0;32mreturn\u001b[0m \u001b[0mtorch\u001b[0m\u001b[0;34m.\u001b[0m\u001b[0membedding\u001b[0m\u001b[0;34m(\u001b[0m\u001b[0mweight\u001b[0m\u001b[0;34m,\u001b[0m \u001b[0minput\u001b[0m\u001b[0;34m,\u001b[0m \u001b[0mpadding_idx\u001b[0m\u001b[0;34m,\u001b[0m \u001b[0mscale_grad_by_freq\u001b[0m\u001b[0;34m,\u001b[0m \u001b[0msparse\u001b[0m\u001b[0;34m)\u001b[0m\u001b[0;34m\u001b[0m\u001b[0;34m\u001b[0m\u001b[0m\n\u001b[0m\u001b[1;32m   1853\u001b[0m \u001b[0;34m\u001b[0m\u001b[0m\n\u001b[1;32m   1854\u001b[0m \u001b[0;34m\u001b[0m\u001b[0m\n",
      "\u001b[0;31mIndexError\u001b[0m: index out of range in self"
     ]
    }
   ],
   "source": [
    "model(word_seq_tensor, feature_seq_tensors[0], feature_seq_tensors[1], word_seq_lengths, char_seq_tensor, char_seq_lengths, char_seq_recover, phone_seq_tensor, phone_seq_lengths, phone_seq_recover)\n"
   ]
  },
  {
   "cell_type": "code",
   "execution_count": 30,
   "metadata": {},
   "outputs": [],
   "source": [
    "s = \"Said I'm sorry baby ,  said forgive me baby\\nNow you ain't never seen me on one\"\n",
    "tokens = re.split(\"[ ]+\", s)"
   ]
  },
  {
   "cell_type": "code",
   "execution_count": 31,
   "metadata": {},
   "outputs": [
    {
     "data": {
      "text/plain": [
       "['Said',\n",
       " \"I'm\",\n",
       " 'sorry',\n",
       " 'baby',\n",
       " ',',\n",
       " 'said',\n",
       " 'forgive',\n",
       " 'me',\n",
       " 'baby\\nNow',\n",
       " 'you',\n",
       " \"ain't\",\n",
       " 'never',\n",
       " 'seen',\n",
       " 'me',\n",
       " 'on',\n",
       " 'one']"
      ]
     },
     "execution_count": 31,
     "metadata": {},
     "output_type": "execute_result"
    }
   ],
   "source": [
    "tokens"
   ]
  },
  {
   "cell_type": "code",
   "execution_count": null,
   "metadata": {},
   "outputs": [],
   "source": []
  }
 ],
 "metadata": {
  "kernelspec": {
   "display_name": "Python 3",
   "language": "python",
   "name": "python3"
  },
  "language_info": {
   "codemirror_mode": {
    "name": "ipython",
    "version": 3
   },
   "file_extension": ".py",
   "mimetype": "text/x-python",
   "name": "python",
   "nbconvert_exporter": "python",
   "pygments_lexer": "ipython3",
   "version": "3.7.6"
  }
 },
 "nbformat": 4,
 "nbformat_minor": 4
}
